{
 "cells": [
  {
   "cell_type": "markdown",
   "id": "6831b017",
   "metadata": {},
   "source": [
    "# Spaceship. Part 5.\n",
    "## Hyperparameters tuning \n",
    "\n",
    "We'll load our prepared in Part 4 data, as well as the scores DataFrame, and set random seed:"
   ]
  },
  {
   "cell_type": "code",
   "execution_count": 1,
   "id": "013ca3b7",
   "metadata": {},
   "outputs": [],
   "source": [
    "# Random seed for reproducibility\n",
    "SEED = 123\n",
    "\n",
    "import pandas as pd\n",
    "\n",
    "train = pd.read_csv('04_train_prepared.csv', index_col=0)\n",
    "test =  pd.read_csv('04_test_prepared.csv', index_col=0)\n",
    "scores_df = pd.read_csv('04_scores_df.csv', index_col=0)"
   ]
  },
  {
   "cell_type": "markdown",
   "id": "4451cd37",
   "metadata": {},
   "source": [
    "Next, we'll create train_evaluate function, that will return average cross-validation ROC AUC score for a given set of parameters:"
   ]
  },
  {
   "cell_type": "code",
   "execution_count": 2,
   "id": "e8b66f8f",
   "metadata": {},
   "outputs": [],
   "source": [
    "import numpy as np\n",
    "from sklearn.metrics import roc_auc_score\n",
    "from sklearn.model_selection import StratifiedKFold\n",
    "\n",
    "def train_evaluate(params):\n",
    "    '''\n",
    "    This function takes a train set, as well as a classifier for cross validation and parameters for that classifier.\n",
    "    \n",
    "    It returns average cross-validated ROC AUC score.\n",
    "    '''\n",
    "\n",
    "    # Set parameters for the model\n",
    "    model.set_params(**params)\n",
    "\n",
    "    \n",
    "    # Create a StratifiedKFold object (6 splits with equal proportion of positive target values)\n",
    "    skf = StratifiedKFold(n_splits=6, shuffle=True, random_state=SEED)\n",
    "    \n",
    "    # An empty list for collecting scores\n",
    "    train_roc_auc_scores = []\n",
    "    \n",
    "    # Iterate through folds\n",
    "    for train_index, cv_index in skf.split(train.drop('Transported', axis=1), train['Transported']):\n",
    "        # Obtain training and testing folds\n",
    "        cv_train, cv_test = train.iloc[train_index], train.iloc[cv_index]\n",
    "        \n",
    "        # Fit the model\n",
    "        model.fit(cv_train.drop('Transported', axis=1), cv_train['Transported']) \n",
    "        \n",
    "        # Calculate ROC AUC score and append to the scores lists\n",
    "        train_pred_proba = model.predict_proba(cv_train.drop('Transported', axis=1))[:, 1]\n",
    "        train_roc_auc_scores.append(roc_auc_score(cv_train['Transported'], train_pred_proba))\n",
    "        \n",
    "    return np.mean(train_roc_auc_scores)\n",
    "        "
   ]
  },
  {
   "cell_type": "markdown",
   "id": "823d94fc",
   "metadata": {},
   "source": [
    "We'll also define our classifier. We'll put n_estimators to 100 for speed. Greater number may increase performance."
   ]
  },
  {
   "cell_type": "code",
   "execution_count": 3,
   "id": "0dfc5e50",
   "metadata": {},
   "outputs": [
    {
     "name": "stdout",
     "output_type": "stream",
     "text": [
      "RandomForestClassifier(n_jobs=-1, random_state=123)\n"
     ]
    }
   ],
   "source": [
    "# Prepare our best model for training\n",
    "from sklearn.ensemble import RandomForestClassifier\n",
    "model = RandomForestClassifier(random_state=SEED,\n",
    "                               n_estimators= 100,\n",
    "                               n_jobs=-1\n",
    "                               )\n",
    "\n",
    "print(model)"
   ]
  },
  {
   "cell_type": "markdown",
   "id": "72a90bcb",
   "metadata": {},
   "source": [
    "We'll use Optuna for our tuning. For this, we'll need to create a study:"
   ]
  },
  {
   "cell_type": "code",
   "execution_count": 4,
   "id": "88918f9a",
   "metadata": {},
   "outputs": [
    {
     "name": "stderr",
     "output_type": "stream",
     "text": [
      "[I 2023-07-28 12:22:31,960] A new study created in memory with name: 04_RF\n"
     ]
    }
   ],
   "source": [
    "import optuna\n",
    "\n",
    "study = optuna.create_study(study_name='04_RF', direction='maximize')"
   ]
  },
  {
   "cell_type": "markdown",
   "id": "2bb6fa0b",
   "metadata": {},
   "source": [
    "Next, we need to define objective function to optimize, which contains range of parameters for search. We'll need to redefine this function in order to change the ranges of search."
   ]
  },
  {
   "cell_type": "code",
   "execution_count": 5,
   "id": "918a091b",
   "metadata": {},
   "outputs": [],
   "source": [
    "def objective(trial):\n",
    "    params = {\n",
    "        # 'n_estimators': optuna.distributions.IntDistribution(100, 1000),\n",
    "        # 'criterion': optuna.distributions.CategoricalDistribution(['log_loss', 'entropy']),\n",
    "        'criterion': trial.suggest_categorical('criterion', ['log_loss', 'gini']),\n",
    "        'max_depth': trial.suggest_int('max_depth', 2, 20),\n",
    "        'max_features': trial.suggest_int('max_features', 1, 15),\n",
    "        'max_leaf_nodes': trial.suggest_int('max_leaf_nodes', 20, 80),\n",
    "        \"min_impurity_decrease\": trial.suggest_float(\"min_impurity_decrease\", 1e-7, 5e-7, log=True),\n",
    "        'min_samples_leaf': trial.suggest_int('min_samples_leaf', 2, 20),\n",
    "        'ccp_alpha': trial.suggest_float('ccp_alpha', 0, 0.4),\n",
    "        'max_samples': trial.suggest_float('max_samples', 0.5, 1)\n",
    "             \n",
    "         }\n",
    "    return train_evaluate(train)"
   ]
  },
  {
   "cell_type": "markdown",
   "id": "2297decb",
   "metadata": {},
   "source": [
    "Now we can run our study. Let's run it for ~1 minute (60 seconds):"
   ]
  },
  {
   "cell_type": "code",
   "execution_count": 6,
   "id": "be6f0101",
   "metadata": {},
   "outputs": [
    {
     "name": "stderr",
     "output_type": "stream",
     "text": [
      "[W 2023-07-28 12:22:31,987] Trial 0 failed with parameters: {'criterion': 'log_loss', 'max_depth': 14, 'max_features': 11, 'max_leaf_nodes': 27, 'min_impurity_decrease': 1.5048661553436468e-07, 'min_samples_leaf': 3, 'ccp_alpha': 0.285561258444964, 'max_samples': 0.6457625368080321} because of the following error: ValueError(\"Invalid parameter 'Age' for estimator RandomForestClassifier(n_jobs=-1, random_state=123). Valid parameters are: ['bootstrap', 'ccp_alpha', 'class_weight', 'criterion', 'max_depth', 'max_features', 'max_leaf_nodes', 'max_samples', 'min_impurity_decrease', 'min_samples_leaf', 'min_samples_split', 'min_weight_fraction_leaf', 'n_estimators', 'n_jobs', 'oob_score', 'random_state', 'verbose', 'warm_start'].\").\n",
      "Traceback (most recent call last):\n",
      "  File \"C:\\Users\\mikej\\anaconda3\\lib\\site-packages\\optuna\\study\\_optimize.py\", line 200, in _run_trial\n",
      "    value_or_values = func(trial)\n",
      "  File \"C:\\Users\\mikej\\AppData\\Local\\Temp\\ipykernel_31152\\189726306.py\", line 15, in objective\n",
      "    return train_evaluate(train)\n",
      "  File \"C:\\Users\\mikej\\AppData\\Local\\Temp\\ipykernel_31152\\2497249478.py\", line 13, in train_evaluate\n",
      "    model.set_params(**params)\n",
      "  File \"C:\\Users\\mikej\\anaconda3\\lib\\site-packages\\sklearn\\base.py\", line 205, in set_params\n",
      "    raise ValueError(\n",
      "ValueError: Invalid parameter 'Age' for estimator RandomForestClassifier(n_jobs=-1, random_state=123). Valid parameters are: ['bootstrap', 'ccp_alpha', 'class_weight', 'criterion', 'max_depth', 'max_features', 'max_leaf_nodes', 'max_samples', 'min_impurity_decrease', 'min_samples_leaf', 'min_samples_split', 'min_weight_fraction_leaf', 'n_estimators', 'n_jobs', 'oob_score', 'random_state', 'verbose', 'warm_start'].\n",
      "[W 2023-07-28 12:22:31,991] Trial 1 failed with parameters: {'criterion': 'log_loss', 'max_depth': 9, 'max_features': 12, 'max_leaf_nodes': 53, 'min_impurity_decrease': 4.056354125413832e-07, 'min_samples_leaf': 16, 'ccp_alpha': 0.031960407616604104, 'max_samples': 0.9681497164083397} because of the following error: ValueError(\"Invalid parameter 'Age' for estimator RandomForestClassifier(n_jobs=-1, random_state=123). Valid parameters are: ['bootstrap', 'ccp_alpha', 'class_weight', 'criterion', 'max_depth', 'max_features', 'max_leaf_nodes', 'max_samples', 'min_impurity_decrease', 'min_samples_leaf', 'min_samples_split', 'min_weight_fraction_leaf', 'n_estimators', 'n_jobs', 'oob_score', 'random_state', 'verbose', 'warm_start'].\").\n",
      "Traceback (most recent call last):\n",
      "  File \"C:\\Users\\mikej\\anaconda3\\lib\\site-packages\\optuna\\study\\_optimize.py\", line 200, in _run_trial\n",
      "    value_or_values = func(trial)\n",
      "  File \"C:\\Users\\mikej\\AppData\\Local\\Temp\\ipykernel_31152\\189726306.py\", line 15, in objective\n",
      "    return train_evaluate(train)\n",
      "  File \"C:\\Users\\mikej\\AppData\\Local\\Temp\\ipykernel_31152\\2497249478.py\", line 13, in train_evaluate\n",
      "    model.set_params(**params)\n",
      "  File \"C:\\Users\\mikej\\anaconda3\\lib\\site-packages\\sklearn\\base.py\", line 205, in set_params\n",
      "    raise ValueError(\n",
      "ValueError: Invalid parameter 'Age' for estimator RandomForestClassifier(n_jobs=-1, random_state=123). Valid parameters are: ['bootstrap', 'ccp_alpha', 'class_weight', 'criterion', 'max_depth', 'max_features', 'max_leaf_nodes', 'max_samples', 'min_impurity_decrease', 'min_samples_leaf', 'min_samples_split', 'min_weight_fraction_leaf', 'n_estimators', 'n_jobs', 'oob_score', 'random_state', 'verbose', 'warm_start'].\n",
      "[W 2023-07-28 12:22:31,994] Trial 2 failed with parameters: {'criterion': 'log_loss', 'max_depth': 15, 'max_features': 7, 'max_leaf_nodes': 31, 'min_impurity_decrease': 1.2692154798467813e-07, 'min_samples_leaf': 15, 'ccp_alpha': 0.23933965855078487, 'max_samples': 0.6498324130772424} because of the following error: ValueError(\"Invalid parameter 'Age' for estimator RandomForestClassifier(n_jobs=-1, random_state=123). Valid parameters are: ['bootstrap', 'ccp_alpha', 'class_weight', 'criterion', 'max_depth', 'max_features', 'max_leaf_nodes', 'max_samples', 'min_impurity_decrease', 'min_samples_leaf', 'min_samples_split', 'min_weight_fraction_leaf', 'n_estimators', 'n_jobs', 'oob_score', 'random_state', 'verbose', 'warm_start'].\").\n",
      "Traceback (most recent call last):\n",
      "  File \"C:\\Users\\mikej\\anaconda3\\lib\\site-packages\\optuna\\study\\_optimize.py\", line 200, in _run_trial\n",
      "    value_or_values = func(trial)\n",
      "  File \"C:\\Users\\mikej\\AppData\\Local\\Temp\\ipykernel_31152\\189726306.py\", line 15, in objective\n",
      "    return train_evaluate(train)\n",
      "  File \"C:\\Users\\mikej\\AppData\\Local\\Temp\\ipykernel_31152\\2497249478.py\", line 13, in train_evaluate\n",
      "    model.set_params(**params)\n",
      "  File \"C:\\Users\\mikej\\anaconda3\\lib\\site-packages\\sklearn\\base.py\", line 205, in set_params\n",
      "    raise ValueError(\n",
      "ValueError: Invalid parameter 'Age' for estimator RandomForestClassifier(n_jobs=-1, random_state=123). Valid parameters are: ['bootstrap', 'ccp_alpha', 'class_weight', 'criterion', 'max_depth', 'max_features', 'max_leaf_nodes', 'max_samples', 'min_impurity_decrease', 'min_samples_leaf', 'min_samples_split', 'min_weight_fraction_leaf', 'n_estimators', 'n_jobs', 'oob_score', 'random_state', 'verbose', 'warm_start'].\n",
      "[W 2023-07-28 12:22:31,996] Trial 3 failed with parameters: {'criterion': 'gini', 'max_depth': 16, 'max_features': 12, 'max_leaf_nodes': 76, 'min_impurity_decrease': 1.325318054528742e-07, 'min_samples_leaf': 14, 'ccp_alpha': 0.39951447605875745, 'max_samples': 0.7302120411419858} because of the following error: ValueError(\"Invalid parameter 'Age' for estimator RandomForestClassifier(n_jobs=-1, random_state=123). Valid parameters are: ['bootstrap', 'ccp_alpha', 'class_weight', 'criterion', 'max_depth', 'max_features', 'max_leaf_nodes', 'max_samples', 'min_impurity_decrease', 'min_samples_leaf', 'min_samples_split', 'min_weight_fraction_leaf', 'n_estimators', 'n_jobs', 'oob_score', 'random_state', 'verbose', 'warm_start'].\").\n",
      "Traceback (most recent call last):\n",
      "  File \"C:\\Users\\mikej\\anaconda3\\lib\\site-packages\\optuna\\study\\_optimize.py\", line 200, in _run_trial\n",
      "    value_or_values = func(trial)\n",
      "  File \"C:\\Users\\mikej\\AppData\\Local\\Temp\\ipykernel_31152\\189726306.py\", line 15, in objective\n",
      "    return train_evaluate(train)\n",
      "  File \"C:\\Users\\mikej\\AppData\\Local\\Temp\\ipykernel_31152\\2497249478.py\", line 13, in train_evaluate\n",
      "    model.set_params(**params)\n",
      "  File \"C:\\Users\\mikej\\anaconda3\\lib\\site-packages\\sklearn\\base.py\", line 205, in set_params\n",
      "    raise ValueError(\n",
      "ValueError: Invalid parameter 'Age' for estimator RandomForestClassifier(n_jobs=-1, random_state=123). Valid parameters are: ['bootstrap', 'ccp_alpha', 'class_weight', 'criterion', 'max_depth', 'max_features', 'max_leaf_nodes', 'max_samples', 'min_impurity_decrease', 'min_samples_leaf', 'min_samples_split', 'min_weight_fraction_leaf', 'n_estimators', 'n_jobs', 'oob_score', 'random_state', 'verbose', 'warm_start'].\n",
      "[W 2023-07-28 12:22:31,998] Trial 4 failed with parameters: {'criterion': 'gini', 'max_depth': 14, 'max_features': 5, 'max_leaf_nodes': 42, 'min_impurity_decrease': 2.112736765846198e-07, 'min_samples_leaf': 5, 'ccp_alpha': 0.19619561165633478, 'max_samples': 0.9715373607452074} because of the following error: ValueError(\"Invalid parameter 'Age' for estimator RandomForestClassifier(n_jobs=-1, random_state=123). Valid parameters are: ['bootstrap', 'ccp_alpha', 'class_weight', 'criterion', 'max_depth', 'max_features', 'max_leaf_nodes', 'max_samples', 'min_impurity_decrease', 'min_samples_leaf', 'min_samples_split', 'min_weight_fraction_leaf', 'n_estimators', 'n_jobs', 'oob_score', 'random_state', 'verbose', 'warm_start'].\").\n",
      "Traceback (most recent call last):\n",
      "  File \"C:\\Users\\mikej\\anaconda3\\lib\\site-packages\\optuna\\study\\_optimize.py\", line 200, in _run_trial\n",
      "    value_or_values = func(trial)\n",
      "  File \"C:\\Users\\mikej\\AppData\\Local\\Temp\\ipykernel_31152\\189726306.py\", line 15, in objective\n",
      "    return train_evaluate(train)\n",
      "  File \"C:\\Users\\mikej\\AppData\\Local\\Temp\\ipykernel_31152\\2497249478.py\", line 13, in train_evaluate\n",
      "    model.set_params(**params)\n",
      "  File \"C:\\Users\\mikej\\anaconda3\\lib\\site-packages\\sklearn\\base.py\", line 205, in set_params\n",
      "    raise ValueError(\n",
      "ValueError: Invalid parameter 'Age' for estimator RandomForestClassifier(n_jobs=-1, random_state=123). Valid parameters are: ['bootstrap', 'ccp_alpha', 'class_weight', 'criterion', 'max_depth', 'max_features', 'max_leaf_nodes', 'max_samples', 'min_impurity_decrease', 'min_samples_leaf', 'min_samples_split', 'min_weight_fraction_leaf', 'n_estimators', 'n_jobs', 'oob_score', 'random_state', 'verbose', 'warm_start'].\n"
     ]
    },
    {
     "name": "stderr",
     "output_type": "stream",
     "text": [
      "[W 2023-07-28 12:22:32,001] Trial 5 failed with parameters: {'criterion': 'log_loss', 'max_depth': 8, 'max_features': 1, 'max_leaf_nodes': 56, 'min_impurity_decrease': 1.1846632171004268e-07, 'min_samples_leaf': 15, 'ccp_alpha': 0.3983466969012843, 'max_samples': 0.8369088475717932} because of the following error: ValueError(\"Invalid parameter 'Age' for estimator RandomForestClassifier(n_jobs=-1, random_state=123). Valid parameters are: ['bootstrap', 'ccp_alpha', 'class_weight', 'criterion', 'max_depth', 'max_features', 'max_leaf_nodes', 'max_samples', 'min_impurity_decrease', 'min_samples_leaf', 'min_samples_split', 'min_weight_fraction_leaf', 'n_estimators', 'n_jobs', 'oob_score', 'random_state', 'verbose', 'warm_start'].\").\n",
      "Traceback (most recent call last):\n",
      "  File \"C:\\Users\\mikej\\anaconda3\\lib\\site-packages\\optuna\\study\\_optimize.py\", line 200, in _run_trial\n",
      "    value_or_values = func(trial)\n",
      "  File \"C:\\Users\\mikej\\AppData\\Local\\Temp\\ipykernel_31152\\189726306.py\", line 15, in objective\n",
      "    return train_evaluate(train)\n",
      "  File \"C:\\Users\\mikej\\AppData\\Local\\Temp\\ipykernel_31152\\2497249478.py\", line 13, in train_evaluate\n",
      "    model.set_params(**params)\n",
      "  File \"C:\\Users\\mikej\\anaconda3\\lib\\site-packages\\sklearn\\base.py\", line 205, in set_params\n",
      "    raise ValueError(\n",
      "ValueError: Invalid parameter 'Age' for estimator RandomForestClassifier(n_jobs=-1, random_state=123). Valid parameters are: ['bootstrap', 'ccp_alpha', 'class_weight', 'criterion', 'max_depth', 'max_features', 'max_leaf_nodes', 'max_samples', 'min_impurity_decrease', 'min_samples_leaf', 'min_samples_split', 'min_weight_fraction_leaf', 'n_estimators', 'n_jobs', 'oob_score', 'random_state', 'verbose', 'warm_start'].\n",
      "[W 2023-07-28 12:22:32,002] Trial 6 failed with parameters: {'criterion': 'log_loss', 'max_depth': 7, 'max_features': 7, 'max_leaf_nodes': 63, 'min_impurity_decrease': 3.213509002193547e-07, 'min_samples_leaf': 2, 'ccp_alpha': 0.21141600356908336, 'max_samples': 0.7058316253371502} because of the following error: ValueError(\"Invalid parameter 'Age' for estimator RandomForestClassifier(n_jobs=-1, random_state=123). Valid parameters are: ['bootstrap', 'ccp_alpha', 'class_weight', 'criterion', 'max_depth', 'max_features', 'max_leaf_nodes', 'max_samples', 'min_impurity_decrease', 'min_samples_leaf', 'min_samples_split', 'min_weight_fraction_leaf', 'n_estimators', 'n_jobs', 'oob_score', 'random_state', 'verbose', 'warm_start'].\").\n",
      "Traceback (most recent call last):\n",
      "  File \"C:\\Users\\mikej\\anaconda3\\lib\\site-packages\\optuna\\study\\_optimize.py\", line 200, in _run_trial\n",
      "    value_or_values = func(trial)\n",
      "  File \"C:\\Users\\mikej\\AppData\\Local\\Temp\\ipykernel_31152\\189726306.py\", line 15, in objective\n",
      "    return train_evaluate(train)\n",
      "  File \"C:\\Users\\mikej\\AppData\\Local\\Temp\\ipykernel_31152\\2497249478.py\", line 13, in train_evaluate\n",
      "    model.set_params(**params)\n",
      "  File \"C:\\Users\\mikej\\anaconda3\\lib\\site-packages\\sklearn\\base.py\", line 205, in set_params\n",
      "    raise ValueError(\n",
      "ValueError: Invalid parameter 'Age' for estimator RandomForestClassifier(n_jobs=-1, random_state=123). Valid parameters are: ['bootstrap', 'ccp_alpha', 'class_weight', 'criterion', 'max_depth', 'max_features', 'max_leaf_nodes', 'max_samples', 'min_impurity_decrease', 'min_samples_leaf', 'min_samples_split', 'min_weight_fraction_leaf', 'n_estimators', 'n_jobs', 'oob_score', 'random_state', 'verbose', 'warm_start'].\n",
      "[W 2023-07-28 12:22:32,005] Trial 7 failed with parameters: {'criterion': 'gini', 'max_depth': 14, 'max_features': 11, 'max_leaf_nodes': 59, 'min_impurity_decrease': 1.085952142591232e-07, 'min_samples_leaf': 14, 'ccp_alpha': 0.20553503613623347, 'max_samples': 0.989819065608863} because of the following error: ValueError(\"Invalid parameter 'Age' for estimator RandomForestClassifier(n_jobs=-1, random_state=123). Valid parameters are: ['bootstrap', 'ccp_alpha', 'class_weight', 'criterion', 'max_depth', 'max_features', 'max_leaf_nodes', 'max_samples', 'min_impurity_decrease', 'min_samples_leaf', 'min_samples_split', 'min_weight_fraction_leaf', 'n_estimators', 'n_jobs', 'oob_score', 'random_state', 'verbose', 'warm_start'].\").\n",
      "Traceback (most recent call last):\n",
      "  File \"C:\\Users\\mikej\\anaconda3\\lib\\site-packages\\optuna\\study\\_optimize.py\", line 200, in _run_trial\n",
      "    value_or_values = func(trial)\n",
      "  File \"C:\\Users\\mikej\\AppData\\Local\\Temp\\ipykernel_31152\\189726306.py\", line 15, in objective\n",
      "    return train_evaluate(train)\n",
      "  File \"C:\\Users\\mikej\\AppData\\Local\\Temp\\ipykernel_31152\\2497249478.py\", line 13, in train_evaluate\n",
      "    model.set_params(**params)\n",
      "  File \"C:\\Users\\mikej\\anaconda3\\lib\\site-packages\\sklearn\\base.py\", line 205, in set_params\n",
      "    raise ValueError(\n",
      "ValueError: Invalid parameter 'Age' for estimator RandomForestClassifier(n_jobs=-1, random_state=123). Valid parameters are: ['bootstrap', 'ccp_alpha', 'class_weight', 'criterion', 'max_depth', 'max_features', 'max_leaf_nodes', 'max_samples', 'min_impurity_decrease', 'min_samples_leaf', 'min_samples_split', 'min_weight_fraction_leaf', 'n_estimators', 'n_jobs', 'oob_score', 'random_state', 'verbose', 'warm_start'].\n",
      "[W 2023-07-28 12:22:32,007] Trial 8 failed with parameters: {'criterion': 'gini', 'max_depth': 3, 'max_features': 11, 'max_leaf_nodes': 66, 'min_impurity_decrease': 2.0465865177850625e-07, 'min_samples_leaf': 19, 'ccp_alpha': 0.31710668303692713, 'max_samples': 0.584742653357788} because of the following error: ValueError(\"Invalid parameter 'Age' for estimator RandomForestClassifier(n_jobs=-1, random_state=123). Valid parameters are: ['bootstrap', 'ccp_alpha', 'class_weight', 'criterion', 'max_depth', 'max_features', 'max_leaf_nodes', 'max_samples', 'min_impurity_decrease', 'min_samples_leaf', 'min_samples_split', 'min_weight_fraction_leaf', 'n_estimators', 'n_jobs', 'oob_score', 'random_state', 'verbose', 'warm_start'].\").\n",
      "Traceback (most recent call last):\n",
      "  File \"C:\\Users\\mikej\\anaconda3\\lib\\site-packages\\optuna\\study\\_optimize.py\", line 200, in _run_trial\n",
      "    value_or_values = func(trial)\n",
      "  File \"C:\\Users\\mikej\\AppData\\Local\\Temp\\ipykernel_31152\\189726306.py\", line 15, in objective\n",
      "    return train_evaluate(train)\n",
      "  File \"C:\\Users\\mikej\\AppData\\Local\\Temp\\ipykernel_31152\\2497249478.py\", line 13, in train_evaluate\n",
      "    model.set_params(**params)\n",
      "  File \"C:\\Users\\mikej\\anaconda3\\lib\\site-packages\\sklearn\\base.py\", line 205, in set_params\n",
      "    raise ValueError(\n",
      "ValueError: Invalid parameter 'Age' for estimator RandomForestClassifier(n_jobs=-1, random_state=123). Valid parameters are: ['bootstrap', 'ccp_alpha', 'class_weight', 'criterion', 'max_depth', 'max_features', 'max_leaf_nodes', 'max_samples', 'min_impurity_decrease', 'min_samples_leaf', 'min_samples_split', 'min_weight_fraction_leaf', 'n_estimators', 'n_jobs', 'oob_score', 'random_state', 'verbose', 'warm_start'].\n",
      "[W 2023-07-28 12:22:32,011] Trial 9 failed with parameters: {'criterion': 'gini', 'max_depth': 4, 'max_features': 3, 'max_leaf_nodes': 71, 'min_impurity_decrease': 3.971637833290929e-07, 'min_samples_leaf': 18, 'ccp_alpha': 0.16640109446781853, 'max_samples': 0.7128629302368378} because of the following error: ValueError(\"Invalid parameter 'Age' for estimator RandomForestClassifier(n_jobs=-1, random_state=123). Valid parameters are: ['bootstrap', 'ccp_alpha', 'class_weight', 'criterion', 'max_depth', 'max_features', 'max_leaf_nodes', 'max_samples', 'min_impurity_decrease', 'min_samples_leaf', 'min_samples_split', 'min_weight_fraction_leaf', 'n_estimators', 'n_jobs', 'oob_score', 'random_state', 'verbose', 'warm_start'].\").\n",
      "Traceback (most recent call last):\n",
      "  File \"C:\\Users\\mikej\\anaconda3\\lib\\site-packages\\optuna\\study\\_optimize.py\", line 200, in _run_trial\n",
      "    value_or_values = func(trial)\n",
      "  File \"C:\\Users\\mikej\\AppData\\Local\\Temp\\ipykernel_31152\\189726306.py\", line 15, in objective\n",
      "    return train_evaluate(train)\n",
      "  File \"C:\\Users\\mikej\\AppData\\Local\\Temp\\ipykernel_31152\\2497249478.py\", line 13, in train_evaluate\n",
      "    model.set_params(**params)\n",
      "  File \"C:\\Users\\mikej\\anaconda3\\lib\\site-packages\\sklearn\\base.py\", line 205, in set_params\n",
      "    raise ValueError(\n",
      "ValueError: Invalid parameter 'Age' for estimator RandomForestClassifier(n_jobs=-1, random_state=123). Valid parameters are: ['bootstrap', 'ccp_alpha', 'class_weight', 'criterion', 'max_depth', 'max_features', 'max_leaf_nodes', 'max_samples', 'min_impurity_decrease', 'min_samples_leaf', 'min_samples_split', 'min_weight_fraction_leaf', 'n_estimators', 'n_jobs', 'oob_score', 'random_state', 'verbose', 'warm_start'].\n"
     ]
    },
    {
     "name": "stderr",
     "output_type": "stream",
     "text": [
      "[W 2023-07-28 12:22:32,013] Trial 10 failed with parameters: {'criterion': 'log_loss', 'max_depth': 7, 'max_features': 14, 'max_leaf_nodes': 61, 'min_impurity_decrease': 3.615880523510054e-07, 'min_samples_leaf': 10, 'ccp_alpha': 0.15844399221018102, 'max_samples': 0.8984496320239985} because of the following error: ValueError(\"Invalid parameter 'Age' for estimator RandomForestClassifier(n_jobs=-1, random_state=123). Valid parameters are: ['bootstrap', 'ccp_alpha', 'class_weight', 'criterion', 'max_depth', 'max_features', 'max_leaf_nodes', 'max_samples', 'min_impurity_decrease', 'min_samples_leaf', 'min_samples_split', 'min_weight_fraction_leaf', 'n_estimators', 'n_jobs', 'oob_score', 'random_state', 'verbose', 'warm_start'].\").\n",
      "Traceback (most recent call last):\n",
      "  File \"C:\\Users\\mikej\\anaconda3\\lib\\site-packages\\optuna\\study\\_optimize.py\", line 200, in _run_trial\n",
      "    value_or_values = func(trial)\n",
      "  File \"C:\\Users\\mikej\\AppData\\Local\\Temp\\ipykernel_31152\\189726306.py\", line 15, in objective\n",
      "    return train_evaluate(train)\n",
      "  File \"C:\\Users\\mikej\\AppData\\Local\\Temp\\ipykernel_31152\\2497249478.py\", line 13, in train_evaluate\n",
      "    model.set_params(**params)\n",
      "  File \"C:\\Users\\mikej\\anaconda3\\lib\\site-packages\\sklearn\\base.py\", line 205, in set_params\n",
      "    raise ValueError(\n",
      "ValueError: Invalid parameter 'Age' for estimator RandomForestClassifier(n_jobs=-1, random_state=123). Valid parameters are: ['bootstrap', 'ccp_alpha', 'class_weight', 'criterion', 'max_depth', 'max_features', 'max_leaf_nodes', 'max_samples', 'min_impurity_decrease', 'min_samples_leaf', 'min_samples_split', 'min_weight_fraction_leaf', 'n_estimators', 'n_jobs', 'oob_score', 'random_state', 'verbose', 'warm_start'].\n",
      "[W 2023-07-28 12:22:32,016] Trial 11 failed with parameters: {'criterion': 'gini', 'max_depth': 12, 'max_features': 15, 'max_leaf_nodes': 66, 'min_impurity_decrease': 2.6176888217983533e-07, 'min_samples_leaf': 20, 'ccp_alpha': 0.0054201610884882625, 'max_samples': 0.5736005913475002} because of the following error: ValueError(\"Invalid parameter 'Age' for estimator RandomForestClassifier(n_jobs=-1, random_state=123). Valid parameters are: ['bootstrap', 'ccp_alpha', 'class_weight', 'criterion', 'max_depth', 'max_features', 'max_leaf_nodes', 'max_samples', 'min_impurity_decrease', 'min_samples_leaf', 'min_samples_split', 'min_weight_fraction_leaf', 'n_estimators', 'n_jobs', 'oob_score', 'random_state', 'verbose', 'warm_start'].\").\n",
      "Traceback (most recent call last):\n",
      "  File \"C:\\Users\\mikej\\anaconda3\\lib\\site-packages\\optuna\\study\\_optimize.py\", line 200, in _run_trial\n",
      "    value_or_values = func(trial)\n",
      "  File \"C:\\Users\\mikej\\AppData\\Local\\Temp\\ipykernel_31152\\189726306.py\", line 15, in objective\n",
      "    return train_evaluate(train)\n",
      "  File \"C:\\Users\\mikej\\AppData\\Local\\Temp\\ipykernel_31152\\2497249478.py\", line 13, in train_evaluate\n",
      "    model.set_params(**params)\n",
      "  File \"C:\\Users\\mikej\\anaconda3\\lib\\site-packages\\sklearn\\base.py\", line 205, in set_params\n",
      "    raise ValueError(\n",
      "ValueError: Invalid parameter 'Age' for estimator RandomForestClassifier(n_jobs=-1, random_state=123). Valid parameters are: ['bootstrap', 'ccp_alpha', 'class_weight', 'criterion', 'max_depth', 'max_features', 'max_leaf_nodes', 'max_samples', 'min_impurity_decrease', 'min_samples_leaf', 'min_samples_split', 'min_weight_fraction_leaf', 'n_estimators', 'n_jobs', 'oob_score', 'random_state', 'verbose', 'warm_start'].\n",
      "[W 2023-07-28 12:22:32,016] Trial 0 failed with value None.\n",
      "[W 2023-07-28 12:22:32,018] Trial 1 failed with value None.\n",
      "[W 2023-07-28 12:22:32,020] Trial 2 failed with value None.\n",
      "[W 2023-07-28 12:22:32,023] Trial 3 failed with value None.\n",
      "[W 2023-07-28 12:22:32,026] Trial 4 failed with value None.\n",
      "[W 2023-07-28 12:22:32,028] Trial 5 failed with value None.\n",
      "[W 2023-07-28 12:22:32,031] Trial 6 failed with value None.\n",
      "[W 2023-07-28 12:22:32,034] Trial 7 failed with value None.\n",
      "[W 2023-07-28 12:22:32,037] Trial 8 failed with value None.\n",
      "[W 2023-07-28 12:22:32,039] Trial 9 failed with value None.\n",
      "[W 2023-07-28 12:22:32,041] Trial 10 failed with value None.\n",
      "[W 2023-07-28 12:22:32,044] Trial 11 failed with value None.\n"
     ]
    },
    {
     "ename": "ValueError",
     "evalue": "Invalid parameter 'Age' for estimator RandomForestClassifier(n_jobs=-1, random_state=123). Valid parameters are: ['bootstrap', 'ccp_alpha', 'class_weight', 'criterion', 'max_depth', 'max_features', 'max_leaf_nodes', 'max_samples', 'min_impurity_decrease', 'min_samples_leaf', 'min_samples_split', 'min_weight_fraction_leaf', 'n_estimators', 'n_jobs', 'oob_score', 'random_state', 'verbose', 'warm_start'].",
     "output_type": "error",
     "traceback": [
      "\u001b[1;31m---------------------------------------------------------------------------\u001b[0m",
      "\u001b[1;31mValueError\u001b[0m                                Traceback (most recent call last)",
      "Cell \u001b[1;32mIn[6], line 1\u001b[0m\n\u001b[1;32m----> 1\u001b[0m \u001b[43mstudy\u001b[49m\u001b[38;5;241;43m.\u001b[39;49m\u001b[43moptimize\u001b[49m\u001b[43m(\u001b[49m\u001b[43mobjective\u001b[49m\u001b[43m,\u001b[49m\u001b[43m \u001b[49m\u001b[43mtimeout\u001b[49m\u001b[38;5;241;43m=\u001b[39;49m\u001b[38;5;241;43m60\u001b[39;49m\u001b[43m,\u001b[49m\u001b[43m \u001b[49m\u001b[43mn_jobs\u001b[49m\u001b[38;5;241;43m=\u001b[39;49m\u001b[38;5;241;43m-\u001b[39;49m\u001b[38;5;241;43m1\u001b[39;49m\u001b[43m)\u001b[49m\n",
      "File \u001b[1;32m~\\anaconda3\\lib\\site-packages\\optuna\\study\\study.py:443\u001b[0m, in \u001b[0;36mStudy.optimize\u001b[1;34m(self, func, n_trials, timeout, n_jobs, catch, callbacks, gc_after_trial, show_progress_bar)\u001b[0m\n\u001b[0;32m    339\u001b[0m \u001b[38;5;28;01mdef\u001b[39;00m \u001b[38;5;21moptimize\u001b[39m(\n\u001b[0;32m    340\u001b[0m     \u001b[38;5;28mself\u001b[39m,\n\u001b[0;32m    341\u001b[0m     func: ObjectiveFuncType,\n\u001b[1;32m   (...)\u001b[0m\n\u001b[0;32m    348\u001b[0m     show_progress_bar: \u001b[38;5;28mbool\u001b[39m \u001b[38;5;241m=\u001b[39m \u001b[38;5;28;01mFalse\u001b[39;00m,\n\u001b[0;32m    349\u001b[0m ) \u001b[38;5;241m-\u001b[39m\u001b[38;5;241m>\u001b[39m \u001b[38;5;28;01mNone\u001b[39;00m:\n\u001b[0;32m    350\u001b[0m     \u001b[38;5;124;03m\"\"\"Optimize an objective function.\u001b[39;00m\n\u001b[0;32m    351\u001b[0m \n\u001b[0;32m    352\u001b[0m \u001b[38;5;124;03m    Optimization is done by choosing a suitable set of hyperparameter values from a given\u001b[39;00m\n\u001b[1;32m   (...)\u001b[0m\n\u001b[0;32m    440\u001b[0m \u001b[38;5;124;03m            If nested invocation of this method occurs.\u001b[39;00m\n\u001b[0;32m    441\u001b[0m \u001b[38;5;124;03m    \"\"\"\u001b[39;00m\n\u001b[1;32m--> 443\u001b[0m     \u001b[43m_optimize\u001b[49m\u001b[43m(\u001b[49m\n\u001b[0;32m    444\u001b[0m \u001b[43m        \u001b[49m\u001b[43mstudy\u001b[49m\u001b[38;5;241;43m=\u001b[39;49m\u001b[38;5;28;43mself\u001b[39;49m\u001b[43m,\u001b[49m\n\u001b[0;32m    445\u001b[0m \u001b[43m        \u001b[49m\u001b[43mfunc\u001b[49m\u001b[38;5;241;43m=\u001b[39;49m\u001b[43mfunc\u001b[49m\u001b[43m,\u001b[49m\n\u001b[0;32m    446\u001b[0m \u001b[43m        \u001b[49m\u001b[43mn_trials\u001b[49m\u001b[38;5;241;43m=\u001b[39;49m\u001b[43mn_trials\u001b[49m\u001b[43m,\u001b[49m\n\u001b[0;32m    447\u001b[0m \u001b[43m        \u001b[49m\u001b[43mtimeout\u001b[49m\u001b[38;5;241;43m=\u001b[39;49m\u001b[43mtimeout\u001b[49m\u001b[43m,\u001b[49m\n\u001b[0;32m    448\u001b[0m \u001b[43m        \u001b[49m\u001b[43mn_jobs\u001b[49m\u001b[38;5;241;43m=\u001b[39;49m\u001b[43mn_jobs\u001b[49m\u001b[43m,\u001b[49m\n\u001b[0;32m    449\u001b[0m \u001b[43m        \u001b[49m\u001b[43mcatch\u001b[49m\u001b[38;5;241;43m=\u001b[39;49m\u001b[38;5;28;43mtuple\u001b[39;49m\u001b[43m(\u001b[49m\u001b[43mcatch\u001b[49m\u001b[43m)\u001b[49m\u001b[43m \u001b[49m\u001b[38;5;28;43;01mif\u001b[39;49;00m\u001b[43m \u001b[49m\u001b[38;5;28;43misinstance\u001b[39;49m\u001b[43m(\u001b[49m\u001b[43mcatch\u001b[49m\u001b[43m,\u001b[49m\u001b[43m \u001b[49m\u001b[43mIterable\u001b[49m\u001b[43m)\u001b[49m\u001b[43m \u001b[49m\u001b[38;5;28;43;01melse\u001b[39;49;00m\u001b[43m \u001b[49m\u001b[43m(\u001b[49m\u001b[43mcatch\u001b[49m\u001b[43m,\u001b[49m\u001b[43m)\u001b[49m\u001b[43m,\u001b[49m\n\u001b[0;32m    450\u001b[0m \u001b[43m        \u001b[49m\u001b[43mcallbacks\u001b[49m\u001b[38;5;241;43m=\u001b[39;49m\u001b[43mcallbacks\u001b[49m\u001b[43m,\u001b[49m\n\u001b[0;32m    451\u001b[0m \u001b[43m        \u001b[49m\u001b[43mgc_after_trial\u001b[49m\u001b[38;5;241;43m=\u001b[39;49m\u001b[43mgc_after_trial\u001b[49m\u001b[43m,\u001b[49m\n\u001b[0;32m    452\u001b[0m \u001b[43m        \u001b[49m\u001b[43mshow_progress_bar\u001b[49m\u001b[38;5;241;43m=\u001b[39;49m\u001b[43mshow_progress_bar\u001b[49m\u001b[43m,\u001b[49m\n\u001b[0;32m    453\u001b[0m \u001b[43m    \u001b[49m\u001b[43m)\u001b[49m\n",
      "File \u001b[1;32m~\\anaconda3\\lib\\site-packages\\optuna\\study\\_optimize.py:103\u001b[0m, in \u001b[0;36m_optimize\u001b[1;34m(study, func, n_trials, timeout, n_jobs, catch, callbacks, gc_after_trial, show_progress_bar)\u001b[0m\n\u001b[0;32m    101\u001b[0m                     \u001b[38;5;66;03m# Raise if exception occurred in executing the completed futures.\u001b[39;00m\n\u001b[0;32m    102\u001b[0m                     \u001b[38;5;28;01mfor\u001b[39;00m f \u001b[38;5;129;01min\u001b[39;00m completed:\n\u001b[1;32m--> 103\u001b[0m                         \u001b[43mf\u001b[49m\u001b[38;5;241;43m.\u001b[39;49m\u001b[43mresult\u001b[49m\u001b[43m(\u001b[49m\u001b[43m)\u001b[49m\n\u001b[0;32m    105\u001b[0m                 futures\u001b[38;5;241m.\u001b[39madd(\n\u001b[0;32m    106\u001b[0m                     executor\u001b[38;5;241m.\u001b[39msubmit(\n\u001b[0;32m    107\u001b[0m                         _optimize_sequential,\n\u001b[1;32m   (...)\u001b[0m\n\u001b[0;32m    118\u001b[0m                     )\n\u001b[0;32m    119\u001b[0m                 )\n\u001b[0;32m    120\u001b[0m \u001b[38;5;28;01mfinally\u001b[39;00m:\n",
      "File \u001b[1;32m~\\anaconda3\\lib\\concurrent\\futures\\_base.py:451\u001b[0m, in \u001b[0;36mFuture.result\u001b[1;34m(self, timeout)\u001b[0m\n\u001b[0;32m    449\u001b[0m     \u001b[38;5;28;01mraise\u001b[39;00m CancelledError()\n\u001b[0;32m    450\u001b[0m \u001b[38;5;28;01melif\u001b[39;00m \u001b[38;5;28mself\u001b[39m\u001b[38;5;241m.\u001b[39m_state \u001b[38;5;241m==\u001b[39m FINISHED:\n\u001b[1;32m--> 451\u001b[0m     \u001b[38;5;28;01mreturn\u001b[39;00m \u001b[38;5;28;43mself\u001b[39;49m\u001b[38;5;241;43m.\u001b[39;49m\u001b[43m__get_result\u001b[49m\u001b[43m(\u001b[49m\u001b[43m)\u001b[49m\n\u001b[0;32m    453\u001b[0m \u001b[38;5;28mself\u001b[39m\u001b[38;5;241m.\u001b[39m_condition\u001b[38;5;241m.\u001b[39mwait(timeout)\n\u001b[0;32m    455\u001b[0m \u001b[38;5;28;01mif\u001b[39;00m \u001b[38;5;28mself\u001b[39m\u001b[38;5;241m.\u001b[39m_state \u001b[38;5;129;01min\u001b[39;00m [CANCELLED, CANCELLED_AND_NOTIFIED]:\n",
      "File \u001b[1;32m~\\anaconda3\\lib\\concurrent\\futures\\_base.py:403\u001b[0m, in \u001b[0;36mFuture.__get_result\u001b[1;34m(self)\u001b[0m\n\u001b[0;32m    401\u001b[0m \u001b[38;5;28;01mif\u001b[39;00m \u001b[38;5;28mself\u001b[39m\u001b[38;5;241m.\u001b[39m_exception:\n\u001b[0;32m    402\u001b[0m     \u001b[38;5;28;01mtry\u001b[39;00m:\n\u001b[1;32m--> 403\u001b[0m         \u001b[38;5;28;01mraise\u001b[39;00m \u001b[38;5;28mself\u001b[39m\u001b[38;5;241m.\u001b[39m_exception\n\u001b[0;32m    404\u001b[0m     \u001b[38;5;28;01mfinally\u001b[39;00m:\n\u001b[0;32m    405\u001b[0m         \u001b[38;5;66;03m# Break a reference cycle with the exception in self._exception\u001b[39;00m\n\u001b[0;32m    406\u001b[0m         \u001b[38;5;28mself\u001b[39m \u001b[38;5;241m=\u001b[39m \u001b[38;5;28;01mNone\u001b[39;00m\n",
      "File \u001b[1;32m~\\anaconda3\\lib\\concurrent\\futures\\thread.py:58\u001b[0m, in \u001b[0;36m_WorkItem.run\u001b[1;34m(self)\u001b[0m\n\u001b[0;32m     55\u001b[0m     \u001b[38;5;28;01mreturn\u001b[39;00m\n\u001b[0;32m     57\u001b[0m \u001b[38;5;28;01mtry\u001b[39;00m:\n\u001b[1;32m---> 58\u001b[0m     result \u001b[38;5;241m=\u001b[39m \u001b[38;5;28mself\u001b[39m\u001b[38;5;241m.\u001b[39mfn(\u001b[38;5;241m*\u001b[39m\u001b[38;5;28mself\u001b[39m\u001b[38;5;241m.\u001b[39margs, \u001b[38;5;241m*\u001b[39m\u001b[38;5;241m*\u001b[39m\u001b[38;5;28mself\u001b[39m\u001b[38;5;241m.\u001b[39mkwargs)\n\u001b[0;32m     59\u001b[0m \u001b[38;5;28;01mexcept\u001b[39;00m \u001b[38;5;167;01mBaseException\u001b[39;00m \u001b[38;5;28;01mas\u001b[39;00m exc:\n\u001b[0;32m     60\u001b[0m     \u001b[38;5;28mself\u001b[39m\u001b[38;5;241m.\u001b[39mfuture\u001b[38;5;241m.\u001b[39mset_exception(exc)\n",
      "File \u001b[1;32m~\\anaconda3\\lib\\site-packages\\optuna\\study\\_optimize.py:163\u001b[0m, in \u001b[0;36m_optimize_sequential\u001b[1;34m(study, func, n_trials, timeout, catch, callbacks, gc_after_trial, reseed_sampler_rng, time_start, progress_bar)\u001b[0m\n\u001b[0;32m    160\u001b[0m         \u001b[38;5;28;01mbreak\u001b[39;00m\n\u001b[0;32m    162\u001b[0m \u001b[38;5;28;01mtry\u001b[39;00m:\n\u001b[1;32m--> 163\u001b[0m     frozen_trial \u001b[38;5;241m=\u001b[39m \u001b[43m_run_trial\u001b[49m\u001b[43m(\u001b[49m\u001b[43mstudy\u001b[49m\u001b[43m,\u001b[49m\u001b[43m \u001b[49m\u001b[43mfunc\u001b[49m\u001b[43m,\u001b[49m\u001b[43m \u001b[49m\u001b[43mcatch\u001b[49m\u001b[43m)\u001b[49m\n\u001b[0;32m    164\u001b[0m \u001b[38;5;28;01mfinally\u001b[39;00m:\n\u001b[0;32m    165\u001b[0m     \u001b[38;5;66;03m# The following line mitigates memory problems that can be occurred in some\u001b[39;00m\n\u001b[0;32m    166\u001b[0m     \u001b[38;5;66;03m# environments (e.g., services that use computing containers such as GitHub Actions).\u001b[39;00m\n\u001b[0;32m    167\u001b[0m     \u001b[38;5;66;03m# Please refer to the following PR for further details:\u001b[39;00m\n\u001b[0;32m    168\u001b[0m     \u001b[38;5;66;03m# https://github.com/optuna/optuna/pull/325.\u001b[39;00m\n\u001b[0;32m    169\u001b[0m     \u001b[38;5;28;01mif\u001b[39;00m gc_after_trial:\n",
      "File \u001b[1;32m~\\anaconda3\\lib\\site-packages\\optuna\\study\\_optimize.py:251\u001b[0m, in \u001b[0;36m_run_trial\u001b[1;34m(study, func, catch)\u001b[0m\n\u001b[0;32m    244\u001b[0m         \u001b[38;5;28;01massert\u001b[39;00m \u001b[38;5;28;01mFalse\u001b[39;00m, \u001b[38;5;124m\"\u001b[39m\u001b[38;5;124mShould not reach.\u001b[39m\u001b[38;5;124m\"\u001b[39m\n\u001b[0;32m    246\u001b[0m \u001b[38;5;28;01mif\u001b[39;00m (\n\u001b[0;32m    247\u001b[0m     frozen_trial\u001b[38;5;241m.\u001b[39mstate \u001b[38;5;241m==\u001b[39m TrialState\u001b[38;5;241m.\u001b[39mFAIL\n\u001b[0;32m    248\u001b[0m     \u001b[38;5;129;01mand\u001b[39;00m func_err \u001b[38;5;129;01mis\u001b[39;00m \u001b[38;5;129;01mnot\u001b[39;00m \u001b[38;5;28;01mNone\u001b[39;00m\n\u001b[0;32m    249\u001b[0m     \u001b[38;5;129;01mand\u001b[39;00m \u001b[38;5;129;01mnot\u001b[39;00m \u001b[38;5;28misinstance\u001b[39m(func_err, catch)\n\u001b[0;32m    250\u001b[0m ):\n\u001b[1;32m--> 251\u001b[0m     \u001b[38;5;28;01mraise\u001b[39;00m func_err\n\u001b[0;32m    252\u001b[0m \u001b[38;5;28;01mreturn\u001b[39;00m frozen_trial\n",
      "File \u001b[1;32m~\\anaconda3\\lib\\site-packages\\optuna\\study\\_optimize.py:200\u001b[0m, in \u001b[0;36m_run_trial\u001b[1;34m(study, func, catch)\u001b[0m\n\u001b[0;32m    198\u001b[0m \u001b[38;5;28;01mwith\u001b[39;00m get_heartbeat_thread(trial\u001b[38;5;241m.\u001b[39m_trial_id, study\u001b[38;5;241m.\u001b[39m_storage):\n\u001b[0;32m    199\u001b[0m     \u001b[38;5;28;01mtry\u001b[39;00m:\n\u001b[1;32m--> 200\u001b[0m         value_or_values \u001b[38;5;241m=\u001b[39m \u001b[43mfunc\u001b[49m\u001b[43m(\u001b[49m\u001b[43mtrial\u001b[49m\u001b[43m)\u001b[49m\n\u001b[0;32m    201\u001b[0m     \u001b[38;5;28;01mexcept\u001b[39;00m exceptions\u001b[38;5;241m.\u001b[39mTrialPruned \u001b[38;5;28;01mas\u001b[39;00m e:\n\u001b[0;32m    202\u001b[0m         \u001b[38;5;66;03m# TODO(mamu): Handle multi-objective cases.\u001b[39;00m\n\u001b[0;32m    203\u001b[0m         state \u001b[38;5;241m=\u001b[39m TrialState\u001b[38;5;241m.\u001b[39mPRUNED\n",
      "Cell \u001b[1;32mIn[5], line 15\u001b[0m, in \u001b[0;36mobjective\u001b[1;34m(trial)\u001b[0m\n\u001b[0;32m      1\u001b[0m \u001b[38;5;28;01mdef\u001b[39;00m \u001b[38;5;21mobjective\u001b[39m(trial):\n\u001b[0;32m      2\u001b[0m     params \u001b[38;5;241m=\u001b[39m {\n\u001b[0;32m      3\u001b[0m         \u001b[38;5;66;03m# 'n_estimators': optuna.distributions.IntDistribution(100, 1000),\u001b[39;00m\n\u001b[0;32m      4\u001b[0m         \u001b[38;5;66;03m# 'criterion': optuna.distributions.CategoricalDistribution(['log_loss', 'entropy']),\u001b[39;00m\n\u001b[1;32m   (...)\u001b[0m\n\u001b[0;32m     13\u001b[0m              \n\u001b[0;32m     14\u001b[0m          }\n\u001b[1;32m---> 15\u001b[0m     \u001b[38;5;28;01mreturn\u001b[39;00m \u001b[43mtrain_evaluate\u001b[49m\u001b[43m(\u001b[49m\u001b[43mtrain\u001b[49m\u001b[43m)\u001b[49m\n",
      "Cell \u001b[1;32mIn[2], line 13\u001b[0m, in \u001b[0;36mtrain_evaluate\u001b[1;34m(params)\u001b[0m\n\u001b[0;32m      6\u001b[0m \u001b[38;5;124;03m'''\u001b[39;00m\n\u001b[0;32m      7\u001b[0m \u001b[38;5;124;03mThis function takes a train set, as well as a classifier for cross validation and parameters for that classifier.\u001b[39;00m\n\u001b[0;32m      8\u001b[0m \u001b[38;5;124;03m\u001b[39;00m\n\u001b[0;32m      9\u001b[0m \u001b[38;5;124;03mIt returns average cross-validated ROC AUC score.\u001b[39;00m\n\u001b[0;32m     10\u001b[0m \u001b[38;5;124;03m'''\u001b[39;00m\n\u001b[0;32m     12\u001b[0m \u001b[38;5;66;03m# Set parameters for the model\u001b[39;00m\n\u001b[1;32m---> 13\u001b[0m model\u001b[38;5;241m.\u001b[39mset_params(\u001b[38;5;241m*\u001b[39m\u001b[38;5;241m*\u001b[39mparams)\n\u001b[0;32m     16\u001b[0m \u001b[38;5;66;03m# Create a StratifiedKFold object (6 splits with equal proportion of positive target values)\u001b[39;00m\n\u001b[0;32m     17\u001b[0m skf \u001b[38;5;241m=\u001b[39m StratifiedKFold(n_splits\u001b[38;5;241m=\u001b[39m\u001b[38;5;241m6\u001b[39m, shuffle\u001b[38;5;241m=\u001b[39m\u001b[38;5;28;01mTrue\u001b[39;00m, random_state\u001b[38;5;241m=\u001b[39mSEED)\n",
      "File \u001b[1;32m~\\anaconda3\\lib\\site-packages\\sklearn\\base.py:205\u001b[0m, in \u001b[0;36mBaseEstimator.set_params\u001b[1;34m(self, **params)\u001b[0m\n\u001b[0;32m    203\u001b[0m \u001b[38;5;28;01mif\u001b[39;00m key \u001b[38;5;129;01mnot\u001b[39;00m \u001b[38;5;129;01min\u001b[39;00m valid_params:\n\u001b[0;32m    204\u001b[0m     local_valid_params \u001b[38;5;241m=\u001b[39m \u001b[38;5;28mself\u001b[39m\u001b[38;5;241m.\u001b[39m_get_param_names()\n\u001b[1;32m--> 205\u001b[0m     \u001b[38;5;28;01mraise\u001b[39;00m \u001b[38;5;167;01mValueError\u001b[39;00m(\n\u001b[0;32m    206\u001b[0m         \u001b[38;5;124mf\u001b[39m\u001b[38;5;124m\"\u001b[39m\u001b[38;5;124mInvalid parameter \u001b[39m\u001b[38;5;132;01m{\u001b[39;00mkey\u001b[38;5;132;01m!r}\u001b[39;00m\u001b[38;5;124m for estimator \u001b[39m\u001b[38;5;132;01m{\u001b[39;00m\u001b[38;5;28mself\u001b[39m\u001b[38;5;132;01m}\u001b[39;00m\u001b[38;5;124m. \u001b[39m\u001b[38;5;124m\"\u001b[39m\n\u001b[0;32m    207\u001b[0m         \u001b[38;5;124mf\u001b[39m\u001b[38;5;124m\"\u001b[39m\u001b[38;5;124mValid parameters are: \u001b[39m\u001b[38;5;132;01m{\u001b[39;00mlocal_valid_params\u001b[38;5;132;01m!r}\u001b[39;00m\u001b[38;5;124m.\u001b[39m\u001b[38;5;124m\"\u001b[39m\n\u001b[0;32m    208\u001b[0m     )\n\u001b[0;32m    210\u001b[0m \u001b[38;5;28;01mif\u001b[39;00m delim:\n\u001b[0;32m    211\u001b[0m     nested_params[key][sub_key] \u001b[38;5;241m=\u001b[39m value\n",
      "\u001b[1;31mValueError\u001b[0m: Invalid parameter 'Age' for estimator RandomForestClassifier(n_jobs=-1, random_state=123). Valid parameters are: ['bootstrap', 'ccp_alpha', 'class_weight', 'criterion', 'max_depth', 'max_features', 'max_leaf_nodes', 'max_samples', 'min_impurity_decrease', 'min_samples_leaf', 'min_samples_split', 'min_weight_fraction_leaf', 'n_estimators', 'n_jobs', 'oob_score', 'random_state', 'verbose', 'warm_start']."
     ]
    }
   ],
   "source": [
    "study.optimize(objective, timeout=60, n_jobs=-1)"
   ]
  },
  {
   "cell_type": "code",
   "execution_count": null,
   "id": "44fddb7e",
   "metadata": {},
   "outputs": [],
   "source": []
  },
  {
   "cell_type": "code",
   "execution_count": null,
   "id": "86c06554",
   "metadata": {},
   "outputs": [],
   "source": []
  }
 ],
 "metadata": {
  "kernelspec": {
   "display_name": "Python 3 (ipykernel)",
   "language": "python",
   "name": "python3"
  },
  "language_info": {
   "codemirror_mode": {
    "name": "ipython",
    "version": 3
   },
   "file_extension": ".py",
   "mimetype": "text/x-python",
   "name": "python",
   "nbconvert_exporter": "python",
   "pygments_lexer": "ipython3",
   "version": "3.10.9"
  }
 },
 "nbformat": 4,
 "nbformat_minor": 5
}
