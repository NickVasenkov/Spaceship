{
 "cells": [
  {
   "cell_type": "markdown",
   "id": "1c9c90f3",
   "metadata": {},
   "source": [
    "# Spaceship. Part 5. (continued)\n",
    "## Hyperparameters tuning \n",
    "\n",
    "Here we'll proceed with hyperparameters searching process described in ['05_hyperparameters.ipynb'](05_hyperparameters.ipynb).\\\n",
    "\n",
    "This notebook can be re-run over and over to continue searching.\n",
    "\n",
    "Choose running time:"
   ]
  },
  {
   "cell_type": "code",
   "execution_count": null,
   "id": "a3adedb4",
   "metadata": {},
   "outputs": [],
   "source": [
    "HOURS = 0\n",
    "MINUTES = 0\n",
    "SECONDS = 10\n",
    "\n",
    "RUNNING_TIME = HOURS * 3600 + MINUTES * 60 + SECONDS"
   ]
  },
  {
   "cell_type": "markdown",
   "id": "c755425c",
   "metadata": {},
   "source": [
    "Let's load our data, our Optuna study and define all the nesessary functions:"
   ]
  },
  {
   "cell_type": "code",
   "execution_count": null,
   "id": "a68a3997",
   "metadata": {},
   "outputs": [],
   "source": [
    "# Random seed for reproducibility\n",
    "SEED = 123\n",
    "\n",
    "import pandas as pd\n",
    "import numpy as np\n",
    "from sklearn.metrics import roc_auc_score\n",
    "from sklearn.model_selection import StratifiedKFold\n",
    "import joblib\n",
    "\n",
    "train = pd.read_csv('04_train_prepared.csv', index_col=0)\n",
    "test =  pd.read_csv('04_test_prepared.csv', index_col=0)\n",
    "scores_df = pd.read_csv('05_scores_df.csv', index_col=0)\n",
    "test_Ids = pd.read_csv('test_Ids.csv', index_col=0).reset_index(drop=True)\n",
    "\n",
    "train['Transported'] = [1 if i else 0 for i in train['Transported']]\n",
    "\n",
    "study = joblib.load(\"05_RF.pkl\")\n",
    "\n",
    "print('Before current session: ')\n",
    "print(\"Best trial:\", study.best_trial.number)\n",
    "print(\"Best average cross-validation ROC AUC:\", study.best_trial.value)\n",
    "print(\"Best hyperparameters:\", study.best_params)\n",
    "\n",
    "def train_evaluate(params):\n",
    "    '''\n",
    "    This function takes  parameters for a classifier.\n",
    "    \n",
    "    It returns average cross-validated ROC AUC score.\n",
    "    '''\n",
    "    \n",
    "    # Prepare our best estimator for training\n",
    "    from sklearn.ensemble import RandomForestClassifier\n",
    "    model = RandomForestClassifier(random_state=SEED,\n",
    "                               n_estimators= 100,\n",
    "                               n_jobs=-1\n",
    "                               )\n",
    "\n",
    "\n",
    "    # Set parameters for the model\n",
    "    model.set_params(**params)\n",
    "    \n",
    "    # Create a StratifiedKFold object (6 splits with equal proportion of positive target values)\n",
    "    skf = StratifiedKFold(n_splits=6, shuffle=True, random_state=SEED)\n",
    "    \n",
    "    # An empty list for collecting scores\n",
    "    test_roc_auc_scores = []\n",
    "    \n",
    "    # Iterate through folds\n",
    "    for train_index, cv_index in skf.split(train.drop('Transported', axis=1), train['Transported']):\n",
    "        # Obtain training and testing folds\n",
    "        cv_train, cv_test = train.iloc[train_index], train.iloc[cv_index]\n",
    "        \n",
    "        # Fit the model\n",
    "        model.fit(cv_train.drop('Transported', axis=1), cv_train['Transported']) \n",
    "        \n",
    "        # Calculate ROC AUC score and append to the scores lists\n",
    "        test_pred_proba = model.predict_proba(cv_test.drop('Transported', axis=1))[:, 1]\n",
    "        test_roc_auc_scores.append(roc_auc_score(cv_test['Transported'], test_pred_proba))\n",
    "        \n",
    "    return np.mean(test_roc_auc_scores)\n",
    "        \n"
   ]
  }
 ],
 "metadata": {
  "kernelspec": {
   "display_name": "Python 3 (ipykernel)",
   "language": "python",
   "name": "python3"
  },
  "language_info": {
   "codemirror_mode": {
    "name": "ipython",
    "version": 3
   },
   "file_extension": ".py",
   "mimetype": "text/x-python",
   "name": "python",
   "nbconvert_exporter": "python",
   "pygments_lexer": "ipython3",
   "version": "3.10.9"
  }
 },
 "nbformat": 4,
 "nbformat_minor": 5
}
