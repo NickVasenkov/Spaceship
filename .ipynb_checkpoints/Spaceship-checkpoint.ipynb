{
 "cells": [
  {
   "cell_type": "markdown",
   "id": "3213f0ae",
   "metadata": {},
   "source": [
    "# Spaceship."
   ]
  },
  {
   "cell_type": "markdown",
   "id": "766aa4be",
   "metadata": {},
   "source": [
    "## Task description\n",
    "\n",
    "To help rescue crews and retrieve the lost passengers, you are challenged to predict which passengers were transported by the anomaly using records recovered from the spaceship’s damaged computer system.\n",
    "\n",
    "## Files and Data Fields Descriptions\n",
    "\n",
    "\n",
    "### **train.csv**  - Personal records for about two-thirds (~8700) of the passengers, to be used as training data.\n",
    "\n",
    "PassengerId - A unique Id for each passenger. Each Id takes the form gggg_pp where gggg indicates a group the passenger is travelling with and pp is their number within the group. People in a group are often family members, but not always.\n",
    "\n",
    "HomePlanet - The planet the passenger departed from, typically their planet of permanent residence.\n",
    "\n",
    "CryoSleep - Indicates whether the passenger elected to be put into suspended animation for the duration of the voyage. Passengers in cryosleep are confined to their cabins.\n",
    "\n",
    "Cabin - The cabin number where the passenger is staying. Takes the form deck/num/side, where side can be either P for Port or S for Starboard.\n",
    "\n",
    "Destination - The planet the passenger will be debarking to.\n",
    "\n",
    "Age - The age of the passenger.\n",
    "\n",
    "VIP - Whether the passenger has paid for special VIP service during the voyage.\n",
    "\n",
    "RoomService, FoodCourt, ShoppingMall, Spa, VRDeck - Amount the passenger has billed at each of the Spaceship Titanic's many luxury amenities.\n",
    "\n",
    "Name - The first and last names of the passenger.\n",
    "\n",
    "Transported - Whether the passenger was transported to another dimension. This is the target, the column you are trying to predict.\n",
    "\n",
    "### **test.csv** - Personal records for the remaining one-third (~4300) of the passengers, to be used as test data.\n",
    "\n",
    "Your task is to predict the value of Transported for the passengers in this set.\n",
    "\n",
    "### **sample_submission.csv** - A submission file in the correct format.\n",
    "\n",
    "PassengerId - Id for each passenger in the test set.\n",
    "\n",
    "Transported - The target. For each passenger, predict either True or False.\n",
    "\n",
    "\n",
    "\n",
    "### Here are the first 5 rows of the data:"
   ]
  },
  {
   "cell_type": "code",
   "execution_count": 617,
   "id": "ed0aaaf5",
   "metadata": {},
   "outputs": [
    {
     "data": {
      "text/html": [
       "<div>\n",
       "<style scoped>\n",
       "    .dataframe tbody tr th:only-of-type {\n",
       "        vertical-align: middle;\n",
       "    }\n",
       "\n",
       "    .dataframe tbody tr th {\n",
       "        vertical-align: top;\n",
       "    }\n",
       "\n",
       "    .dataframe thead th {\n",
       "        text-align: right;\n",
       "    }\n",
       "</style>\n",
       "<table border=\"1\" class=\"dataframe\">\n",
       "  <thead>\n",
       "    <tr style=\"text-align: right;\">\n",
       "      <th></th>\n",
       "      <th>PassengerId</th>\n",
       "      <th>HomePlanet</th>\n",
       "      <th>CryoSleep</th>\n",
       "      <th>Cabin</th>\n",
       "      <th>Destination</th>\n",
       "      <th>Age</th>\n",
       "      <th>VIP</th>\n",
       "      <th>RoomService</th>\n",
       "      <th>FoodCourt</th>\n",
       "      <th>ShoppingMall</th>\n",
       "      <th>Spa</th>\n",
       "      <th>VRDeck</th>\n",
       "      <th>Name</th>\n",
       "      <th>Transported</th>\n",
       "    </tr>\n",
       "  </thead>\n",
       "  <tbody>\n",
       "    <tr>\n",
       "      <th>0</th>\n",
       "      <td>0001_01</td>\n",
       "      <td>Europa</td>\n",
       "      <td>False</td>\n",
       "      <td>B/0/P</td>\n",
       "      <td>TRAPPIST-1e</td>\n",
       "      <td>39.0</td>\n",
       "      <td>False</td>\n",
       "      <td>0.0</td>\n",
       "      <td>0.0</td>\n",
       "      <td>0.0</td>\n",
       "      <td>0.0</td>\n",
       "      <td>0.0</td>\n",
       "      <td>Maham Ofracculy</td>\n",
       "      <td>False</td>\n",
       "    </tr>\n",
       "    <tr>\n",
       "      <th>1</th>\n",
       "      <td>0002_01</td>\n",
       "      <td>Earth</td>\n",
       "      <td>False</td>\n",
       "      <td>F/0/S</td>\n",
       "      <td>TRAPPIST-1e</td>\n",
       "      <td>24.0</td>\n",
       "      <td>False</td>\n",
       "      <td>109.0</td>\n",
       "      <td>9.0</td>\n",
       "      <td>25.0</td>\n",
       "      <td>549.0</td>\n",
       "      <td>44.0</td>\n",
       "      <td>Juanna Vines</td>\n",
       "      <td>True</td>\n",
       "    </tr>\n",
       "    <tr>\n",
       "      <th>2</th>\n",
       "      <td>0003_01</td>\n",
       "      <td>Europa</td>\n",
       "      <td>False</td>\n",
       "      <td>A/0/S</td>\n",
       "      <td>TRAPPIST-1e</td>\n",
       "      <td>58.0</td>\n",
       "      <td>True</td>\n",
       "      <td>43.0</td>\n",
       "      <td>3576.0</td>\n",
       "      <td>0.0</td>\n",
       "      <td>6715.0</td>\n",
       "      <td>49.0</td>\n",
       "      <td>Altark Susent</td>\n",
       "      <td>False</td>\n",
       "    </tr>\n",
       "    <tr>\n",
       "      <th>3</th>\n",
       "      <td>0003_02</td>\n",
       "      <td>Europa</td>\n",
       "      <td>False</td>\n",
       "      <td>A/0/S</td>\n",
       "      <td>TRAPPIST-1e</td>\n",
       "      <td>33.0</td>\n",
       "      <td>False</td>\n",
       "      <td>0.0</td>\n",
       "      <td>1283.0</td>\n",
       "      <td>371.0</td>\n",
       "      <td>3329.0</td>\n",
       "      <td>193.0</td>\n",
       "      <td>Solam Susent</td>\n",
       "      <td>False</td>\n",
       "    </tr>\n",
       "    <tr>\n",
       "      <th>4</th>\n",
       "      <td>0004_01</td>\n",
       "      <td>Earth</td>\n",
       "      <td>False</td>\n",
       "      <td>F/1/S</td>\n",
       "      <td>TRAPPIST-1e</td>\n",
       "      <td>16.0</td>\n",
       "      <td>False</td>\n",
       "      <td>303.0</td>\n",
       "      <td>70.0</td>\n",
       "      <td>151.0</td>\n",
       "      <td>565.0</td>\n",
       "      <td>2.0</td>\n",
       "      <td>Willy Santantines</td>\n",
       "      <td>True</td>\n",
       "    </tr>\n",
       "  </tbody>\n",
       "</table>\n",
       "</div>"
      ],
      "text/plain": [
       "  PassengerId HomePlanet CryoSleep  Cabin  Destination   Age    VIP  \\\n",
       "0     0001_01     Europa     False  B/0/P  TRAPPIST-1e  39.0  False   \n",
       "1     0002_01      Earth     False  F/0/S  TRAPPIST-1e  24.0  False   \n",
       "2     0003_01     Europa     False  A/0/S  TRAPPIST-1e  58.0   True   \n",
       "3     0003_02     Europa     False  A/0/S  TRAPPIST-1e  33.0  False   \n",
       "4     0004_01      Earth     False  F/1/S  TRAPPIST-1e  16.0  False   \n",
       "\n",
       "   RoomService  FoodCourt  ShoppingMall     Spa  VRDeck               Name  \\\n",
       "0          0.0        0.0           0.0     0.0     0.0    Maham Ofracculy   \n",
       "1        109.0        9.0          25.0   549.0    44.0       Juanna Vines   \n",
       "2         43.0     3576.0           0.0  6715.0    49.0      Altark Susent   \n",
       "3          0.0     1283.0         371.0  3329.0   193.0       Solam Susent   \n",
       "4        303.0       70.0         151.0   565.0     2.0  Willy Santantines   \n",
       "\n",
       "  Transported  \n",
       "0       False  \n",
       "1        True  \n",
       "2       False  \n",
       "3       False  \n",
       "4        True  "
      ]
     },
     "execution_count": 617,
     "metadata": {},
     "output_type": "execute_result"
    }
   ],
   "source": [
    "import pandas as pd\n",
    "import numpy as np\n",
    "\n",
    "# Random seed for reproducibility\n",
    "SEED = 123\n",
    "# A file to save global variables\n",
    "global_variables = pd.DataFrame({'SEED': [SEED]})\n",
    "global_variables.to_csv('global_variables.csv')\n",
    "global_variables.to_csv('functions/global_variables.csv')\n",
    "\n",
    "train_unprocessed = pd.read_csv('datasets/train.csv')\n",
    "test_unprocessed = pd.read_csv('datasets/test.csv')\n",
    "\n",
    "train_size = len(train_unprocessed)\n",
    "train_size_file = pd.DataFrame([train_size])\n",
    "train_size_file.to_csv('train_size.csv')\n",
    "\n",
    "# Collect Passenger Ids in the test dataset into a separate variable\n",
    "test_Ids = test_unprocessed['PassengerId']\n",
    "test_Ids.to_csv('test_Ids.csv')\n",
    "\n",
    "data_unprocessed = pd.concat([train_unprocessed, test_unprocessed]).reset_index(drop=True)\n",
    "\n",
    "data_unprocessed.head()"
   ]
  },
  {
   "cell_type": "code",
   "execution_count": 618,
   "id": "b8bd7e74",
   "metadata": {},
   "outputs": [
    {
     "name": "stdout",
     "output_type": "stream",
     "text": [
      "<class 'pandas.core.frame.DataFrame'>\n",
      "RangeIndex: 12970 entries, 0 to 12969\n",
      "Data columns (total 14 columns):\n",
      " #   Column        Non-Null Count  Dtype  \n",
      "---  ------        --------------  -----  \n",
      " 0   PassengerId   12970 non-null  object \n",
      " 1   HomePlanet    12682 non-null  object \n",
      " 2   CryoSleep     12660 non-null  object \n",
      " 3   Cabin         12671 non-null  object \n",
      " 4   Destination   12696 non-null  object \n",
      " 5   Age           12700 non-null  float64\n",
      " 6   VIP           12674 non-null  object \n",
      " 7   RoomService   12707 non-null  float64\n",
      " 8   FoodCourt     12681 non-null  float64\n",
      " 9   ShoppingMall  12664 non-null  float64\n",
      " 10  Spa           12686 non-null  float64\n",
      " 11  VRDeck        12702 non-null  float64\n",
      " 12  Name          12676 non-null  object \n",
      " 13  Transported   8693 non-null   object \n",
      "dtypes: float64(6), object(8)\n",
      "memory usage: 1.4+ MB\n"
     ]
    }
   ],
   "source": [
    "data_unprocessed.info()"
   ]
  },
  {
   "cell_type": "markdown",
   "id": "f6dff267",
   "metadata": {},
   "source": [
    "## 00. Baseline\n",
    "\n",
    "First, we'll make a baseline prediction, that all passengers were Transported. We'll calculate the Score of this prediction on the train set (for future cases, we'll calculate separately Train Score and Cross-validation Score, but in this case, these scores will be equal to Train Score, since our cross-validation will be stratified).\n",
    "\n",
    "Our Score = (Average Cross-validation ROC AUC) - (1 Standard deviation of Cross-validation ROC AUCs).\n",
    "\n",
    "In this simple case, Standard deviation will be 0 (again, cross-validation is stratified), so Score for this case will be just Train ROC AUC.\n",
    "\n",
    "We'll save our intermediate results in DataFrame scores_df:"
   ]
  },
  {
   "cell_type": "code",
   "execution_count": 619,
   "id": "c0425b0c",
   "metadata": {},
   "outputs": [
    {
     "data": {
      "text/html": [
       "<div>\n",
       "<style scoped>\n",
       "    .dataframe tbody tr th:only-of-type {\n",
       "        vertical-align: middle;\n",
       "    }\n",
       "\n",
       "    .dataframe tbody tr th {\n",
       "        vertical-align: top;\n",
       "    }\n",
       "\n",
       "    .dataframe thead th {\n",
       "        text-align: right;\n",
       "    }\n",
       "</style>\n",
       "<table border=\"1\" class=\"dataframe\">\n",
       "  <thead>\n",
       "    <tr style=\"text-align: right;\">\n",
       "      <th></th>\n",
       "      <th>Comment</th>\n",
       "      <th>Train Score</th>\n",
       "      <th>Cross-val Score</th>\n",
       "      <th>Test Accuracy</th>\n",
       "    </tr>\n",
       "  </thead>\n",
       "  <tbody>\n",
       "    <tr>\n",
       "      <th>0</th>\n",
       "      <td>All True</td>\n",
       "      <td>0.5</td>\n",
       "      <td>0.5</td>\n",
       "      <td>NaN</td>\n",
       "    </tr>\n",
       "  </tbody>\n",
       "</table>\n",
       "</div>"
      ],
      "text/plain": [
       "    Comment  Train Score  Cross-val Score  Test Accuracy\n",
       "0  All True          0.5              0.5            NaN"
      ]
     },
     "execution_count": 619,
     "metadata": {},
     "output_type": "execute_result"
    }
   ],
   "source": [
    "from sklearn.metrics import roc_auc_score\n",
    "\n",
    "train_predictions_00 = pd.DataFrame(data=train_unprocessed['Transported'], columns=['Transported'])\n",
    "train_predictions_00['Transported'] = True\n",
    "\n",
    "scores_df = pd.DataFrame({'Comment': [], 'Train Score': [], 'Cross-val Score': [], 'Test Accuracy': []})\n",
    "\n",
    "score_00 = roc_auc_score(train_unprocessed['Transported'], train_predictions_00['Transported'])\n",
    "\n",
    "scores_df.loc[0, 'Comment'] = 'All True'\n",
    "scores_df.loc[0, 'Train Score'] = score_00\n",
    "scores_df.loc[0, 'Cross-val Score'] = score_00\n",
    "scores_df"
   ]
  },
  {
   "cell_type": "markdown",
   "id": "972b01bf",
   "metadata": {},
   "source": [
    "ROC AUC is 0.5, which means our predictions are no better than random guessing\n",
    "\n",
    "Now, we'll make a submission to Kaggle to see our Test Accuracy. We won't use Test Accuracy in making decisions, but we'll use it to catch bugs in our Score calculations:"
   ]
  },
  {
   "cell_type": "code",
   "execution_count": 620,
   "id": "3f537359",
   "metadata": {
    "scrolled": false
   },
   "outputs": [
    {
     "data": {
      "text/html": [
       "<div>\n",
       "<style scoped>\n",
       "    .dataframe tbody tr th:only-of-type {\n",
       "        vertical-align: middle;\n",
       "    }\n",
       "\n",
       "    .dataframe tbody tr th {\n",
       "        vertical-align: top;\n",
       "    }\n",
       "\n",
       "    .dataframe thead th {\n",
       "        text-align: right;\n",
       "    }\n",
       "</style>\n",
       "<table border=\"1\" class=\"dataframe\">\n",
       "  <thead>\n",
       "    <tr style=\"text-align: right;\">\n",
       "      <th></th>\n",
       "      <th>Comment</th>\n",
       "      <th>Train Score</th>\n",
       "      <th>Cross-val Score</th>\n",
       "      <th>Test Accuracy</th>\n",
       "    </tr>\n",
       "  </thead>\n",
       "  <tbody>\n",
       "    <tr>\n",
       "      <th>0</th>\n",
       "      <td>All True</td>\n",
       "      <td>0.5</td>\n",
       "      <td>0.5</td>\n",
       "      <td>0.50689</td>\n",
       "    </tr>\n",
       "  </tbody>\n",
       "</table>\n",
       "</div>"
      ],
      "text/plain": [
       "    Comment  Train Score  Cross-val Score  Test Accuracy\n",
       "0  All True          0.5              0.5        0.50689"
      ]
     },
     "execution_count": 620,
     "metadata": {},
     "output_type": "execute_result"
    }
   ],
   "source": [
    "test_predictions_00 = pd.DataFrame([True] * len(test_unprocessed), columns=['Transported'])\n",
    "submission_00 = pd.concat([test_unprocessed['PassengerId'], test_predictions_00], axis=1)\n",
    "\n",
    "submission_00.to_csv('submissions/submission_00.csv', index=False)\n",
    "\n",
    "scores_df.loc[0, 'Test Accuracy'] = 0.50689\n",
    "scores_df.to_csv('scores_df.csv')\n",
    "scores_df"
   ]
  },
  {
   "cell_type": "markdown",
   "id": "6fdd43cd",
   "metadata": {},
   "source": [
    "## 01. Numerical features with 0's for missing values\n",
    "\n",
    "Now, we'll make predictions on the numerical features only, filling missing values with zeros:"
   ]
  },
  {
   "cell_type": "code",
   "execution_count": 621,
   "id": "ced803b9",
   "metadata": {},
   "outputs": [],
   "source": [
    "# Drop non-numerical columns\n",
    "train = train_unprocessed.select_dtypes(include=['int', 'float'])\n",
    "test = test_unprocessed.select_dtypes(include=['int', 'float'])\n",
    "\n",
    "# Put the target variable back to the train dataset\n",
    "train = pd.concat([train, train_unprocessed['Transported']], axis=1)\n",
    "\n",
    "# Fill missing values with zeros\n",
    "train = train.fillna(0)\n",
    "test = test.fillna(0)\n",
    "\n",
    "train.to_csv('new_datasets/train_01.csv')\n",
    "test.to_csv('new_datasets/test_01.csv')\n"
   ]
  },
  {
   "cell_type": "markdown",
   "id": "aa2f9136",
   "metadata": {},
   "source": [
    "We'll use XGBoost with default parameters as our first estimator. \n",
    "\n",
    "### Choosing number of cross-validation splits\n",
    "\n",
    "For calculating Score, I wrote get_score function, that is located in ['functions/get_score.py'](functions/get_score.py). This function takes a number of StratifiedKFold slits as one of its arguments. \n",
    "\n",
    "We want such number of splits that give us the best balance between bias and variance. For the sake of run time, the optimal number of splits calculation is done in a separate file: ['functions/n_splits.py'](functions/n_splits.py).\n",
    "\n",
    "The tradeoff sweetspot is at 3 splits."
   ]
  },
  {
   "cell_type": "code",
   "execution_count": 622,
   "id": "9a8cb4d4",
   "metadata": {},
   "outputs": [],
   "source": [
    "N_SPLITS = 3\n",
    "global_variables['N_SPLITS'] = N_SPLITS\n",
    "global_variables.to_csv('global_variables.csv')\n",
    "global_variables.to_csv('functions/global_variables.csv')"
   ]
  },
  {
   "cell_type": "markdown",
   "id": "eae2b891",
   "metadata": {},
   "source": [
    "Let's find Scores and Test Accuracy for this number of splits:"
   ]
  },
  {
   "cell_type": "code",
   "execution_count": 623,
   "id": "f84724ff",
   "metadata": {},
   "outputs": [],
   "source": [
    "# UNCOMMENT TO INSTALL XGBOOST\n",
    "#!pip install xgboost\n",
    "import xgboost as xgb\n",
    "\n",
    "# Instantiate the classifier\n",
    "model = xgb.XGBClassifier(random_state=SEED, n_jobs=-1)\n",
    "\n",
    "from functions.get_score import get_score\n",
    "\n",
    "train_score, cross_score, cross_scores_std, submission = get_score(global_variables, train, test, model, scores_df,\n",
    "                                                                  comment=\"All numerical features with 0's for missing values\")"
   ]
  },
  {
   "cell_type": "code",
   "execution_count": 624,
   "id": "fe5fc2e5",
   "metadata": {},
   "outputs": [
    {
     "data": {
      "text/html": [
       "<div>\n",
       "<style scoped>\n",
       "    .dataframe tbody tr th:only-of-type {\n",
       "        vertical-align: middle;\n",
       "    }\n",
       "\n",
       "    .dataframe tbody tr th {\n",
       "        vertical-align: top;\n",
       "    }\n",
       "\n",
       "    .dataframe thead th {\n",
       "        text-align: right;\n",
       "    }\n",
       "</style>\n",
       "<table border=\"1\" class=\"dataframe\">\n",
       "  <thead>\n",
       "    <tr style=\"text-align: right;\">\n",
       "      <th></th>\n",
       "      <th>Comment</th>\n",
       "      <th>Train Score</th>\n",
       "      <th>Cross-val Score</th>\n",
       "      <th>Test Accuracy</th>\n",
       "    </tr>\n",
       "  </thead>\n",
       "  <tbody>\n",
       "    <tr>\n",
       "      <th>0</th>\n",
       "      <td>All True</td>\n",
       "      <td>0.500000</td>\n",
       "      <td>0.500000</td>\n",
       "      <td>0.50689</td>\n",
       "    </tr>\n",
       "    <tr>\n",
       "      <th>1</th>\n",
       "      <td>All numerical features with 0's for missing va...</td>\n",
       "      <td>0.919507</td>\n",
       "      <td>0.828452</td>\n",
       "      <td>NaN</td>\n",
       "    </tr>\n",
       "  </tbody>\n",
       "</table>\n",
       "</div>"
      ],
      "text/plain": [
       "                                             Comment  Train Score  \\\n",
       "0                                           All True     0.500000   \n",
       "1  All numerical features with 0's for missing va...     0.919507   \n",
       "\n",
       "   Cross-val Score  Test Accuracy  \n",
       "0         0.500000        0.50689  \n",
       "1         0.828452            NaN  "
      ]
     },
     "execution_count": 624,
     "metadata": {},
     "output_type": "execute_result"
    }
   ],
   "source": [
    "submission.to_csv('submissions/submission_01.csv', index=False)\n",
    "\n",
    "scores_df.loc[1, 'Test Accuracy'] = np.nan\n",
    "scores_df.to_csv('scores_df.csv')\n",
    "scores_df"
   ]
  },
  {
   "cell_type": "markdown",
   "id": "b5e415a7",
   "metadata": {},
   "source": [
    "## Hyperparameters tuning workflow description\n",
    "\n",
    "For the sake of runtime and for convinience, we'll do all our hyperparameters tunings in separate files. Here is the workflow:\n",
    "\n",
    "-) Notice the Report chapter number. For example, our next chapter, in which we'll do our first tining, is 02.\n",
    "\n",
    "-) If you need to restart any study from scratch, go to ['functions/initialize_studies.ipynb'](functions/initialize_studies.ipynb), run the first cell to import packages, then run a cell with your current Report chapter number. The progress of that study will be deleted.\n",
    "\n",
    "!!!ATTENTION!!! Do not run the whole initialize_studies notebook, or all the studies will be restarted (unless that is what you want). !!!ATTENTION!!!\n",
    "\n",
    "-) The current study is in studies/Report_chapter_number.py. For example, next study will be in ['studies/02.py'](studies/02.py).\n",
    "\n",
    "-) At the beginning of the study file, choose maximum run time and number of trials for the current run.\n",
    "\n",
    "-) Hyperparameter tuning will be continued from the end of the previous run of this file.\n",
    "\n",
    "-) At the end of the run, look at the best parameters. If some of the parameters are on the extreme ends of the search ranges, extend the ranges. The study progress will be kept.\n",
    "\n",
    "-) At the end of the run, look at the total number of trials in study and the number of the best trial.\n",
    "\n",
    "-) If results (Average cross-val scores) keep going up, re-run the file. Repeat until satisfied.\n",
    "\n",
    "-) If results (Average cross-val scores) do not improve for a big number of trials, then go back to the current Report chapter and load results (see below).\n",
    "\n",
    "For a simple exaple look at ['studies/test.ipynb'](studies/test.ipynb). This study maximizes sum of two numbers chosen from a set of integers."
   ]
  },
  {
   "cell_type": "markdown",
   "id": "b8f9dd5a",
   "metadata": {},
   "source": [
    "## 02. Choosing numerical features\n",
    "\n",
    "We'll find the set of numerical features that gives us the highest cross-validation Score:"
   ]
  },
  {
   "cell_type": "code",
   "execution_count": 625,
   "id": "415c5de5",
   "metadata": {},
   "outputs": [
    {
     "name": "stdout",
     "output_type": "stream",
     "text": [
      "Best average cross-validation Score: 0.8284518468994545\n",
      "Best hyperparameters: {'Age': True, 'RoomService': True, 'FoodCourt': True, 'ShoppingMall': True, 'Spa': True, 'VRDeck': True}\n"
     ]
    }
   ],
   "source": [
    "import joblib\n",
    "import optuna\n",
    "\n",
    "study = joblib.load(\"studies/02.pkl\")\n",
    "\n",
    "print(\"Best average cross-validation Score:\", study.best_trial.value)\n",
    "print(\"Best hyperparameters:\", study.best_params)"
   ]
  },
  {
   "cell_type": "markdown",
   "id": "5a95b7fc",
   "metadata": {},
   "source": [
    "Here, \"'Age': True\" means that the best model was using 'Age' feature. \n",
    "\n",
    "All the features were selected by our hyperparameters search.\n",
    "\n",
    "Note, that our best Score is equal to the Score from the 01, since we used the same set of features and same random seed. Let's put this score into scores_df for consistency:"
   ]
  },
  {
   "cell_type": "code",
   "execution_count": 626,
   "id": "cf20ac17",
   "metadata": {},
   "outputs": [
    {
     "data": {
      "text/html": [
       "<div>\n",
       "<style scoped>\n",
       "    .dataframe tbody tr th:only-of-type {\n",
       "        vertical-align: middle;\n",
       "    }\n",
       "\n",
       "    .dataframe tbody tr th {\n",
       "        vertical-align: top;\n",
       "    }\n",
       "\n",
       "    .dataframe thead th {\n",
       "        text-align: right;\n",
       "    }\n",
       "</style>\n",
       "<table border=\"1\" class=\"dataframe\">\n",
       "  <thead>\n",
       "    <tr style=\"text-align: right;\">\n",
       "      <th></th>\n",
       "      <th>Comment</th>\n",
       "      <th>Train Score</th>\n",
       "      <th>Cross-val Score</th>\n",
       "      <th>Test Accuracy</th>\n",
       "    </tr>\n",
       "  </thead>\n",
       "  <tbody>\n",
       "    <tr>\n",
       "      <th>0</th>\n",
       "      <td>All True</td>\n",
       "      <td>0.500000</td>\n",
       "      <td>0.500000</td>\n",
       "      <td>0.50689</td>\n",
       "    </tr>\n",
       "    <tr>\n",
       "      <th>1</th>\n",
       "      <td>All numerical features with 0's for missing va...</td>\n",
       "      <td>0.919507</td>\n",
       "      <td>0.828452</td>\n",
       "      <td>NaN</td>\n",
       "    </tr>\n",
       "    <tr>\n",
       "      <th>2</th>\n",
       "      <td>All numerical features are selected</td>\n",
       "      <td>0.919507</td>\n",
       "      <td>0.828452</td>\n",
       "      <td>NaN</td>\n",
       "    </tr>\n",
       "  </tbody>\n",
       "</table>\n",
       "</div>"
      ],
      "text/plain": [
       "                                             Comment  Train Score  \\\n",
       "0                                           All True     0.500000   \n",
       "1  All numerical features with 0's for missing va...     0.919507   \n",
       "2                All numerical features are selected     0.919507   \n",
       "\n",
       "   Cross-val Score  Test Accuracy  \n",
       "0         0.500000        0.50689  \n",
       "1         0.828452            NaN  \n",
       "2         0.828452            NaN  "
      ]
     },
     "execution_count": 626,
     "metadata": {},
     "output_type": "execute_result"
    }
   ],
   "source": [
    "train_score, cross_score, cross_scores_std, submission = get_score(global_variables, train, test, model, scores_df,\n",
    "                                                                  comment=\"All numerical features are selected\")\n",
    "scores_df.loc[2, 'Test Accuracy'] = np.nan\n",
    "scores_df.to_csv('scores_df.csv')\n",
    "scores_df"
   ]
  },
  {
   "cell_type": "markdown",
   "id": "0c9e5f09",
   "metadata": {},
   "source": [
    "## Categorical features\n",
    "\n",
    "Let's look at our data column by column:"
   ]
  },
  {
   "cell_type": "markdown",
   "id": "d78e573a",
   "metadata": {},
   "source": [
    "## 03. Group Size"
   ]
  },
  {
   "cell_type": "markdown",
   "id": "892dacdd",
   "metadata": {},
   "source": [
    "**PassengerId** - A unique Id for each passenger. Each Id takes the form gggg_pp where gggg indicates a group the passenger is travelling with and pp is their number within the group. People in a group are often family members, but not always.\n",
    "\n",
    "The number of a passenger within their group is arbitrary, so we don't need it. However, group numbers may be important, so we'll create a new feature \"Group\":"
   ]
  },
  {
   "cell_type": "code",
   "execution_count": 627,
   "id": "1aaa096d",
   "metadata": {},
   "outputs": [
    {
     "name": "stdout",
     "output_type": "stream",
     "text": [
      "<class 'pandas.core.series.Series'>\n",
      "RangeIndex: 8693 entries, 0 to 8692\n",
      "Series name: Group\n",
      "Non-Null Count  Dtype \n",
      "--------------  ----- \n",
      "8693 non-null   object\n",
      "dtypes: object(1)\n",
      "memory usage: 68.0+ KB\n",
      "None\n",
      "count     8693\n",
      "unique    6217\n",
      "top       4498\n",
      "freq         8\n",
      "Name: Group, dtype: object\n",
      "Unique Values:\n",
      "['0001' '0002' '0003' ... '9278' '9279' '9280']\n"
     ]
    }
   ],
   "source": [
    "train['Group'] = train_unprocessed['PassengerId'].str[:4]\n",
    "test['Group'] = test_unprocessed['PassengerId'].str[:4]\n",
    "print(train['Group'].info())\n",
    "print(train['Group'].describe())\n",
    "print('Unique Values:')\n",
    "print(train['Group'].unique())"
   ]
  },
  {
   "cell_type": "markdown",
   "id": "72d3fce2",
   "metadata": {},
   "source": [
    "We have 6217 separate Groups in the training set among 8693 entries.\n",
    "\n",
    "We need to transform Group to numerical features. Since the number of categories is high, it may be unworthy to create dummy variables. We'll try Mean Target Encoding (the fuctions for Mean Target Encoding are based on work by Yauhen Babakhin):"
   ]
  },
  {
   "cell_type": "code",
   "execution_count": 628,
   "id": "f524625f",
   "metadata": {},
   "outputs": [
    {
     "data": {
      "text/plain": [
       "count    4.277000e+03\n",
       "mean     5.036236e-01\n",
       "std      3.475404e-14\n",
       "min      5.036236e-01\n",
       "25%      5.036236e-01\n",
       "50%      5.036236e-01\n",
       "75%      5.036236e-01\n",
       "max      5.036236e-01\n",
       "Name: Group_enc, dtype: float64"
      ]
     },
     "execution_count": 628,
     "metadata": {},
     "output_type": "execute_result"
    }
   ],
   "source": [
    "from functions.target_encoding import mean_target_encoding\n",
    "\n",
    "# We'll need to express Transported as 1 and 0 for Mean Target Encoding:\n",
    "train['Transported'] = [1 if i else 0 for i in train['Transported']]\n",
    "\n",
    "# Encode Group\n",
    "train['Group_enc'], test['Group_enc'] = mean_target_encoding(train, test, 'Transported', 'Group', alpha=7.5)\n",
    "\n",
    "test['Group_enc'].describe()"
   ]
  },
  {
   "cell_type": "markdown",
   "id": "1b4bc686",
   "metadata": {},
   "source": [
    "Oh, it seems that we have only one unique value for the Group_enc in the test set:"
   ]
  },
  {
   "cell_type": "code",
   "execution_count": 629,
   "id": "6b14bd2d",
   "metadata": {},
   "outputs": [
    {
     "data": {
      "text/plain": [
       "array([0.50362361])"
      ]
     },
     "execution_count": 629,
     "metadata": {},
     "output_type": "execute_result"
    }
   ],
   "source": [
    "test['Group_enc'].unique()"
   ]
  },
  {
   "cell_type": "markdown",
   "id": "2c5d6910",
   "metadata": {},
   "source": [
    "The reason is that there is no Groups that are common between the train and test sets:"
   ]
  },
  {
   "cell_type": "code",
   "execution_count": 630,
   "id": "939cd9e6",
   "metadata": {},
   "outputs": [
    {
     "data": {
      "text/plain": [
       "[]"
      ]
     },
     "execution_count": 630,
     "metadata": {},
     "output_type": "execute_result"
    }
   ],
   "source": [
    "list(set(train['Group']) & set(test['Group']))"
   ]
  },
  {
   "cell_type": "markdown",
   "id": "9db92020",
   "metadata": {},
   "source": [
    "Therefore, distinguishing Groups is useless. However, we can use the Group column in another way: let's calculate the number of group members and assign it to \"GroupSize\" variable:"
   ]
  },
  {
   "cell_type": "code",
   "execution_count": 631,
   "id": "0c407a53",
   "metadata": {},
   "outputs": [
    {
     "name": "stdout",
     "output_type": "stream",
     "text": [
      "<class 'pandas.core.series.Series'>\n",
      "RangeIndex: 8693 entries, 0 to 8692\n",
      "Series name: GroupSize\n",
      "Non-Null Count  Dtype\n",
      "--------------  -----\n",
      "8693 non-null   int64\n",
      "dtypes: int64(1)\n",
      "memory usage: 68.0 KB\n",
      "None\n",
      "count    8693.000000\n",
      "mean        2.035546\n",
      "std         1.596347\n",
      "min         1.000000\n",
      "25%         1.000000\n",
      "50%         1.000000\n",
      "75%         3.000000\n",
      "max         8.000000\n",
      "Name: GroupSize, dtype: float64\n",
      "Unique Values:\n",
      "[1 2 3 6 4 7 5 8]\n",
      "<class 'pandas.core.series.Series'>\n",
      "RangeIndex: 4277 entries, 0 to 4276\n",
      "Series name: GroupSize\n",
      "Non-Null Count  Dtype\n",
      "--------------  -----\n",
      "4277 non-null   int64\n",
      "dtypes: int64(1)\n",
      "memory usage: 33.5 KB\n",
      "None\n",
      "count    4277.000000\n",
      "mean        1.997428\n",
      "std         1.537113\n",
      "min         1.000000\n",
      "25%         1.000000\n",
      "50%         1.000000\n",
      "75%         2.000000\n",
      "max         8.000000\n",
      "Name: GroupSize, dtype: float64\n",
      "Unique Values:\n",
      "[1 2 3 5 4 8 6 7]\n"
     ]
    }
   ],
   "source": [
    "train['GroupSize'] = train.groupby('Group')['Group'].transform('count')\n",
    "test['GroupSize'] = test.groupby('Group')['Group'].transform('count')\n",
    "\n",
    "for dataset in [train, test]:\n",
    "    print(dataset['GroupSize'].info())\n",
    "    print(dataset['GroupSize'].describe())\n",
    "    print('Unique Values:')\n",
    "    print(dataset['GroupSize'].unique())\n",
    "    "
   ]
  },
  {
   "cell_type": "markdown",
   "id": "ed72cd5b",
   "metadata": {},
   "source": [
    "Now, let's select features again, now with GroupSize feature as an option:"
   ]
  },
  {
   "cell_type": "code",
   "execution_count": 632,
   "id": "0cf891fc",
   "metadata": {},
   "outputs": [
    {
     "name": "stdout",
     "output_type": "stream",
     "text": [
      "Best average cross-validation Score: 0.8342087175928439\n",
      "Best hyperparameters: {'Age': True, 'RoomService': True, 'FoodCourt': True, 'ShoppingMall': True, 'Spa': True, 'VRDeck': True, 'GroupSize': True}\n"
     ]
    }
   ],
   "source": [
    "train.to_csv('new_datasets/train_03.csv')\n",
    "test.to_csv('new_datasets/test_03.csv')\n",
    "\n",
    "study = joblib.load(\"studies/03.pkl\")\n",
    "\n",
    "print(\"Best average cross-validation Score:\", study.best_trial.value)\n",
    "print(\"Best hyperparameters:\", study.best_params)"
   ]
  },
  {
   "cell_type": "markdown",
   "id": "d1e40a63",
   "metadata": {},
   "source": [
    "We improved our Score by adding Group Size! Let's put results in the table:"
   ]
  },
  {
   "cell_type": "code",
   "execution_count": 633,
   "id": "6277b4d4",
   "metadata": {},
   "outputs": [
    {
     "data": {
      "text/html": [
       "<div>\n",
       "<style scoped>\n",
       "    .dataframe tbody tr th:only-of-type {\n",
       "        vertical-align: middle;\n",
       "    }\n",
       "\n",
       "    .dataframe tbody tr th {\n",
       "        vertical-align: top;\n",
       "    }\n",
       "\n",
       "    .dataframe thead th {\n",
       "        text-align: right;\n",
       "    }\n",
       "</style>\n",
       "<table border=\"1\" class=\"dataframe\">\n",
       "  <thead>\n",
       "    <tr style=\"text-align: right;\">\n",
       "      <th></th>\n",
       "      <th>Comment</th>\n",
       "      <th>Train Score</th>\n",
       "      <th>Cross-val Score</th>\n",
       "      <th>Test Accuracy</th>\n",
       "    </tr>\n",
       "  </thead>\n",
       "  <tbody>\n",
       "    <tr>\n",
       "      <th>0</th>\n",
       "      <td>All True</td>\n",
       "      <td>0.500000</td>\n",
       "      <td>0.500000</td>\n",
       "      <td>0.50689</td>\n",
       "    </tr>\n",
       "    <tr>\n",
       "      <th>1</th>\n",
       "      <td>All numerical features with 0's for missing va...</td>\n",
       "      <td>0.919507</td>\n",
       "      <td>0.828452</td>\n",
       "      <td>NaN</td>\n",
       "    </tr>\n",
       "    <tr>\n",
       "      <th>2</th>\n",
       "      <td>All numerical features are selected</td>\n",
       "      <td>0.919507</td>\n",
       "      <td>0.828452</td>\n",
       "      <td>NaN</td>\n",
       "    </tr>\n",
       "    <tr>\n",
       "      <th>3</th>\n",
       "      <td>+ GroupSize</td>\n",
       "      <td>0.932251</td>\n",
       "      <td>0.834209</td>\n",
       "      <td>NaN</td>\n",
       "    </tr>\n",
       "  </tbody>\n",
       "</table>\n",
       "</div>"
      ],
      "text/plain": [
       "                                             Comment  Train Score  \\\n",
       "0                                           All True     0.500000   \n",
       "1  All numerical features with 0's for missing va...     0.919507   \n",
       "2                All numerical features are selected     0.919507   \n",
       "3                                        + GroupSize     0.932251   \n",
       "\n",
       "   Cross-val Score  Test Accuracy  \n",
       "0         0.500000        0.50689  \n",
       "1         0.828452            NaN  \n",
       "2         0.828452            NaN  \n",
       "3         0.834209            NaN  "
      ]
     },
     "execution_count": 633,
     "metadata": {},
     "output_type": "execute_result"
    }
   ],
   "source": [
    "# Create sets with selected columns\n",
    "\n",
    "selected_columns = []\n",
    "for key, value in study.best_params.items():\n",
    "    if value:\n",
    "        selected_columns.append(key)\n",
    "\n",
    "train_selected = train[selected_columns]\n",
    "train_selected = pd.concat([train_selected, train_unprocessed['Transported']], axis=1)\n",
    "test_selected =  test[selected_columns]\n",
    "\n",
    "\n",
    "train_score, cross_score, cross_scores_std, submission = get_score(global_variables, \n",
    "                                    train_selected, test_selected,\n",
    "                                    model, scores_df,\n",
    "                                    comment=\"+ GroupSize\")\n",
    "submission.to_csv('submissions/submission_03.csv', index=False)\n",
    "scores_df.loc[3, 'Test Accuracy'] = np.nan\n",
    "scores_df.to_csv('scores_df.csv')\n",
    "scores_df"
   ]
  },
  {
   "cell_type": "markdown",
   "id": "dbfbc9f4",
   "metadata": {},
   "source": [
    "## Exploring missing values"
   ]
  },
  {
   "cell_type": "markdown",
   "id": "b5ec84ee",
   "metadata": {},
   "source": [
    "PassengerId, and, therefore, GroupSize don't have missing values. Other columns, though, have missing values. Let's explore if there are some patterns in missing data:"
   ]
  },
  {
   "cell_type": "code",
   "execution_count": 634,
   "id": "1924f0a9",
   "metadata": {},
   "outputs": [
    {
     "name": "stdout",
     "output_type": "stream",
     "text": [
      "PassengerId        0\n",
      "HomePlanet       288\n",
      "CryoSleep        310\n",
      "Cabin            299\n",
      "Destination      274\n",
      "Age              270\n",
      "VIP              296\n",
      "RoomService      263\n",
      "FoodCourt        289\n",
      "ShoppingMall     306\n",
      "Spa              284\n",
      "VRDeck           268\n",
      "Name             294\n",
      "Transported     4277\n",
      "dtype: int64\n"
     ]
    },
    {
     "data": {
      "image/png": "[encoded data removed]",
      "text/plain": [
       "<Figure size 2500x1000 with 2 Axes>"
      ]
     },
     "metadata": {},
     "output_type": "display_data"
    }
   ],
   "source": [
    "import missingno as msno\n",
    "import matplotlib.pyplot as plt\n",
    "\n",
    "# Print number of missing values in banking\n",
    "print(data_unprocessed.isna().sum())\n",
    "\n",
    "# Visualize missingness matrix\n",
    "msno.matrix(data_unprocessed)\n",
    "plt.show()"
   ]
  },
  {
   "cell_type": "markdown",
   "id": "f1fcd69c",
   "metadata": {},
   "source": [
    "It seems that values are Missing At Random (Transported column is our target, it is missing in test data). We'll fill the missing values column by column, based on the description of the dataset.\n",
    "\n",
    "## 04. Family Size\n",
    "\n",
    "**Name** - The first and last names of the passenger.\n",
    "\n",
    "We don't need the first names, so we'll strip them. \n",
    "Additionally, we may assume that passengers with the same last names in different Groups are not relatives. To avoid treating them as relatives, we will append Group names to all last names:"
   ]
  },
  {
   "cell_type": "code",
   "execution_count": 635,
   "id": "39b4ebd2",
   "metadata": {},
   "outputs": [
    {
     "name": "stderr",
     "output_type": "stream",
     "text": [
      "C:\\Users\\mikej\\AppData\\Local\\Temp\\ipykernel_27704\\2091076608.py:7: FutureWarning: In a future version of pandas all arguments of StringMethods.split except for the argument 'pat' will be keyword-only.\n",
      "  data.Name = data.Name.str.split(' ', 1).str[1]\n"
     ]
    }
   ],
   "source": [
    "### !!!! FutureWarning: In a future version of pandas all arguments of StringMethods.split except for the argument 'pat' will be keyword-only.\n",
    "\n",
    "train = pd.concat([train, train_unprocessed['Name']], axis=1)\n",
    "test = pd.concat([test, test_unprocessed['Name']], axis=1)\n",
    "\n",
    "for data in [train, test]:\n",
    "    data.Name = data.Name.str.split(' ', 1).str[1]\n",
    "    data.Name = data.Name + data.Group"
   ]
  },
  {
   "cell_type": "markdown",
   "id": "14a37b60",
   "metadata": {},
   "source": [
    "We'll fill the missing values for Names based on the most common surname in their Group.\n",
    "If a passenger is alone in their group, we'll name them by the name of their Group:"
   ]
  },
  {
   "cell_type": "code",
   "execution_count": 636,
   "id": "3bbdeadc",
   "metadata": {},
   "outputs": [],
   "source": [
    "for data in [train, test]:\n",
    "    # Iterate through all the rows with missing data\n",
    "    for index in data[data['Name'].isna()].index:\n",
    "        # Fill the missing values for lonely passengers:\n",
    "        if len(data[data['Group'] == data.loc[index, 'Group']]) == 1:\n",
    "            data.loc[index, \"Name\"] = data.loc[index, 'Group']\n",
    "        # Fill the missing values for non-lonely passengers:\n",
    "        else:\n",
    "            data.loc[index, \"Name\"] = data[(data['Group'] == data.loc[index, 'Group']) & \\\n",
    "                    (data['Name'].isna() == False)]['Name'].mode()[0]"
   ]
  },
  {
   "cell_type": "markdown",
   "id": "9b87aab0",
   "metadata": {},
   "source": [
    "As you can see below, now Name doesn't have missing values:"
   ]
  },
  {
   "cell_type": "code",
   "execution_count": 637,
   "id": "103eb209",
   "metadata": {},
   "outputs": [
    {
     "name": "stdout",
     "output_type": "stream",
     "text": [
      "<class 'pandas.core.series.Series'>\n",
      "RangeIndex: 8693 entries, 0 to 8692\n",
      "Series name: Name\n",
      "Non-Null Count  Dtype \n",
      "--------------  ----- \n",
      "8693 non-null   object\n",
      "dtypes: object(1)\n",
      "memory usage: 68.0+ KB\n",
      "None\n",
      "count               8693\n",
      "unique              6491\n",
      "top       Clemondsey9081\n",
      "freq                   8\n",
      "Name: Name, dtype: object\n",
      "Unique Values:\n",
      "['Ofracculy0001' 'Vines0002' 'Susent0003' ... 'Mondalley9278' 'Connon9279'\n",
      " 'Hontichre9280']\n",
      "<class 'pandas.core.series.Series'>\n",
      "RangeIndex: 4277 entries, 0 to 4276\n",
      "Series name: Name\n",
      "Non-Null Count  Dtype \n",
      "--------------  ----- \n",
      "4277 non-null   object\n",
      "dtypes: object(1)\n",
      "memory usage: 33.5+ KB\n",
      "None\n",
      "count          4277\n",
      "unique         3200\n",
      "top       Casez6332\n",
      "freq              8\n",
      "Name: Name, dtype: object\n",
      "Unique Values:\n",
      "['Carsoning0013' 'Peckers0018' 'Unhearfus0019' ... 'Pore9271' 'Conale9273'\n",
      " 'Leonzaley9277']\n"
     ]
    }
   ],
   "source": [
    "for data in [train, test]:\n",
    "    print(data['Name'].info())\n",
    "    print(data['Name'].describe())\n",
    "    print('Unique Values:')\n",
    "    print(data['Name'].unique())"
   ]
  },
  {
   "cell_type": "markdown",
   "id": "da62e755",
   "metadata": {},
   "source": [
    "Since we don't have common Groups between train and test, we don't have common families as well. Hence, we'll just create FamilySize feature:"
   ]
  },
  {
   "cell_type": "code",
   "execution_count": 638,
   "id": "38a48212",
   "metadata": {},
   "outputs": [
    {
     "name": "stdout",
     "output_type": "stream",
     "text": [
      "<class 'pandas.core.series.Series'>\n",
      "RangeIndex: 8693 entries, 0 to 8692\n",
      "Series name: FamilySize\n",
      "Non-Null Count  Dtype\n",
      "--------------  -----\n",
      "8693 non-null   int64\n",
      "dtypes: int64(1)\n",
      "memory usage: 68.0 KB\n",
      "None\n",
      "count    8693.000000\n",
      "mean        1.819510\n",
      "std         1.304256\n",
      "min         1.000000\n",
      "25%         1.000000\n",
      "50%         1.000000\n",
      "75%         2.000000\n",
      "max         8.000000\n",
      "Name: FamilySize, dtype: float64\n",
      "Unique Values:\n",
      "[1 2 3 7 6 4 5 8]\n",
      "<class 'pandas.core.series.Series'>\n",
      "RangeIndex: 4277 entries, 0 to 4276\n",
      "Series name: FamilySize\n",
      "Non-Null Count  Dtype\n",
      "--------------  -----\n",
      "4277 non-null   int64\n",
      "dtypes: int64(1)\n",
      "memory usage: 33.5 KB\n",
      "None\n",
      "count    4277.000000\n",
      "mean        1.771569\n",
      "std         1.196133\n",
      "min         1.000000\n",
      "25%         1.000000\n",
      "50%         1.000000\n",
      "75%         2.000000\n",
      "max         8.000000\n",
      "Name: FamilySize, dtype: float64\n",
      "Unique Values:\n",
      "[1 2 3 5 4 6 7 8]\n"
     ]
    }
   ],
   "source": [
    "for data in [train, test]:\n",
    "    # Calculate FamilySize\n",
    "    data['FamilySize'] = data.groupby('Name')['Name'].transform('count')\n",
    "    print(data['FamilySize'].info())\n",
    "    print(data['FamilySize'].describe())\n",
    "    print('Unique Values:')\n",
    "    print(data['FamilySize'].unique())"
   ]
  },
  {
   "cell_type": "markdown",
   "id": "96691b87",
   "metadata": {},
   "source": [
    "Note, that GroupSize is not always equal to FamilySize:"
   ]
  },
  {
   "cell_type": "code",
   "execution_count": 639,
   "id": "508bff61",
   "metadata": {},
   "outputs": [
    {
     "data": {
      "text/plain": [
       "0    7727\n",
       "1     533\n",
       "2     202\n",
       "3      91\n",
       "4      70\n",
       "5      40\n",
       "6      22\n",
       "7       8\n",
       "dtype: int64"
      ]
     },
     "execution_count": 639,
     "metadata": {},
     "output_type": "execute_result"
    }
   ],
   "source": [
    "(train['GroupSize'] - train['FamilySize']).value_counts()"
   ]
  },
  {
   "cell_type": "code",
   "execution_count": 640,
   "id": "6b229796",
   "metadata": {},
   "outputs": [
    {
     "data": {
      "text/plain": [
       "0    3832\n",
       "1     208\n",
       "2      95\n",
       "3      57\n",
       "4      43\n",
       "5      30\n",
       "6       9\n",
       "7       3\n",
       "dtype: int64"
      ]
     },
     "execution_count": 640,
     "metadata": {},
     "output_type": "execute_result"
    }
   ],
   "source": [
    "(test['GroupSize'] - test['FamilySize']).value_counts()"
   ]
  },
  {
   "cell_type": "markdown",
   "id": "09e6fec7",
   "metadata": {},
   "source": [
    "Let's select features:"
   ]
  },
  {
   "cell_type": "code",
   "execution_count": 641,
   "id": "7e252a26",
   "metadata": {},
   "outputs": [
    {
     "name": "stdout",
     "output_type": "stream",
     "text": [
      "Best average cross-validation Score: 0.8342301402263921\n",
      "Best hyperparameters: {'Age': True, 'RoomService': True, 'FoodCourt': True, 'ShoppingMall': True, 'Spa': True, 'VRDeck': True, 'GroupSize': True, 'FamilySize': True}\n"
     ]
    }
   ],
   "source": [
    "train.to_csv('new_datasets/train_04.csv')\n",
    "test.to_csv('new_datasets/test_04.csv')\n",
    "\n",
    "study = joblib.load(\"studies/04.pkl\")\n",
    "\n",
    "print(\"Best average cross-validation Score:\", study.best_trial.value)\n",
    "print(\"Best hyperparameters:\", study.best_params)"
   ]
  },
  {
   "cell_type": "code",
   "execution_count": 642,
   "id": "4779f901",
   "metadata": {},
   "outputs": [
    {
     "data": {
      "text/html": [
       "<div>\n",
       "<style scoped>\n",
       "    .dataframe tbody tr th:only-of-type {\n",
       "        vertical-align: middle;\n",
       "    }\n",
       "\n",
       "    .dataframe tbody tr th {\n",
       "        vertical-align: top;\n",
       "    }\n",
       "\n",
       "    .dataframe thead th {\n",
       "        text-align: right;\n",
       "    }\n",
       "</style>\n",
       "<table border=\"1\" class=\"dataframe\">\n",
       "  <thead>\n",
       "    <tr style=\"text-align: right;\">\n",
       "      <th></th>\n",
       "      <th>Comment</th>\n",
       "      <th>Train Score</th>\n",
       "      <th>Cross-val Score</th>\n",
       "      <th>Test Accuracy</th>\n",
       "    </tr>\n",
       "  </thead>\n",
       "  <tbody>\n",
       "    <tr>\n",
       "      <th>0</th>\n",
       "      <td>All True</td>\n",
       "      <td>0.500000</td>\n",
       "      <td>0.500000</td>\n",
       "      <td>0.50689</td>\n",
       "    </tr>\n",
       "    <tr>\n",
       "      <th>1</th>\n",
       "      <td>All numerical features with 0's for missing va...</td>\n",
       "      <td>0.919507</td>\n",
       "      <td>0.828452</td>\n",
       "      <td>NaN</td>\n",
       "    </tr>\n",
       "    <tr>\n",
       "      <th>2</th>\n",
       "      <td>All numerical features are selected</td>\n",
       "      <td>0.919507</td>\n",
       "      <td>0.828452</td>\n",
       "      <td>NaN</td>\n",
       "    </tr>\n",
       "    <tr>\n",
       "      <th>3</th>\n",
       "      <td>+ GroupSize</td>\n",
       "      <td>0.932251</td>\n",
       "      <td>0.834209</td>\n",
       "      <td>NaN</td>\n",
       "    </tr>\n",
       "    <tr>\n",
       "      <th>4</th>\n",
       "      <td>+ FamilySize</td>\n",
       "      <td>0.935245</td>\n",
       "      <td>0.834230</td>\n",
       "      <td>NaN</td>\n",
       "    </tr>\n",
       "  </tbody>\n",
       "</table>\n",
       "</div>"
      ],
      "text/plain": [
       "                                             Comment  Train Score  \\\n",
       "0                                           All True     0.500000   \n",
       "1  All numerical features with 0's for missing va...     0.919507   \n",
       "2                All numerical features are selected     0.919507   \n",
       "3                                        + GroupSize     0.932251   \n",
       "4                                       + FamilySize     0.935245   \n",
       "\n",
       "   Cross-val Score  Test Accuracy  \n",
       "0         0.500000        0.50689  \n",
       "1         0.828452            NaN  \n",
       "2         0.828452            NaN  \n",
       "3         0.834209            NaN  \n",
       "4         0.834230            NaN  "
      ]
     },
     "execution_count": 642,
     "metadata": {},
     "output_type": "execute_result"
    }
   ],
   "source": [
    "# Create sets with selected columns\n",
    "\n",
    "selected_columns = []\n",
    "for key, value in study.best_params.items():\n",
    "    if value:\n",
    "        selected_columns.append(key)\n",
    "\n",
    "train_selected = train[selected_columns]\n",
    "train_selected = pd.concat([train_selected, train_unprocessed['Transported']], axis=1)\n",
    "test_selected =  test[selected_columns]\n",
    "\n",
    "\n",
    "train_score, cross_score, cross_scores_std, submission = get_score(global_variables, \n",
    "                                    train_selected, test_selected,\n",
    "                                    model, scores_df,\n",
    "                                    comment=\"+ FamilySize\")\n",
    "submission.to_csv('submissions/submission_04.csv', index=False)\n",
    "scores_df.loc[4, 'Test Accuracy'] = np.nan\n",
    "scores_df.to_csv('scores_df.csv')\n",
    "scores_df"
   ]
  },
  {
   "cell_type": "markdown",
   "id": "43d28f81",
   "metadata": {},
   "source": [
    "This is the first time when increase in Cross-val Score didn't lead to increase in Test Accuracy. However, as we stated before, we won't look at Test Accuracy for making decisions, since we want our model to generalize well to unseen data (imagine there will be more passenger data in the future).\n",
    "\n",
    "What is important for us, is that our Cross-val Score is increasing, and Test Accuracy is generally increasing, so we can't say that our Score calculations are bugged or that we are overfitting to the cross-validation sets."
   ]
  },
  {
   "cell_type": "markdown",
   "id": "35b09f64",
   "metadata": {},
   "source": [
    "## 05. The rest of categorical columns"
   ]
  },
  {
   "cell_type": "markdown",
   "id": "60e7bf3d",
   "metadata": {},
   "source": [
    "**HomePlanet** - The planet the passenger departed from, typically their planet of permanent residence.\n",
    "\n",
    "**Destination** - The planet the passenger will be debarking to.\n",
    "\n",
    "**VIP** - Whether the passenger has paid for special VIP service during the voyage.\n",
    "\n",
    "**Cabin** - The cabin number where the passenger is staying. Takes the form deck/num/side, where side can be either P for Port or S for Starboard.\n",
    "\n",
    "It makes sense that these three features depend on Group and Name, so we'll fill the missing values accordingly. For lonely passengers, we'll fill these columns with the most common values (in the train set, to avoud data leakage).\n",
    "\n",
    "We have three unique cases where the whole group has missing values. We'll fill them first:"
   ]
  },
  {
   "cell_type": "code",
   "execution_count": 643,
   "id": "0e7525d7",
   "metadata": {},
   "outputs": [],
   "source": [
    "# Add unprocessed columns\n",
    "for column in ['HomePlanet', 'Destination', 'VIP', 'Cabin', 'CryoSleep']:\n",
    "    train = pd.concat([train, train_unprocessed[column]], axis=1)\n",
    "    test = pd.concat([test, test_unprocessed[column]], axis=1)\n",
    "\n",
    "# Handle special cases\n",
    "train.loc[6917:6918, 'HomePlanet'] = train['HomePlanet'].mode()[0]\n",
    "train.loc[5778:5779, 'VIP'] = train['VIP'].mode()[0]\n",
    "test.loc[4248:4249, 'Cabin'] = test['Cabin'].mode()[0]"
   ]
  },
  {
   "cell_type": "code",
   "execution_count": 644,
   "id": "f82d744c",
   "metadata": {},
   "outputs": [],
   "source": [
    "# List of columns with missing values\n",
    "columns_to_fill = ['HomePlanet', 'Destination', 'VIP', 'Cabin']\n",
    "\n",
    "# Iterate through all columns with missing values\n",
    "for column in columns_to_fill:\n",
    "    # For two datasets\n",
    "    for data in [train, test]:\n",
    "        # Iterate through all the rows with missing data\n",
    "        for index in data[data[column].isna()].index:\n",
    "            # Fill the missing values for passengers alone in their group:\n",
    "            if len(data[data['Group'] == data.loc[index, 'Group']]) == 1:\n",
    "                data.loc[index, column] = train[column].mode()[0]\n",
    "             # Fill the missing values for passengers with an unique last name:\n",
    "            elif len(data[data['Name'] == data.loc[index, 'Name']]) == 1:\n",
    "                data.loc[index, column] = data[(data['Group'] == data.loc[index, 'Group']) & \\\n",
    "                    (data[column].isna() == False)][column].mode()[0]\n",
    "            # Fill the missing values for non-lonely passengers:\n",
    "            else:\n",
    "                data.loc[index, column] = data[(data['Group'] == data.loc[index, 'Group']) & \\\n",
    "                                (data['Name'] == data.loc[index, 'Name']) & \\\n",
    "                                (data[column].isna() == False)][column].mode()[0]"
   ]
  },
  {
   "cell_type": "markdown",
   "id": "d81535e9",
   "metadata": {},
   "source": [
    "Let's check the filled columns:"
   ]
  },
  {
   "cell_type": "code",
   "execution_count": 645,
   "id": "dff6afa6",
   "metadata": {},
   "outputs": [
    {
     "name": "stdout",
     "output_type": "stream",
     "text": [
      "<class 'pandas.core.series.Series'>\n",
      "RangeIndex: 8693 entries, 0 to 8692\n",
      "Series name: HomePlanet\n",
      "Non-Null Count  Dtype \n",
      "--------------  ----- \n",
      "8693 non-null   object\n",
      "dtypes: object(1)\n",
      "memory usage: 68.0+ KB\n",
      "None\n",
      "count      8693\n",
      "unique        3\n",
      "top       Earth\n",
      "freq       4745\n",
      "Name: HomePlanet, dtype: object\n",
      "Unique Values:\n",
      "['Europa' 'Earth' 'Mars']\n",
      "<class 'pandas.core.series.Series'>\n",
      "RangeIndex: 4277 entries, 0 to 4276\n",
      "Series name: HomePlanet\n",
      "Non-Null Count  Dtype \n",
      "--------------  ----- \n",
      "4277 non-null   object\n",
      "dtypes: object(1)\n",
      "memory usage: 33.5+ KB\n",
      "None\n",
      "count      4277\n",
      "unique        3\n",
      "top       Earth\n",
      "freq       2326\n",
      "Name: HomePlanet, dtype: object\n",
      "Unique Values:\n",
      "['Earth' 'Europa' 'Mars']\n",
      "<class 'pandas.core.series.Series'>\n",
      "RangeIndex: 8693 entries, 0 to 8692\n",
      "Series name: Destination\n",
      "Non-Null Count  Dtype \n",
      "--------------  ----- \n",
      "8693 non-null   object\n",
      "dtypes: object(1)\n",
      "memory usage: 68.0+ KB\n",
      "None\n",
      "count            8693\n",
      "unique              3\n",
      "top       TRAPPIST-1e\n",
      "freq             6072\n",
      "Name: Destination, dtype: object\n",
      "Unique Values:\n",
      "['TRAPPIST-1e' 'PSO J318.5-22' '55 Cancri e']\n",
      "<class 'pandas.core.series.Series'>\n",
      "RangeIndex: 4277 entries, 0 to 4276\n",
      "Series name: Destination\n",
      "Non-Null Count  Dtype \n",
      "--------------  ----- \n",
      "4277 non-null   object\n",
      "dtypes: object(1)\n",
      "memory usage: 33.5+ KB\n",
      "None\n",
      "count            4277\n",
      "unique              3\n",
      "top       TRAPPIST-1e\n",
      "freq             3034\n",
      "Name: Destination, dtype: object\n",
      "Unique Values:\n",
      "['TRAPPIST-1e' '55 Cancri e' 'PSO J318.5-22']\n",
      "<class 'pandas.core.series.Series'>\n",
      "RangeIndex: 8693 entries, 0 to 8692\n",
      "Series name: VIP\n",
      "Non-Null Count  Dtype \n",
      "--------------  ----- \n",
      "8693 non-null   object\n",
      "dtypes: object(1)\n",
      "memory usage: 68.0+ KB\n",
      "None\n",
      "count      8693\n",
      "unique        2\n",
      "top       False\n",
      "freq       8494\n",
      "Name: VIP, dtype: object\n",
      "Unique Values:\n",
      "[False True]\n",
      "<class 'pandas.core.series.Series'>\n",
      "RangeIndex: 4277 entries, 0 to 4276\n",
      "Series name: VIP\n",
      "Non-Null Count  Dtype \n",
      "--------------  ----- \n",
      "4277 non-null   object\n",
      "dtypes: object(1)\n",
      "memory usage: 33.5+ KB\n",
      "None\n",
      "count      4277\n",
      "unique        2\n",
      "top       False\n",
      "freq       4203\n",
      "Name: VIP, dtype: object\n",
      "Unique Values:\n",
      "[False True]\n",
      "<class 'pandas.core.series.Series'>\n",
      "RangeIndex: 8693 entries, 0 to 8692\n",
      "Series name: Cabin\n",
      "Non-Null Count  Dtype \n",
      "--------------  ----- \n",
      "8693 non-null   object\n",
      "dtypes: object(1)\n",
      "memory usage: 68.0+ KB\n",
      "None\n",
      "count        8693\n",
      "unique       6560\n",
      "top       G/734/S\n",
      "freq          107\n",
      "Name: Cabin, dtype: object\n",
      "Unique Values:\n",
      "['B/0/P' 'F/0/S' 'A/0/S' ... 'G/1499/S' 'G/1500/S' 'E/608/S']\n",
      "<class 'pandas.core.series.Series'>\n",
      "RangeIndex: 4277 entries, 0 to 4276\n",
      "Series name: Cabin\n",
      "Non-Null Count  Dtype \n",
      "--------------  ----- \n",
      "4277 non-null   object\n",
      "dtypes: object(1)\n",
      "memory usage: 33.5+ KB\n",
      "None\n",
      "count        4277\n",
      "unique       3266\n",
      "top       G/734/S\n",
      "freq           61\n",
      "Name: Cabin, dtype: object\n",
      "Unique Values:\n",
      "['G/3/S' 'F/4/S' 'C/0/S' ... 'D/296/P' 'D/297/P' 'G/1498/S']\n"
     ]
    }
   ],
   "source": [
    "for column in columns_to_fill:\n",
    "    for data in [train, test]:\n",
    "        print(data[column].info())\n",
    "        print(data[column].describe())\n",
    "        print('Unique Values:')\n",
    "        print(data[column].unique())"
   ]
  },
  {
   "cell_type": "markdown",
   "id": "cf6c00dc",
   "metadata": {},
   "source": [
    "Everything is good now, the first three columns are ready for encoding to numericals, but we want to extract the useful data from Cabin.\n",
    "\n",
    "**Cabin** - The cabin number where the passenger is staying. Takes the form deck/num/side, where side can be either P for Port or S for Starboard.\n",
    "\n",
    "Let's extract Deck and Side:"
   ]
  },
  {
   "cell_type": "code",
   "execution_count": 646,
   "id": "636512d2",
   "metadata": {},
   "outputs": [
    {
     "name": "stdout",
     "output_type": "stream",
     "text": [
      "<class 'pandas.core.series.Series'>\n",
      "RangeIndex: 8693 entries, 0 to 8692\n",
      "Series name: Deck\n",
      "Non-Null Count  Dtype \n",
      "--------------  ----- \n",
      "8693 non-null   object\n",
      "dtypes: object(1)\n",
      "memory usage: 68.0+ KB\n",
      "None\n",
      "count     8693\n",
      "unique       8\n",
      "top          F\n",
      "freq      2810\n",
      "Name: Deck, dtype: object\n",
      "Unique Values:\n",
      "['B' 'F' 'A' 'G' 'E' 'D' 'C' 'T']\n",
      "<class 'pandas.core.series.Series'>\n",
      "RangeIndex: 4277 entries, 0 to 4276\n",
      "Series name: Deck\n",
      "Non-Null Count  Dtype \n",
      "--------------  ----- \n",
      "4277 non-null   object\n",
      "dtypes: object(1)\n",
      "memory usage: 33.5+ KB\n",
      "None\n",
      "count     4277\n",
      "unique       8\n",
      "top          F\n",
      "freq      1458\n",
      "Name: Deck, dtype: object\n",
      "Unique Values:\n",
      "['G' 'F' 'C' 'B' 'D' 'E' 'A' 'T']\n",
      "<class 'pandas.core.series.Series'>\n",
      "RangeIndex: 8693 entries, 0 to 8692\n",
      "Series name: Side\n",
      "Non-Null Count  Dtype \n",
      "--------------  ----- \n",
      "8693 non-null   object\n",
      "dtypes: object(1)\n",
      "memory usage: 68.0+ KB\n",
      "None\n",
      "count     8693\n",
      "unique       2\n",
      "top          S\n",
      "freq      4442\n",
      "Name: Side, dtype: object\n",
      "Unique Values:\n",
      "['P' 'S']\n",
      "<class 'pandas.core.series.Series'>\n",
      "RangeIndex: 4277 entries, 0 to 4276\n",
      "Series name: Side\n",
      "Non-Null Count  Dtype \n",
      "--------------  ----- \n",
      "4277 non-null   object\n",
      "dtypes: object(1)\n",
      "memory usage: 33.5+ KB\n",
      "None\n",
      "count     4277\n",
      "unique       2\n",
      "top          S\n",
      "freq      2172\n",
      "Name: Side, dtype: object\n",
      "Unique Values:\n",
      "['S' 'P']\n"
     ]
    }
   ],
   "source": [
    "for data in [train, test]:\n",
    "    data['Deck'] = data.Cabin.str[0]\n",
    "    data['Side'] = data.Cabin.str[-1]\n",
    "\n",
    "for column in ['Deck', 'Side']:\n",
    "    for data in [train, test]:\n",
    "        print(data[column].info())\n",
    "        print(data[column].describe())\n",
    "        print('Unique Values:')\n",
    "        print(data[column].unique())"
   ]
  },
  {
   "cell_type": "markdown",
   "id": "0ba2b5b9",
   "metadata": {},
   "source": [
    "Seems great. We may assume that Decks are labeled based on their position in the spacehip, so we can label them with numbers:"
   ]
  },
  {
   "cell_type": "code",
   "execution_count": 647,
   "id": "fa3fcf74",
   "metadata": {},
   "outputs": [
    {
     "name": "stdout",
     "output_type": "stream",
     "text": [
      "Deck encoding matches in train and test, see the first 10 rows:\n",
      "  Deck  Deck_enc\n",
      "0    B         1\n",
      "1    F         5\n",
      "2    A         0\n",
      "3    A         0\n",
      "4    F         5\n",
      "5    F         5\n",
      "6    F         5\n",
      "7    G         6\n",
      "8    F         5\n",
      "9    B         1\n",
      "  Deck  Deck_enc\n",
      "0    G         6\n",
      "1    F         5\n",
      "2    C         2\n",
      "3    C         2\n",
      "4    F         5\n",
      "5    F         5\n",
      "6    B         1\n",
      "7    D         3\n",
      "8    D         3\n",
      "9    F         5\n"
     ]
    }
   ],
   "source": [
    "# Label encoder\n",
    "from sklearn.preprocessing import LabelEncoder\n",
    "le = LabelEncoder()\n",
    "\n",
    "print('Deck encoding matches in train and test, see the first 10 rows:')\n",
    "for data in [train, test]:\n",
    "    data['Deck_enc'] = le.fit_transform(data['Deck'])\n",
    "    print(data[['Deck', 'Deck_enc']].head(10))\n"
   ]
  },
  {
   "cell_type": "markdown",
   "id": "aac76e2b",
   "metadata": {},
   "source": [
    "**CryoSleep** - Indicates whether the passenger elected to be put into suspended animation for the duration of the voyage. Passengers in cryosleep are confined to their cabins.\n",
    "\n",
    "I suspect that CryoSleep may be dependend on HomePlanet and Destination. Let's check:"
   ]
  },
  {
   "cell_type": "code",
   "execution_count": 648,
   "id": "cc25c63e",
   "metadata": {},
   "outputs": [
    {
     "name": "stdout",
     "output_type": "stream",
     "text": [
      "Ratio of CryoSleep passengers per route:\n"
     ]
    },
    {
     "data": {
      "text/html": [
       "<div>\n",
       "<style scoped>\n",
       "    .dataframe tbody tr th:only-of-type {\n",
       "        vertical-align: middle;\n",
       "    }\n",
       "\n",
       "    .dataframe tbody tr th {\n",
       "        vertical-align: top;\n",
       "    }\n",
       "\n",
       "    .dataframe thead th {\n",
       "        text-align: right;\n",
       "    }\n",
       "</style>\n",
       "<table border=\"1\" class=\"dataframe\">\n",
       "  <thead>\n",
       "    <tr style=\"text-align: right;\">\n",
       "      <th>Destination</th>\n",
       "      <th>55 Cancri e</th>\n",
       "      <th>PSO J318.5-22</th>\n",
       "      <th>TRAPPIST-1e</th>\n",
       "    </tr>\n",
       "    <tr>\n",
       "      <th>HomePlanet</th>\n",
       "      <th></th>\n",
       "      <th></th>\n",
       "      <th></th>\n",
       "    </tr>\n",
       "  </thead>\n",
       "  <tbody>\n",
       "    <tr>\n",
       "      <th>Earth</th>\n",
       "      <td>0.310443</td>\n",
       "      <td>0.506259</td>\n",
       "      <td>0.263781</td>\n",
       "    </tr>\n",
       "    <tr>\n",
       "      <th>Europa</th>\n",
       "      <td>0.513636</td>\n",
       "      <td>0.473684</td>\n",
       "      <td>0.387043</td>\n",
       "    </tr>\n",
       "    <tr>\n",
       "      <th>Mars</th>\n",
       "      <td>0.411458</td>\n",
       "      <td>0.229167</td>\n",
       "      <td>0.393617</td>\n",
       "    </tr>\n",
       "  </tbody>\n",
       "</table>\n",
       "</div>"
      ],
      "text/plain": [
       "Destination  55 Cancri e  PSO J318.5-22  TRAPPIST-1e\n",
       "HomePlanet                                          \n",
       "Earth           0.310443       0.506259     0.263781\n",
       "Europa          0.513636       0.473684     0.387043\n",
       "Mars            0.411458       0.229167     0.393617"
      ]
     },
     "execution_count": 648,
     "metadata": {},
     "output_type": "execute_result"
    }
   ],
   "source": [
    "print('Ratio of CryoSleep passengers per route:')\n",
    "pd.pivot_table(train, values='CryoSleep', index=['HomePlanet'], columns=[\"Destination\"])"
   ]
  },
  {
   "cell_type": "code",
   "execution_count": 649,
   "id": "11dd8eca",
   "metadata": {},
   "outputs": [
    {
     "name": "stdout",
     "output_type": "stream",
     "text": [
      "Standard Deviation of CryoSleep: 0.47950261208567063\n"
     ]
    }
   ],
   "source": [
    "import numpy as np\n",
    "\n",
    "print('Standard Deviation of CryoSleep:', np.std(train['CryoSleep']))"
   ]
  },
  {
   "cell_type": "markdown",
   "id": "f44bdf7c",
   "metadata": {},
   "source": [
    "It seems that there is some dependency. We shall conduct a small statistical study to know for sure.\n",
    "\n",
    "First, we'll create a feature Route, for 9 different routes. This feature will be categorical:"
   ]
  },
  {
   "cell_type": "code",
   "execution_count": 650,
   "id": "9f191386",
   "metadata": {},
   "outputs": [
    {
     "name": "stdout",
     "output_type": "stream",
     "text": [
      "Unique Routes:\n",
      "['EuropaTRAPPIST-1e' 'EarthTRAPPIST-1e' 'EarthPSO J318.5-22'\n",
      " 'Europa55 Cancri e' 'MarsTRAPPIST-1e' 'Mars55 Cancri e'\n",
      " 'Earth55 Cancri e' 'MarsPSO J318.5-22' 'EuropaPSO J318.5-22']\n",
      "Amount of CryoSleep passengers per route:\n"
     ]
    },
    {
     "data": {
      "text/plain": [
       "Route                CryoSleep\n",
       "Earth55 Cancri e     False         482\n",
       "                     True          217\n",
       "EarthPSO J318.5-22   True          364\n",
       "                     False         355\n",
       "EarthTRAPPIST-1e     False        2364\n",
       "                     True          847\n",
       "Europa55 Cancri e    True          452\n",
       "                     False         428\n",
       "EuropaPSO J318.5-22  False          10\n",
       "                     True            9\n",
       "EuropaTRAPPIST-1e    False         738\n",
       "                     True          466\n",
       "Mars55 Cancri e      False         113\n",
       "                     True           79\n",
       "MarsPSO J318.5-22    False          37\n",
       "                     True           11\n",
       "MarsTRAPPIST-1e      False         912\n",
       "                     True          592\n",
       "Name: CryoSleep, dtype: int64"
      ]
     },
     "execution_count": 650,
     "metadata": {},
     "output_type": "execute_result"
    }
   ],
   "source": [
    "for data in [train, test]:\n",
    "    data['Route'] = data['HomePlanet'] + data['Destination']\n",
    "    \n",
    "print('Unique Routes:')\n",
    "print(train['Route'].unique())\n",
    "\n",
    "print('Amount of CryoSleep passengers per route:')\n",
    "train.groupby('Route')['CryoSleep'].value_counts()"
   ]
  },
  {
   "cell_type": "markdown",
   "id": "9f1546fb",
   "metadata": {},
   "source": [
    "ANOVA test:\n",
    "\n",
    "H_0: Ratios of CryoSleep passengers for each route are the same.\n",
    "\n",
    "H_A:Ratios of CryoSleep passengers for each route are are different.\n",
    "\n",
    "Significance level: 0.1."
   ]
  },
  {
   "cell_type": "code",
   "execution_count": 651,
   "id": "9bcc9203",
   "metadata": {},
   "outputs": [
    {
     "data": {
      "text/html": [
       "<div>\n",
       "<style scoped>\n",
       "    .dataframe tbody tr th:only-of-type {\n",
       "        vertical-align: middle;\n",
       "    }\n",
       "\n",
       "    .dataframe tbody tr th {\n",
       "        vertical-align: top;\n",
       "    }\n",
       "\n",
       "    .dataframe thead th {\n",
       "        text-align: right;\n",
       "    }\n",
       "</style>\n",
       "<table border=\"1\" class=\"dataframe\">\n",
       "  <thead>\n",
       "    <tr style=\"text-align: right;\">\n",
       "      <th></th>\n",
       "      <th>Source</th>\n",
       "      <th>ddof1</th>\n",
       "      <th>ddof2</th>\n",
       "      <th>F</th>\n",
       "      <th>p-unc</th>\n",
       "      <th>np2</th>\n",
       "    </tr>\n",
       "  </thead>\n",
       "  <tbody>\n",
       "    <tr>\n",
       "      <th>0</th>\n",
       "      <td>Route</td>\n",
       "      <td>8</td>\n",
       "      <td>8684</td>\n",
       "      <td>38.580434</td>\n",
       "      <td>7.818927e-61</td>\n",
       "      <td>0.034322</td>\n",
       "    </tr>\n",
       "  </tbody>\n",
       "</table>\n",
       "</div>"
      ],
      "text/plain": [
       "  Source  ddof1  ddof2          F         p-unc       np2\n",
       "0  Route      8   8684  38.580434  7.818927e-61  0.034322"
      ]
     },
     "execution_count": 651,
     "metadata": {},
     "output_type": "execute_result"
    }
   ],
   "source": [
    "# UNCOMMENT TO INSTALL PINGOUIN\n",
    "# !pip install pingouin\n",
    "\n",
    "# Convert CryoSleep to numneric\n",
    "for data in [train, test]:\n",
    "    data['CryoSleep'] = [1 if i else 0 for i in data['CryoSleep']]\n",
    "\n",
    "import pingouin\n",
    "\n",
    "# Run an ANOVA\n",
    "pingouin.anova(data=train, dv=\"CryoSleep\", between=\"Route\")"
   ]
  },
  {
   "cell_type": "code",
   "execution_count": 652,
   "id": "a962935a",
   "metadata": {},
   "outputs": [
    {
     "data": {
      "text/html": [
       "<div>\n",
       "<style scoped>\n",
       "    .dataframe tbody tr th:only-of-type {\n",
       "        vertical-align: middle;\n",
       "    }\n",
       "\n",
       "    .dataframe tbody tr th {\n",
       "        vertical-align: top;\n",
       "    }\n",
       "\n",
       "    .dataframe thead th {\n",
       "        text-align: right;\n",
       "    }\n",
       "</style>\n",
       "<table border=\"1\" class=\"dataframe\">\n",
       "  <thead>\n",
       "    <tr style=\"text-align: right;\">\n",
       "      <th></th>\n",
       "      <th>Source</th>\n",
       "      <th>ddof1</th>\n",
       "      <th>H</th>\n",
       "      <th>p-unc</th>\n",
       "    </tr>\n",
       "  </thead>\n",
       "  <tbody>\n",
       "    <tr>\n",
       "      <th>Kruskal</th>\n",
       "      <td>Route</td>\n",
       "      <td>8</td>\n",
       "      <td>298.324852</td>\n",
       "      <td>9.357762e-60</td>\n",
       "    </tr>\n",
       "  </tbody>\n",
       "</table>\n",
       "</div>"
      ],
      "text/plain": [
       "        Source  ddof1           H         p-unc\n",
       "Kruskal  Route      8  298.324852  9.357762e-60"
      ]
     },
     "execution_count": 652,
     "metadata": {},
     "output_type": "execute_result"
    }
   ],
   "source": [
    "# Kruskal-Wallis test \n",
    "pingouin.kruskal(data=train, dv=\"CryoSleep\", between=\"Route\")"
   ]
  },
  {
   "cell_type": "markdown",
   "id": "ce7148fe",
   "metadata": {},
   "source": [
    "It is safe to assume that CryoSleep depends on Route. Let's fill missing values based on Route, making sure to avoid data leakage (mode of the categories is calculated based on the train set only):"
   ]
  },
  {
   "cell_type": "code",
   "execution_count": 653,
   "id": "9144a8a7",
   "metadata": {},
   "outputs": [
    {
     "name": "stdout",
     "output_type": "stream",
     "text": [
      "<class 'pandas.core.series.Series'>\n",
      "RangeIndex: 8693 entries, 0 to 8692\n",
      "Series name: CryoSleep\n",
      "Non-Null Count  Dtype\n",
      "--------------  -----\n",
      "8693 non-null   int64\n",
      "dtypes: int64(1)\n",
      "memory usage: 68.0 KB\n",
      "None\n",
      "count    8693.000000\n",
      "mean        0.374324\n",
      "std         0.483976\n",
      "min         0.000000\n",
      "25%         0.000000\n",
      "50%         0.000000\n",
      "75%         1.000000\n",
      "max         1.000000\n",
      "Name: CryoSleep, dtype: float64\n",
      "Unique Values:\n",
      "[0 1]\n",
      "<class 'pandas.core.series.Series'>\n",
      "RangeIndex: 4277 entries, 0 to 4276\n",
      "Series name: CryoSleep\n",
      "Non-Null Count  Dtype\n",
      "--------------  -----\n",
      "4277 non-null   int64\n",
      "dtypes: int64(1)\n",
      "memory usage: 33.5 KB\n",
      "None\n",
      "count    4277.000000\n",
      "mean        0.382745\n",
      "std         0.486114\n",
      "min         0.000000\n",
      "25%         0.000000\n",
      "50%         0.000000\n",
      "75%         1.000000\n",
      "max         1.000000\n",
      "Name: CryoSleep, dtype: float64\n",
      "Unique Values:\n",
      "[1 0]\n"
     ]
    }
   ],
   "source": [
    "for data in [train, test]:\n",
    "    # Iterate through all the rows with missing data\n",
    "    for index in data[data['CryoSleep'].isna()].index:\n",
    "        # Fill the missing values:\n",
    "        data.loc[index, \"CryoSleep\"] = \\\n",
    "            train[(train['HomePlanet'] == data.loc[index, 'HomePlanet']) & \\\n",
    "                  (train['Destination'] == data.loc[index, 'Destination']) & \\\n",
    "                  (train['CryoSleep'].isna() == False)]['CryoSleep'].mode()[0]\n",
    "\n",
    "    print(data['CryoSleep'].info())\n",
    "    print(data['CryoSleep'].describe())\n",
    "    print('Unique Values:')\n",
    "    print(data['CryoSleep'].unique())"
   ]
  },
  {
   "cell_type": "markdown",
   "id": "ff6e6b8d",
   "metadata": {},
   "source": [
    "Let's look at the current results of the validation and cleaning:"
   ]
  },
  {
   "cell_type": "code",
   "execution_count": 654,
   "id": "95f2752a",
   "metadata": {},
   "outputs": [
    {
     "name": "stdout",
     "output_type": "stream",
     "text": [
      "<class 'pandas.core.frame.DataFrame'>\n",
      "RangeIndex: 8693 entries, 0 to 8692\n",
      "Data columns (total 21 columns):\n",
      " #   Column        Non-Null Count  Dtype  \n",
      "---  ------        --------------  -----  \n",
      " 0   Age           8693 non-null   float64\n",
      " 1   RoomService   8693 non-null   float64\n",
      " 2   FoodCourt     8693 non-null   float64\n",
      " 3   ShoppingMall  8693 non-null   float64\n",
      " 4   Spa           8693 non-null   float64\n",
      " 5   VRDeck        8693 non-null   float64\n",
      " 6   Transported   8693 non-null   int64  \n",
      " 7   Group         8693 non-null   object \n",
      " 8   Group_enc     8693 non-null   float64\n",
      " 9   GroupSize     8693 non-null   int64  \n",
      " 10  Name          8693 non-null   object \n",
      " 11  FamilySize    8693 non-null   int64  \n",
      " 12  HomePlanet    8693 non-null   object \n",
      " 13  Destination   8693 non-null   object \n",
      " 14  VIP           8693 non-null   object \n",
      " 15  Cabin         8693 non-null   object \n",
      " 16  CryoSleep     8693 non-null   int64  \n",
      " 17  Deck          8693 non-null   object \n",
      " 18  Side          8693 non-null   object \n",
      " 19  Deck_enc      8693 non-null   int32  \n",
      " 20  Route         8693 non-null   object \n",
      "dtypes: float64(7), int32(1), int64(4), object(9)\n",
      "memory usage: 1.4+ MB\n"
     ]
    }
   ],
   "source": [
    "train.info()"
   ]
  },
  {
   "cell_type": "code",
   "execution_count": 655,
   "id": "cece51df",
   "metadata": {},
   "outputs": [
    {
     "name": "stdout",
     "output_type": "stream",
     "text": [
      "<class 'pandas.core.frame.DataFrame'>\n",
      "RangeIndex: 4277 entries, 0 to 4276\n",
      "Data columns (total 20 columns):\n",
      " #   Column        Non-Null Count  Dtype  \n",
      "---  ------        --------------  -----  \n",
      " 0   Age           4277 non-null   float64\n",
      " 1   RoomService   4277 non-null   float64\n",
      " 2   FoodCourt     4277 non-null   float64\n",
      " 3   ShoppingMall  4277 non-null   float64\n",
      " 4   Spa           4277 non-null   float64\n",
      " 5   VRDeck        4277 non-null   float64\n",
      " 6   Group         4277 non-null   object \n",
      " 7   Group_enc     4277 non-null   float64\n",
      " 8   GroupSize     4277 non-null   int64  \n",
      " 9   Name          4277 non-null   object \n",
      " 10  FamilySize    4277 non-null   int64  \n",
      " 11  HomePlanet    4277 non-null   object \n",
      " 12  Destination   4277 non-null   object \n",
      " 13  VIP           4277 non-null   object \n",
      " 14  Cabin         4277 non-null   object \n",
      " 15  CryoSleep     4277 non-null   int64  \n",
      " 16  Deck          4277 non-null   object \n",
      " 17  Side          4277 non-null   object \n",
      " 18  Deck_enc      4277 non-null   int32  \n",
      " 19  Route         4277 non-null   object \n",
      "dtypes: float64(7), int32(1), int64(3), object(9)\n",
      "memory usage: 651.7+ KB\n"
     ]
    }
   ],
   "source": [
    "test.info()"
   ]
  },
  {
   "cell_type": "markdown",
   "id": "e2e8109a",
   "metadata": {},
   "source": [
    "None of the categorical columns have missing values.\n",
    "\n",
    "Now, let's create dummy variables for categorical data and test if they'll benefit our performance:"
   ]
  },
  {
   "cell_type": "code",
   "execution_count": 656,
   "id": "d62d0ee6",
   "metadata": {},
   "outputs": [
    {
     "name": "stdout",
     "output_type": "stream",
     "text": [
      "    Age  RoomService  FoodCourt  ShoppingMall     Spa  VRDeck  Transported  \\\n",
      "0  39.0          0.0        0.0           0.0     0.0     0.0            0   \n",
      "1  24.0        109.0        9.0          25.0   549.0    44.0            1   \n",
      "2  58.0         43.0     3576.0           0.0  6715.0    49.0            0   \n",
      "3  33.0          0.0     1283.0         371.0  3329.0   193.0            0   \n",
      "4  16.0        303.0       70.0         151.0   565.0     2.0            1   \n",
      "\n",
      "  Group  Group_enc  GroupSize  ... CryoSleep  Deck Side Deck_enc  \\\n",
      "0  0001   0.503595          1  ...         0     B    P        1   \n",
      "1  0002   0.503595          1  ...         0     F    S        5   \n",
      "2  0003   0.444412          2  ...         0     A    S        0   \n",
      "3  0003   0.444349          2  ...         0     A    S        0   \n",
      "4  0004   0.503666          1  ...         0     F    S        5   \n",
      "\n",
      "               Route Europa  Mars PSO J318.5-22 TRAPPIST-1e  S  \n",
      "0  EuropaTRAPPIST-1e      1     0             0           1  0  \n",
      "1   EarthTRAPPIST-1e      0     0             0           1  1  \n",
      "2  EuropaTRAPPIST-1e      1     0             0           1  1  \n",
      "3  EuropaTRAPPIST-1e      1     0             0           1  1  \n",
      "4   EarthTRAPPIST-1e      0     0             0           1  1  \n",
      "\n",
      "[5 rows x 26 columns]\n",
      "0    0\n",
      "1    0\n",
      "2    1\n",
      "3    0\n",
      "4    0\n",
      "Name: VIP, dtype: int64\n",
      "    Age  RoomService  FoodCourt  ShoppingMall     Spa  VRDeck Group  \\\n",
      "0  27.0          0.0        0.0           0.0     0.0     0.0  0013   \n",
      "1  19.0          0.0        9.0           0.0  2823.0     0.0  0018   \n",
      "2  31.0          0.0        0.0           0.0     0.0     0.0  0019   \n",
      "3  38.0          0.0     6652.0           0.0   181.0   585.0  0021   \n",
      "4  20.0         10.0        0.0         635.0     0.0     0.0  0023   \n",
      "\n",
      "   Group_enc  GroupSize           Name  ...  CryoSleep Deck Side  Deck_enc  \\\n",
      "0   0.503624          1  Carsoning0013  ...          1    G    S         6   \n",
      "1   0.503624          1    Peckers0018  ...          0    F    S         5   \n",
      "2   0.503624          1  Unhearfus0019  ...          1    C    S         2   \n",
      "3   0.503624          1  Caltilter0021  ...          0    C    S         2   \n",
      "4   0.503624          1   Harperez0023  ...          0    F    S         5   \n",
      "\n",
      "               Route  Europa Mars PSO J318.5-22  TRAPPIST-1e  S  \n",
      "0   EarthTRAPPIST-1e       0    0             0            1  1  \n",
      "1   EarthTRAPPIST-1e       0    0             0            1  1  \n",
      "2  Europa55 Cancri e       1    0             0            0  1  \n",
      "3  EuropaTRAPPIST-1e       1    0             0            1  1  \n",
      "4   EarthTRAPPIST-1e       0    0             0            1  1  \n",
      "\n",
      "[5 rows x 25 columns]\n"
     ]
    },
    {
     "data": {
      "text/plain": [
       "array([0, 1], dtype=int64)"
      ]
     },
     "execution_count": 656,
     "metadata": {},
     "output_type": "execute_result"
    }
   ],
   "source": [
    "binary_columns = ['VIP', 'CryoSleep']\n",
    "\n",
    "for data in [train, test]:\n",
    "    for column in binary_columns:\n",
    "        data[column] = [1 if i else 0 for i in data[column]]\n",
    "\n",
    "categorical_columns = ['HomePlanet', 'Destination', 'Side']\n",
    "\n",
    "\n",
    "for column in categorical_columns:\n",
    "    dummies = pd.get_dummies(train[column], drop_first=True)\n",
    "    train = pd.concat([train, dummies], axis = 1)\n",
    "    dummies = pd.get_dummies(test[column], drop_first=True)\n",
    "    test = pd.concat([test, dummies], axis = 1)\n",
    "\n",
    "print(train.head())\n",
    "print(train['VIP'].head())\n",
    "print(test.head())\n",
    "test['VIP'].unique()\n"
   ]
  },
  {
   "cell_type": "code",
   "execution_count": 657,
   "id": "e49bd755",
   "metadata": {},
   "outputs": [
    {
     "name": "stdout",
     "output_type": "stream",
     "text": [
      "Best average cross-validation Score: 0.8629191041191197\n",
      "Best hyperparameters: {'Age': False, 'RoomService': True, 'FoodCourt': True, 'ShoppingMall': True, 'Spa': True, 'VRDeck': True, 'GroupSize': False, 'VIP': True, 'CryoSleep': True, 'Europa': True, 'Mars': True, 'PSO J318.5-22': True, 'TRAPPIST-1e': True, 'S': True}\n"
     ]
    }
   ],
   "source": [
    "train.to_csv('new_datasets/train_05.csv')\n",
    "test.to_csv('new_datasets/test_05.csv')\n",
    "\n",
    "study = joblib.load(\"studies/05.pkl\")\n",
    "\n",
    "best_params_05 = study.best_params\n",
    "\n",
    "print(\"Best average cross-validation Score:\", study.best_trial.value)\n",
    "print(\"Best hyperparameters:\", study.best_params)"
   ]
  },
  {
   "cell_type": "markdown",
   "id": "30c4f2d9",
   "metadata": {},
   "source": [
    "As we can see, some of the columns were rejected, but it may be due to the fact that computing all the variants takes too much time and we are stuck in a local maximum. We'll conduct another study, in which we'll accept by default all the accepted columns, and we''l test if adding rejected columns is beneficial:"
   ]
  },
  {
   "cell_type": "code",
   "execution_count": 658,
   "id": "e6022667",
   "metadata": {},
   "outputs": [
    {
     "name": "stdout",
     "output_type": "stream",
     "text": [
      "Best average cross-validation Score: 0.8697466002712255\n",
      "Best hyperparameters: {'Age': True, 'GroupSize': True}\n"
     ]
    }
   ],
   "source": [
    "study = joblib.load(\"studies/05_2.pkl\")\n",
    "\n",
    "print(\"Best average cross-validation Score:\", study.best_trial.value)\n",
    "print(\"Best hyperparameters:\", study.best_params)"
   ]
  },
  {
   "cell_type": "markdown",
   "id": "8612a889",
   "metadata": {},
   "source": [
    "Indeed, all our features are accepted! Let's put the new Scores in the table:"
   ]
  },
  {
   "cell_type": "code",
   "execution_count": 659,
   "id": "f17494be",
   "metadata": {},
   "outputs": [
    {
     "data": {
      "text/html": [
       "<div>\n",
       "<style scoped>\n",
       "    .dataframe tbody tr th:only-of-type {\n",
       "        vertical-align: middle;\n",
       "    }\n",
       "\n",
       "    .dataframe tbody tr th {\n",
       "        vertical-align: top;\n",
       "    }\n",
       "\n",
       "    .dataframe thead th {\n",
       "        text-align: right;\n",
       "    }\n",
       "</style>\n",
       "<table border=\"1\" class=\"dataframe\">\n",
       "  <thead>\n",
       "    <tr style=\"text-align: right;\">\n",
       "      <th></th>\n",
       "      <th>Comment</th>\n",
       "      <th>Train Score</th>\n",
       "      <th>Cross-val Score</th>\n",
       "      <th>Test Accuracy</th>\n",
       "    </tr>\n",
       "  </thead>\n",
       "  <tbody>\n",
       "    <tr>\n",
       "      <th>0</th>\n",
       "      <td>All True</td>\n",
       "      <td>0.500000</td>\n",
       "      <td>0.500000</td>\n",
       "      <td>0.50689</td>\n",
       "    </tr>\n",
       "    <tr>\n",
       "      <th>1</th>\n",
       "      <td>All numerical features with 0's for missing va...</td>\n",
       "      <td>0.919507</td>\n",
       "      <td>0.828452</td>\n",
       "      <td>NaN</td>\n",
       "    </tr>\n",
       "    <tr>\n",
       "      <th>2</th>\n",
       "      <td>All numerical features are selected</td>\n",
       "      <td>0.919507</td>\n",
       "      <td>0.828452</td>\n",
       "      <td>NaN</td>\n",
       "    </tr>\n",
       "    <tr>\n",
       "      <th>3</th>\n",
       "      <td>+ GroupSize</td>\n",
       "      <td>0.932251</td>\n",
       "      <td>0.834209</td>\n",
       "      <td>NaN</td>\n",
       "    </tr>\n",
       "    <tr>\n",
       "      <th>4</th>\n",
       "      <td>+ FamilySize</td>\n",
       "      <td>0.935245</td>\n",
       "      <td>0.834230</td>\n",
       "      <td>NaN</td>\n",
       "    </tr>\n",
       "    <tr>\n",
       "      <th>5</th>\n",
       "      <td>+ All categorical features</td>\n",
       "      <td>0.965743</td>\n",
       "      <td>0.869747</td>\n",
       "      <td>0.79214</td>\n",
       "    </tr>\n",
       "  </tbody>\n",
       "</table>\n",
       "</div>"
      ],
      "text/plain": [
       "                                             Comment  Train Score  \\\n",
       "0                                           All True     0.500000   \n",
       "1  All numerical features with 0's for missing va...     0.919507   \n",
       "2                All numerical features are selected     0.919507   \n",
       "3                                        + GroupSize     0.932251   \n",
       "4                                       + FamilySize     0.935245   \n",
       "5                         + All categorical features     0.965743   \n",
       "\n",
       "   Cross-val Score  Test Accuracy  \n",
       "0         0.500000        0.50689  \n",
       "1         0.828452            NaN  \n",
       "2         0.828452            NaN  \n",
       "3         0.834209            NaN  \n",
       "4         0.834230            NaN  \n",
       "5         0.869747        0.79214  "
      ]
     },
     "execution_count": 659,
     "metadata": {},
     "output_type": "execute_result"
    }
   ],
   "source": [
    "# Create sets with selected columns\n",
    "\n",
    "selected_columns = []\n",
    "for key, value in best_params_05.items():\n",
    "    if value:\n",
    "        selected_columns.append(key)\n",
    "for key, value in study.best_params.items():\n",
    "    if value:\n",
    "        selected_columns.append(key)\n",
    "        \n",
    "\n",
    "\n",
    "train_selected = train[selected_columns]\n",
    "train_selected = pd.concat([train_selected, train_unprocessed['Transported']], axis=1)\n",
    "test_selected =  test[selected_columns]\n",
    "\n",
    "\n",
    "train_score, cross_score, cross_scores_std, submission = get_score(global_variables, \n",
    "                                    train_selected, test_selected,\n",
    "                                    model, scores_df,\n",
    "                                    comment=\"+ All categorical features\")\n",
    "submission.to_csv('submissions/submission_05.csv', index=False)\n",
    "scores_df.loc[5, 'Test Accuracy'] = 0.79214\n",
    "scores_df.to_csv('scores_df.csv')\n",
    "scores_df"
   ]
  },
  {
   "cell_type": "markdown",
   "id": "54ab4258",
   "metadata": {},
   "source": [
    "## 06. Filling numerical features\n",
    "\n",
    "At the beginning of Part 4, we filled missing values in our numerical features with 0's. \n",
    "\n",
    "What if we try more elaborate filling strategies?\n",
    "\n",
    "**RoomService, FoodCourt, ShoppingMall, Spa, VRDeck** - Amount the passenger has billed at each of the Spaceship Titanic's many luxury amenities.\n",
    "\n",
    "Almost all passengers with CryoSleep == True do not spend money on servises. Here is the 99th quantiles:"
   ]
  },
  {
   "cell_type": "code",
   "execution_count": 660,
   "id": "a6c3ee53",
   "metadata": {
    "scrolled": true
   },
   "outputs": [
    {
     "name": "stdout",
     "output_type": "stream",
     "text": [
      "Age               65.000000\n",
      "RoomService      353.390000\n",
      "FoodCourt        773.700000\n",
      "ShoppingMall     249.290000\n",
      "Spa              233.890000\n",
      "VRDeck           182.290000\n",
      "Transported        1.000000\n",
      "Group_enc          0.645476\n",
      "GroupSize          8.000000\n",
      "FamilySize         7.000000\n",
      "VIP                0.000000\n",
      "CryoSleep          1.000000\n",
      "Deck_enc           6.000000\n",
      "Europa             1.000000\n",
      "Mars               1.000000\n",
      "PSO J318.5-22      1.000000\n",
      "TRAPPIST-1e        1.000000\n",
      "S                  1.000000\n",
      "Name: 0.99, dtype: float64\n"
     ]
    }
   ],
   "source": [
    "print(train[train['CryoSleep'] == 1].quantile(0.99, numeric_only=True))"
   ]
  },
  {
   "cell_type": "markdown",
   "id": "d1e2ed51",
   "metadata": {},
   "source": [
    "Therefore, we can fill missing values with 0's for such passengers."
   ]
  },
  {
   "cell_type": "code",
   "execution_count": 661,
   "id": "c50f8871",
   "metadata": {},
   "outputs": [
    {
     "name": "stdout",
     "output_type": "stream",
     "text": [
      "<class 'pandas.core.frame.DataFrame'>\n",
      "RangeIndex: 8693 entries, 0 to 8692\n",
      "Data columns (total 26 columns):\n",
      " #   Column         Non-Null Count  Dtype  \n",
      "---  ------         --------------  -----  \n",
      " 0   Age            8514 non-null   float64\n",
      " 1   RoomService    8512 non-null   float64\n",
      " 2   FoodCourt      8510 non-null   float64\n",
      " 3   ShoppingMall   8485 non-null   float64\n",
      " 4   Spa            8510 non-null   float64\n",
      " 5   VRDeck         8505 non-null   float64\n",
      " 6   Transported    8693 non-null   int64  \n",
      " 7   Group          8693 non-null   object \n",
      " 8   Group_enc      8693 non-null   float64\n",
      " 9   GroupSize      8693 non-null   int64  \n",
      " 10  Name           8693 non-null   object \n",
      " 11  FamilySize     8693 non-null   int64  \n",
      " 12  HomePlanet     8693 non-null   object \n",
      " 13  Destination    8693 non-null   object \n",
      " 14  VIP            8693 non-null   int64  \n",
      " 15  Cabin          8693 non-null   object \n",
      " 16  CryoSleep      8693 non-null   int64  \n",
      " 17  Deck           8693 non-null   object \n",
      " 18  Side           8693 non-null   object \n",
      " 19  Deck_enc       8693 non-null   int32  \n",
      " 20  Route          8693 non-null   object \n",
      " 21  Europa         8693 non-null   uint8  \n",
      " 22  Mars           8693 non-null   uint8  \n",
      " 23  PSO J318.5-22  8693 non-null   uint8  \n",
      " 24  TRAPPIST-1e    8693 non-null   uint8  \n",
      " 25  S              8693 non-null   uint8  \n",
      "dtypes: float64(7), int32(1), int64(5), object(8), uint8(5)\n",
      "memory usage: 1.4+ MB\n",
      "None\n"
     ]
    }
   ],
   "source": [
    "# Collect unprocessed \"Age\" to train and test\n",
    "train['Age'] = train_unprocessed['Age']\n",
    "test['Age'] = test_unprocessed['Age']\n",
    "\n",
    "# For each category of spendings\n",
    "for column in ['RoomService', 'FoodCourt', 'ShoppingMall', 'Spa', 'VRDeck']:\n",
    "    # Collect unprocessed columns to train and test\n",
    "    train[column] = train_unprocessed[column]\n",
    "    test[column] = test_unprocessed[column]\n",
    "    # Zeros for passengers in CryoSleep\n",
    "    train.loc[train['CryoSleep'] == True, column].fillna(0, inplace = True)\n",
    "    test.loc[test['CryoSleep'] == True, column].fillna(0, inplace = True)\n",
    "\n",
    "print(train.info())"
   ]
  },
  {
   "cell_type": "markdown",
   "id": "a7874b53",
   "metadata": {},
   "source": [
    "How about prices for services of VIP vs not VIP?"
   ]
  },
  {
   "cell_type": "code",
   "execution_count": 662,
   "id": "1affcc55",
   "metadata": {},
   "outputs": [
    {
     "data": {
      "text/plain": [
       "<seaborn.axisgrid.FacetGrid at 0x15e157fdf60>"
      ]
     },
     "execution_count": 662,
     "metadata": {},
     "output_type": "execute_result"
    },
    {
     "data": {
      "image/png": "[encoded data removed]",
      "text/plain": [
       "<Figure size 558.875x500 with 1 Axes>"
      ]
     },
     "metadata": {},
     "output_type": "display_data"
    },
    {
     "data": {
      "image/png": "[encoded data removed]",
      "text/plain": [
       "<Figure size 558.875x500 with 1 Axes>"
      ]
     },
     "metadata": {},
     "output_type": "display_data"
    }
   ],
   "source": [
    "import seaborn as sns\n",
    "\n",
    "sns.catplot(data=train, y='RoomService', hue='VIP', alpha = 0.5)\n",
    "sns.catplot(data=train, y='ShoppingMall', hue='VIP', alpha = 0.5)"
   ]
  },
  {
   "cell_type": "markdown",
   "id": "75d95359",
   "metadata": {},
   "source": [
    "It seems that VIP status doesn't affect spendings much. Let's look for other correlations, but first let's introduce a feature TotalSpendings:"
   ]
  },
  {
   "cell_type": "code",
   "execution_count": 663,
   "id": "f114f32a",
   "metadata": {},
   "outputs": [
    {
     "name": "stdout",
     "output_type": "stream",
     "text": [
      "<class 'pandas.core.series.Series'>\n",
      "RangeIndex: 8693 entries, 0 to 8692\n",
      "Series name: TotalSpendings\n",
      "Non-Null Count  Dtype  \n",
      "--------------  -----  \n",
      "8693 non-null   float64\n",
      "dtypes: float64(1)\n",
      "memory usage: 68.0 KB\n",
      "None\n"
     ]
    },
    {
     "data": {
      "text/plain": [
       "count     8693.000000\n",
       "mean      1442.901875\n",
       "std       2803.065832\n",
       "min          1.000000\n",
       "25%          2.000000\n",
       "50%        718.000000\n",
       "75%       1443.000000\n",
       "max      35988.000000\n",
       "Name: TotalSpendings, dtype: float64"
      ]
     },
     "execution_count": 663,
     "metadata": {},
     "output_type": "execute_result"
    }
   ],
   "source": [
    "train['TotalSpendings'] = train[['RoomService', 'FoodCourt', 'ShoppingMall', 'Spa', 'VRDeck', 'GroupSize']].sum(axis=1)\n",
    "test['TotalSpendings'] = test[['RoomService', 'FoodCourt', 'ShoppingMall', 'Spa', 'VRDeck', 'GroupSize']].sum(axis=1)\n",
    "\n",
    "print(train['TotalSpendings'].info())\n",
    "train['TotalSpendings'].describe()"
   ]
  },
  {
   "cell_type": "code",
   "execution_count": null,
   "id": "14e55569",
   "metadata": {},
   "outputs": [],
   "source": [
    "%%time\n",
    "\n",
    "import matplotlib.pyplot as plt\n",
    "\n",
    "# Plot pairwise relationships\n",
    "sns.pairplot(train.loc[train['CryoSleep'] == False, ['RoomService', 'FoodCourt', \\\n",
    "                                                    'ShoppingMall', 'Spa', 'VRDeck', \\\n",
    "                                                    'Age', 'GroupSize', 'TotalSpendings']])\n",
    "\n",
    "# Show plot\n",
    "plt.show()"
   ]
  },
  {
   "cell_type": "markdown",
   "id": "16fec506",
   "metadata": {},
   "source": [
    "First, we see that spendings in different categories don't really corelate with each other or with TotalSpendings.\n",
    "\n",
    "However, we see that all of them show the same pattern with Age. Let's look at this pattern more closely:"
   ]
  },
  {
   "cell_type": "code",
   "execution_count": null,
   "id": "65afb92b",
   "metadata": {},
   "outputs": [],
   "source": [
    "# Plot pairwise relationships\n",
    "sns.scatterplot(data = train[train['CryoSleep'] == False], x='Age', y='TotalSpendings')\n",
    "\n",
    "# Show plot\n",
    "plt.show()"
   ]
  },
  {
   "cell_type": "code",
   "execution_count": null,
   "id": "5cfee37b",
   "metadata": {},
   "outputs": [],
   "source": [
    "print('Median spendings of kids, teens and adults:')\n",
    "\n",
    "print(train.loc[train['Age'] < 14, 'TotalSpendings'].median())\n",
    "print(train.loc[(train['Age'] >= 14) & (train['Age']  <= 19), 'TotalSpendings'].median())\n",
    "print(train.loc[train['Age'] > 21, 'TotalSpendings'].median())"
   ]
  },
  {
   "cell_type": "markdown",
   "id": "91523ab3",
   "metadata": {},
   "source": [
    "We see that kids almost don't spend, and adults spend more than teens.\n",
    "\n",
    "1) We'll create AgeGroup, with values 0 for kids, 1 for teens and 2 for adults\n",
    "\n",
    "1) We'll fill missing TotalSpendings according to median TotalSpendings for their AgeGroup (calculated on the train set, to prevent data leakage)\n",
    "\n",
    "2) Missing spendings per category will be 0, because median spendings per category are 0\n",
    "\n",
    "3) We'll fill missing Age values according to their TotalSpendings (calculated on the train set, to prevent data leakage)\n",
    "\n",
    "Let's procceed:"
   ]
  },
  {
   "cell_type": "code",
   "execution_count": null,
   "id": "82d14810",
   "metadata": {},
   "outputs": [],
   "source": [
    "# create AgeGroup, with values 0 for kids, 1 for teens and 2 for adults\n",
    "\n",
    "for data in [train, test]:\n",
    "    data['AgeGroup'] = [0 if age < 14 else 1 if (age >= 14) and (age < 21) \\\n",
    "                        else 2 if age >= 21 else np.nan for age in data['Age']]\n",
    "    print(data['AgeGroup'].info())\n",
    "    print(data['AgeGroup'].describe())\n",
    "    print('Unique Values:')\n",
    "    print(data['AgeGroup'].value_counts())\n",
    "    "
   ]
  },
  {
   "cell_type": "code",
   "execution_count": null,
   "id": "6c88d3d5",
   "metadata": {},
   "outputs": [],
   "source": [
    "# fill missing TotalSpendings according to median spendings for their AgeGroup\n",
    "\n",
    "# Save median spendings into variables\n",
    "median = train['TotalSpendings'].median()\n",
    "median_by_age_group = {group: train.loc[train[\"AgeGroup\"] == group, 'TotalSpendings'].median() \\\n",
    "                      for group in train[\"AgeGroup\"].dropna().unique()}\n",
    "\n",
    "print(median_by_age_group)\n",
    "\n",
    "# If AgeGroup is missing, fill with median spendings for all\n",
    "train.loc[train['AgeGroup'].isna(), 'TotalSpendings'] = median\n",
    "test.loc[test['AgeGroup'].isna(), 'TotalSpendings'] = median\n",
    "\n",
    "# Iterate through all the rows with missing data\n",
    "for index in train[train['TotalSpendings'].isna()].index:\n",
    "    # If AgeGroup is present, fill with mean spendings for their AgeGroup\n",
    "    train.loc[index, 'TotalSpendings'] = median_by_age_group[train.loc[index, 'AgeGroup']]\n",
    "\n",
    "print(train['TotalSpendings'].info())\n",
    "print(train['TotalSpendings'].describe())\n",
    "\n",
    "# Iterate through all the rows with missing data\n",
    "for index in test[test['TotalSpendings'].isna()].index:\n",
    "    # If Age is present, fill with mean spendings for their Age\n",
    "    test.loc[index, 'TotalSpendings'] = median_by_age_group[train.loc[index, 'AgeGroup']]\n",
    "\n",
    "print(test['TotalSpendings'].info())\n",
    "print(test['TotalSpendings'].describe())\n"
   ]
  },
  {
   "cell_type": "code",
   "execution_count": null,
   "id": "f6f1790b",
   "metadata": {},
   "outputs": [],
   "source": [
    "#  fill missing Age values according to their TotalSpendings\n",
    "\n",
    "# Save median ages to a list\n",
    "median = [train.loc[train['Age'] < 14, 'Age'].median(), train.loc[(train['Age'] > 14) & \\\n",
    "                                                (train['Age']  <= 19), 'Age'].median(),\n",
    "                                             train.loc[train['Age'] > 21, 'Age'].median()]\n",
    "\n",
    "for data in [train, test]:\n",
    "\n",
    "    # Iterate through all the rows with missing data\n",
    "    for index in data[data['Age'].isna()].index:\n",
    "        # fill\n",
    "        if data.loc[index, 'TotalSpendings'] < 698.0:\n",
    "            data.loc[index, 'Age'] = median[0]\n",
    "        elif data.loc[index, 'TotalSpendings'] < 805.0:\n",
    "            data.loc[index, 'Age'] = median[1]\n",
    "        else:\n",
    "            data.loc[index, 'Age'] = median[2]\n",
    "\n",
    "\n",
    "print(train['Age'].info())\n",
    "print(train['Age'].describe())\n",
    "print(test['Age'].info())\n",
    "print(test['Age'].describe())"
   ]
  },
  {
   "cell_type": "code",
   "execution_count": null,
   "id": "57133651",
   "metadata": {},
   "outputs": [],
   "source": [
    "# Recalculate AgeGroup\n",
    "\n",
    "for data in [train, test]:\n",
    "    data['AgeGroup'] = [0 if age < 14 else 1 if (age >= 14) and (age < 21) \\\n",
    "                        else 2 if age >= 21 else np.nan for age in data['Age']]\n",
    "    print(data['AgeGroup'].info())\n",
    "    print(data['AgeGroup'].describe())\n",
    "    print('Unique Values:')\n",
    "    print(data['AgeGroup'].value_counts())\n",
    "    "
   ]
  },
  {
   "cell_type": "code",
   "execution_count": null,
   "id": "eda0cec7",
   "metadata": {},
   "outputs": [],
   "source": [
    "# Fill missing values with zeros\n",
    "train = train.fillna(0)\n",
    "test = test.fillna(0)"
   ]
  },
  {
   "cell_type": "markdown",
   "id": "a8bb92c3",
   "metadata": {},
   "source": [
    "Great, now we don't have any missing values:"
   ]
  },
  {
   "cell_type": "code",
   "execution_count": null,
   "id": "7d20d7f4",
   "metadata": {},
   "outputs": [],
   "source": [
    "print(train.info())\n",
    "test.info()"
   ]
  },
  {
   "cell_type": "markdown",
   "id": "4fa01093",
   "metadata": {},
   "source": [
    "Let's check if this way of filling missing values is more beneficial:"
   ]
  },
  {
   "cell_type": "code",
   "execution_count": null,
   "id": "cc8cb811",
   "metadata": {},
   "outputs": [],
   "source": [
    "\n",
    "train_selected = train[selected_columns]\n",
    "train_selected = pd.concat([train_selected, train_unprocessed['Transported']], axis=1)\n",
    "test_selected =  test[selected_columns]\n",
    "\n",
    "\n",
    "train_score, cross_score, cross_scores_std, submission = get_score(global_variables, \n",
    "                                    train_selected, test_selected,\n",
    "                                    model, scores_df,\n",
    "                                    comment=\"New filling of numerical features\")\n",
    "submission.to_csv('submissions/submission_06.csv', index=False)\n",
    "scores_df.loc[6, 'Test Accuracy'] = np.nan\n",
    "scores_df.to_csv('scores_df.csv')\n",
    "scores_df"
   ]
  },
  {
   "cell_type": "markdown",
   "id": "d27ae49a",
   "metadata": {},
   "source": [
    "Here, our Test Accuracy increased, but, as we said before, we don't want to overfit to the test set, so, since our Cross-val score dropped, we won't use this variant of filling.\n",
    "\n",
    "## 07. Filling Age with median\n",
    "\n",
    "Let's try to fill missing values for Age with median age in the training test, and the rest of missing values with 0's (since medians are 0's):"
   ]
  },
  {
   "cell_type": "code",
   "execution_count": null,
   "id": "338d4609",
   "metadata": {},
   "outputs": [],
   "source": [
    "# Collect unprocessed \"Age\" to train and test and fill with medians\n",
    "train['Age'] = train_unprocessed['Age']\n",
    "train.loc[train['Age'].isna(), 'Age'] = train['Age'].median()\n",
    "test['Age'] = test_unprocessed['Age']\n",
    "test.loc[test['Age'].isna(), 'Age'] = train['Age'].median()\n",
    "\n",
    "# For each category of spendings\n",
    "for column in ['RoomService', 'FoodCourt', 'ShoppingMall', 'Spa', 'VRDeck']:\n",
    "    # Collect unprocessed columns to train and test\n",
    "    train[column] = train_unprocessed[column]\n",
    "    test[column] = test_unprocessed[column]\n",
    "    \n",
    "# Fill the rest of missing values with zeros\n",
    "train = train.fillna(0)\n",
    "test = test.fillna(0)\n",
    "\n",
    "train.info()\n"
   ]
  },
  {
   "cell_type": "code",
   "execution_count": null,
   "id": "aeb9d13c",
   "metadata": {},
   "outputs": [],
   "source": [
    "train_selected = train[selected_columns]\n",
    "train_selected = pd.concat([train_selected, train_unprocessed['Transported']], axis=1)\n",
    "test_selected =  test[selected_columns]\n",
    "\n",
    "train_selected.to_csv('new_datasets/train_07.csv')\n",
    "test_selected.to_csv('new_datasets/test_07.csv')\n",
    "\n",
    "train_score, cross_score, cross_scores_std, submission = get_score(global_variables, \n",
    "                                    train_selected, test_selected,\n",
    "                                    model, scores_df,\n",
    "                                    comment=\"5 + filled Age with medians\")\n",
    "submission.to_csv('submissions/submission_07.csv', index=False)\n",
    "scores_df.loc[7, 'Test Accuracy'] =  np.nan\n",
    "scores_df.to_csv('scores_df.csv')\n",
    "scores_df"
   ]
  },
  {
   "cell_type": "markdown",
   "id": "81e18a58",
   "metadata": {},
   "source": [
    "No, our Cross-val Score is still lower than Score from 05, where all the missing numerical values were filled with 0's. We could try some complex inerpolation methods, but, for now, let's just stick with 0's:"
   ]
  },
  {
   "cell_type": "code",
   "execution_count": null,
   "id": "d8ab17b9",
   "metadata": {},
   "outputs": [],
   "source": [
    "# Collect unprocessed \"Age\" to train and test \n",
    "train['Age'] = train_unprocessed['Age']\n",
    "test['Age'] = test_unprocessed['Age']\n",
    "\n",
    "# Fill missing values with zeros\n",
    "train = train.fillna(0)\n",
    "test = test.fillna(0)\n",
    "\n",
    "train_selected = train[selected_columns]\n",
    "train_selected = pd.concat([train_selected, train_unprocessed['Transported']], axis=1)\n",
    "test_selected =  test[selected_columns]\n",
    "\n",
    "train_selected.to_csv('new_datasets/train_07.csv')\n",
    "test_selected.to_csv('new_datasets/test_07.csv')"
   ]
  },
  {
   "cell_type": "markdown",
   "id": "7ef9d197",
   "metadata": {},
   "source": [
    "## 08. Tuning of XGBoost"
   ]
  },
  {
   "cell_type": "markdown",
   "id": "2bab46c2",
   "metadata": {},
   "source": [
    "Now, let's tune our XGBoost classifier:"
   ]
  },
  {
   "cell_type": "code",
   "execution_count": null,
   "id": "10ad2227",
   "metadata": {},
   "outputs": [],
   "source": [
    "study = joblib.load(\"studies/08.pkl\")\n",
    "\n",
    "print(\"Best average cross-validation Score:\", study.best_trial.value)\n",
    "print(\"Best hyperparameters:\", study.best_params)\n",
    "\n",
    "xgb_main_params = study.best_params"
   ]
  },
  {
   "cell_type": "markdown",
   "id": "8921ef94",
   "metadata": {},
   "source": [
    "As always, let's put this into our table:"
   ]
  },
  {
   "cell_type": "code",
   "execution_count": null,
   "id": "797c7fab",
   "metadata": {
    "scrolled": true
   },
   "outputs": [],
   "source": [
    "%%time\n",
    "\n",
    "# Instantiate the classifier\n",
    "model = xgb.XGBClassifier(random_state=SEED, n_jobs=-1, **study.best_params)\n",
    "\n",
    "train_score, cross_score, cross_scores_std, submission = get_score(global_variables, \n",
    "                                    train_selected, test_selected,\n",
    "                                    model, scores_df,\n",
    "                                    comment=\"5 + XGBoost tuned\")\n",
    "submission.to_csv('submissions/submission_08.csv', index=False)\n",
    "scores_df.loc[8, 'Test Accuracy'] =  np.nan\n",
    "scores_df.to_csv('scores_df.csv')\n",
    "scores_df"
   ]
  },
  {
   "cell_type": "markdown",
   "id": "c381fe91",
   "metadata": {},
   "source": [
    "After several minutes of tuning, we see improvemets.\n",
    "\n",
    "## 09. Expensive XGBoost\n",
    "\n",
    "Now, we can try found hyperparameters with more computationally expensive setup: we'll choose number of estimators in range (100, 500) and add 'exact' tree method as an option. We won't change other parameters:"
   ]
  },
  {
   "cell_type": "code",
   "execution_count": null,
   "id": "988da330",
   "metadata": {},
   "outputs": [],
   "source": [
    "study = joblib.load(\"studies/09.pkl\")\n",
    "\n",
    "print(\"Best average cross-validation Score:\", study.best_trial.value)\n",
    "print(\"Best hyperparameters:\", study.best_params)\n",
    "\n",
    "xgb_extra_params = study.best_params"
   ]
  },
  {
   "cell_type": "code",
   "execution_count": null,
   "id": "4eca5199",
   "metadata": {},
   "outputs": [],
   "source": [
    "%%time\n",
    "\n",
    "# Change the parameters\n",
    "model.set_params(**study.best_params)\n",
    "\n",
    "train_score, cross_score, cross_scores_std, submission = get_score(global_variables, \n",
    "                                    train_selected, test_selected,\n",
    "                                    model, scores_df,\n",
    "                                    comment=\"XGBoost expensive\")\n",
    "submission.to_csv('submissions/submission_09.csv', index=False)\n",
    "scores_df.loc[9, 'Test Accuracy'] =  0.80173\n",
    "scores_df.to_csv('scores_df.csv')\n",
    "scores_df\n",
    "\n"
   ]
  },
  {
   "cell_type": "markdown",
   "id": "d4e03fbe",
   "metadata": {},
   "source": [
    " Let's try to tune different classifiers:\n",
    "\n",
    "## 10. Tuning of Random Forests"
   ]
  },
  {
   "cell_type": "code",
   "execution_count": null,
   "id": "1ecf1d1e",
   "metadata": {},
   "outputs": [],
   "source": [
    "study_number = 10\n",
    "\n",
    "study = joblib.load(\"studies/{}.pkl\".format(study_number))\n",
    "\n",
    "print(\"Best average cross-validation Score:\", study.best_trial.value)\n",
    "print(\"Best hyperparameters:\", study.best_params)\n",
    "\n",
    "rf_main_params = study.best_params"
   ]
  },
  {
   "cell_type": "code",
   "execution_count": null,
   "id": "84195305",
   "metadata": {},
   "outputs": [],
   "source": [
    "%%time\n",
    "\n",
    "# Instantiate the classifier\n",
    "from sklearn.ensemble import RandomForestClassifier\n",
    "model = RandomForestClassifier(random_state=SEED,\n",
    "                               n_estimators=90,\n",
    "                               n_jobs=-1,\n",
    "                               **study.best_params\n",
    "                               )\n",
    "\n",
    "train_score, cross_score, cross_scores_std, submission = get_score(global_variables, \n",
    "                                    train_selected, test_selected,\n",
    "                                    model, scores_df,\n",
    "                                    comment=\"RandomForests tuned\")\n",
    "submission.to_csv('submissions/submission_{}.csv'.format(study_number), index=False)\n",
    "scores_df.loc[study_number, 'Test Accuracy'] =  np.nan\n",
    "scores_df.to_csv('scores_df.csv')\n",
    "scores_df\n",
    "\n"
   ]
  },
  {
   "cell_type": "markdown",
   "id": "58ac926d",
   "metadata": {},
   "source": [
    "## 11. Expensive Random Forests\n",
    "\n",
    "We'll test the found hyperparameters with number of estimators from 100 to 500 and add 'entropy' as an option for measuring quality of split:"
   ]
  },
  {
   "cell_type": "code",
   "execution_count": null,
   "id": "5da8cf35",
   "metadata": {},
   "outputs": [],
   "source": [
    "study_number = 11\n",
    "\n",
    "study = joblib.load(\"studies/{}.pkl\".format(study_number))\n",
    "\n",
    "print(\"Best average cross-validation Score:\", study.best_trial.value)\n",
    "print(\"Best hyperparameters:\", study.best_params)\n",
    "\n",
    "rf_extra_params = study.best_params"
   ]
  },
  {
   "cell_type": "code",
   "execution_count": null,
   "id": "bd36da63",
   "metadata": {},
   "outputs": [],
   "source": [
    "%%time\n",
    "\n",
    "# Change the parameters\n",
    "model.set_params(**study.best_params)\n",
    "\n",
    "train_score, cross_score, cross_scores_std, submission = get_score(global_variables, \n",
    "                                    train_selected, test_selected,\n",
    "                                    model, scores_df,\n",
    "                                    comment=\"RandomForests expensive\")\n",
    "submission.to_csv('submissions/submission_{}.csv'.format(study_number), index=False)\n",
    "scores_df.loc[study_number, 'Test Accuracy'] =  np.nan\n",
    "scores_df.to_csv('scores_df.csv')\n",
    "scores_df\n",
    "\n"
   ]
  },
  {
   "cell_type": "markdown",
   "id": "3d56ba19",
   "metadata": {},
   "source": [
    "## 12. Logistic Regression without normalization\n",
    "\n",
    "Next, we'll try Logistic Regression classifier, without normalizing features (500 iterations maximum):"
   ]
  },
  {
   "cell_type": "code",
   "execution_count": null,
   "id": "6a0131ed",
   "metadata": {},
   "outputs": [],
   "source": [
    "study_number = 12\n",
    "\n",
    "study = joblib.load(\"studies/{}.pkl\".format(study_number))\n",
    "\n",
    "print(\"Best average cross-validation Score:\", study.best_trial.value)\n",
    "print(\"Best hyperparameters:\", study.best_params)\n",
    "\n",
    "lr_params = study.best_params"
   ]
  },
  {
   "cell_type": "code",
   "execution_count": null,
   "id": "3b172dde",
   "metadata": {},
   "outputs": [],
   "source": [
    "%%time\n",
    "\n",
    "from sklearn.linear_model import LogisticRegression\n",
    "\n",
    "model = LogisticRegression(random_state=SEED,\n",
    "                           n_jobs=-1,\n",
    "                           max_iter =500,\n",
    "                           **study.best_params\n",
    "                           )\n",
    "\n",
    "train_score, cross_score, cross_scores_std, submission = get_score(global_variables, \n",
    "                                    train_selected, test_selected,\n",
    "                                    model, scores_df,\n",
    "                                    comment=\"LogisticRegression tuned\")\n",
    "submission.to_csv('submissions/submission_{}.csv'.format(study_number), index=False)\n",
    "scores_df.loc[study_number, 'Test Accuracy'] =  np.nan\n",
    "scores_df.to_csv('scores_df.csv')\n",
    "scores_df"
   ]
  },
  {
   "cell_type": "markdown",
   "id": "03acdea4",
   "metadata": {},
   "source": [
    "## 13. (TODO) Logistic Regression with normalization"
   ]
  },
  {
   "cell_type": "code",
   "execution_count": null,
   "id": "23a4c3a6",
   "metadata": {},
   "outputs": [],
   "source": [
    "study_number = 13\n",
    "\n",
    "scores_df.loc[study_number, :] =  ['(TODO) Logistic Regression with normalization', \\\n",
    "                                   np.nan, np.nan, np.nan]\n",
    "scores_df.to_csv('scores_df.csv')\n",
    "scores_df"
   ]
  },
  {
   "cell_type": "markdown",
   "id": "ec1a08a1",
   "metadata": {},
   "source": [
    "## Model Ensembling (4 ways)\n",
    "\n",
    "Next, we'll do model ensembling using 3 of our best estimators. We'll do it in 4 ways:\n",
    "\n",
    "14) Majority vote\n",
    "15) Average probablility\n",
    "16) Pass-through Stacking\n",
    "17) Non-pass-through Stacking\n",
    "\n",
    "Let's calculate Scores for way 14 and 15:"
   ]
  },
  {
   "cell_type": "code",
   "execution_count": null,
   "id": "3ada572f",
   "metadata": {},
   "outputs": [],
   "source": [
    "%%time\n",
    "\n",
    "from sklearn.model_selection import StratifiedKFold\n",
    "from sklearn.metrics import roc_auc_score\n",
    "\n",
    "# Instantiate the best classifiers:\n",
    "model_xgb = xgb.XGBClassifier(random_state=SEED, n_jobs=-1, **xgb_main_params)\n",
    "model_xgb.set_params(**xgb_extra_params)\n",
    "\n",
    "model_rf = RandomForestClassifier(random_state=SEED, n_jobs=-1, **rf_main_params)\n",
    "model_rf.set_params(**rf_extra_params)\n",
    "\n",
    "model_lr = LogisticRegression(random_state=SEED, n_jobs=-1, max_iter =500, **lr_params)\n",
    "\n",
    "# Create a StratifiedKFold object ('n_splits' splits with equal proportion of positive target values)\n",
    "skf = StratifiedKFold(n_splits=N_SPLITS, shuffle=True, random_state=SEED)\n",
    "\n",
    "# Empty lists for collecting scores\n",
    "train_scores_voting = []\n",
    "train_scores_average = []\n",
    "cv_scores_voting = []\n",
    "cv_scores_average = []\n",
    "\n",
    "# Iterate through folds\n",
    "for train_index, cv_index in skf.split(train_selected.drop('Transported', axis=1),\n",
    "                                       train_selected['Transported']):\n",
    "    # Obtain training and testing folds\n",
    "    cv_train, cv_test = train_selected.iloc[train_index], train_selected.iloc[cv_index]\n",
    "\n",
    "    # Fit the models\n",
    "    model_xgb.fit(cv_train.drop('Transported', axis=1), cv_train['Transported'])\n",
    "    model_rf.fit(cv_train.drop('Transported', axis=1), cv_train['Transported'])\n",
    "    model_lr.fit(cv_train.drop('Transported', axis=1), cv_train['Transported'])\n",
    "    \n",
    "    # Make predictions on a training set:\n",
    "    xgb_pred_train = model_xgb.predict(cv_train.drop('Transported', axis=1))\n",
    "    rf_pred_train = model_rf.predict(cv_train.drop('Transported', axis=1))\n",
    "    lr_pred_train = model_lr.predict(cv_train.drop('Transported', axis=1))\n",
    "    \n",
    "    # Vote\n",
    "    pred_train_df = pd.DataFrame(list(zip(xgb_pred_train, rf_pred_train, lr_pred_train)))\n",
    "    pred_train = pred_train_df.mode(axis=1)\n",
    "    \n",
    "    # Make probabilistic predictions on a training set:\n",
    "    xgb_proba_train = model_xgb.predict_proba(cv_train.drop('Transported', axis=1))[:, 1]\n",
    "    rf_proba_train = model_rf.predict_proba(cv_train.drop('Transported', axis=1))[:, 1]\n",
    "    lr_proba_train = model_lr.predict_proba(cv_train.drop('Transported', axis=1))[:, 1]\n",
    "    \n",
    "    # Calculate average probabilistic prediction on a training set\n",
    "    proba_train_df = pd.DataFrame(list(zip(xgb_proba_train, rf_proba_train, lr_proba_train)))\n",
    "    proba_train = proba_train_df.mean(axis=1)\n",
    "    \n",
    "    # Make predictions on a cross-val set:\n",
    "    xgb_pred_cv = model_xgb.predict(cv_test.drop('Transported', axis=1))\n",
    "    rf_pred_cv = model_rf.predict(cv_test.drop('Transported', axis=1))\n",
    "    lr_pred_cv = model_lr.predict(cv_test.drop('Transported', axis=1))\n",
    "    \n",
    "    # Vote\n",
    "    pred_cv_df = pd.DataFrame(list(zip(xgb_pred_cv, rf_pred_cv, lr_pred_cv)))\n",
    "    pred_cv = pred_cv_df.mode(axis=1)\n",
    "    \n",
    "    # Make probabilistic predictions on a cross-val set:\n",
    "    xgb_proba_cv = model_xgb.predict_proba(cv_test.drop('Transported', axis=1))[:, 1]\n",
    "    rf_proba_cv = model_rf.predict_proba(cv_test.drop('Transported', axis=1))[:, 1]\n",
    "    lr_proba_cv = model_lr.predict_proba(cv_test.drop('Transported', axis=1))[:, 1]\n",
    "    \n",
    "    # Calculate average probabilistic prediction on a cross-val set\n",
    "    proba_cv_df = pd.DataFrame(list(zip(xgb_proba_cv, rf_proba_cv, lr_proba_cv)))\n",
    "    proba_cv = proba_cv_df.mean(axis=1)\n",
    "    \n",
    "    # Calculate scores and append to the scores lists\n",
    "    \n",
    "    train_scores_voting.append(roc_auc_score(cv_train['Transported'], pred_train))\n",
    "    train_scores_average.append(roc_auc_score(cv_train['Transported'], proba_train))\n",
    "    cv_scores_voting.append(roc_auc_score(cv_test['Transported'], pred_cv))\n",
    "    cv_scores_average.append(roc_auc_score(cv_test['Transported'], proba_cv))\n",
    "    \n",
    "# Calculate Scores\n",
    "train_score_voting = np.mean(train_scores_voting) - np.std(train_scores_voting)\n",
    "train_score_average = np.mean(train_scores_average) - np.std(train_scores_average)\n",
    "cross_score_voting = np.mean(cv_scores_voting) - np.std(cv_scores_voting)\n",
    "cross_score_average = np.mean(cv_scores_average) - np.std(cv_scores_average)"
   ]
  },
  {
   "cell_type": "markdown",
   "id": "f62a9c94",
   "metadata": {},
   "source": [
    "## 14. Ensembling with majority vote\n",
    "\n",
    "Let's look at the Scores for the way 14. Since majority vote ensembling give us on;y 1's and 0's, not probablilities, it doesn't make sence to compare it to our other models using Cross-val Scores (they are based on ROC AUC), but we can look at the Test Accuracy (TODO):"
   ]
  },
  {
   "cell_type": "code",
   "execution_count": null,
   "id": "6f2c4a8d",
   "metadata": {},
   "outputs": [],
   "source": [
    "# Fit the models to the whole training set:\n",
    "model_xgb.fit(train_selected.drop('Transported', axis=1), train_selected['Transported'])\n",
    "model_rf.fit(train_selected.drop('Transported', axis=1), train_selected['Transported'])\n",
    "model_lr.fit(train_selected.drop('Transported', axis=1), train_selected['Transported'])\n",
    "\n",
    "\n",
    "# Make predictions on a test set:\n",
    "xgb_pred = model_xgb.predict(test_selected)\n",
    "xgb_pred = [True if i == 1 else False for i in xgb_pred]\n",
    "rf_pred = model_rf.predict(test_selected)\n",
    "lr_pred = model_lr.predict(test_selected)\n",
    "\n",
    "# Vote\n",
    "pred_df = pd.DataFrame(list(zip(xgb_pred, rf_pred, lr_pred)))\n",
    "pred = pred_df.mode(axis=1)\n",
    "\n",
    "# Prepare the submission DataFrame\n",
    "submission = pd.concat([test_Ids, pred], axis=1)\n",
    "submission.columns = ['PassengerId', 'Transported']"
   ]
  },
  {
   "cell_type": "code",
   "execution_count": null,
   "id": "9d1bbf85",
   "metadata": {},
   "outputs": [],
   "source": [
    "study_number = 14\n",
    "\n",
    "scores_df.loc[study_number, :] =  ['Ensembling with majority vote', \\\n",
    "                                   train_score_voting, cross_score_voting, np.nan]\n",
    "submission.to_csv('submissions/submission_{}.csv'.format(study_number), index=False)\n",
    "scores_df.loc[study_number, 'Test Accuracy'] =  0.80149\n",
    "scores_df.to_csv('scores_df.csv')\n",
    "scores_df"
   ]
  },
  {
   "cell_type": "markdown",
   "id": "fc069cca",
   "metadata": {},
   "source": [
    "## 15. Ensembling with average probablity\n",
    "\n",
    "Let's look at the Scores for the way 15. We''l also prepare a submission file:"
   ]
  },
  {
   "cell_type": "code",
   "execution_count": null,
   "id": "bf7db390",
   "metadata": {},
   "outputs": [],
   "source": [
    "# Make probabilistic predictions on a test set:\n",
    "xgb_pred = model_xgb.predict_proba(test_selected)[:, 1]\n",
    "rf_pred = model_rf.predict_proba(test_selected)[:, 1]\n",
    "lr_pred = model_lr.predict_proba(test_selected)[:, 1]\n",
    "\n",
    "# Calculate average probabilistic prediction\n",
    "pred_df = pd.DataFrame(list(zip(xgb_pred, rf_pred, lr_pred)))\n",
    "pred = pred_df.mean(axis=1)\n",
    "\n",
    "# Convert to True/False\n",
    "pred = [True if i >= 0.5 else False for i in pred]\n",
    "\n",
    "# Prepare the submission DataFrame\n",
    "test_pred = pd.DataFrame(pred, columns=['Transported'])\n",
    "submission = pd.concat([test_Ids, test_pred], axis=1)"
   ]
  },
  {
   "cell_type": "code",
   "execution_count": null,
   "id": "c5d99714",
   "metadata": {},
   "outputs": [],
   "source": [
    "study_number = 15\n",
    "\n",
    "scores_df.loc[study_number, :] =  ['Ensembling with average probablity', \\\n",
    "                                   train_score_average, cross_score_average, np.nan]\n",
    "submission.to_csv('submissions/submission_{}.csv'.format(study_number), index=False)\n",
    "scores_df.loc[study_number, 'Test Accuracy'] =  0.80243\n",
    "scores_df.to_csv('scores_df.csv')\n",
    "scores_df"
   ]
  },
  {
   "cell_type": "markdown",
   "id": "9c0726ea",
   "metadata": {},
   "source": [
    "## 16. Passthrough Stacking\n",
    "\n",
    "In this ensembling method our 3 best models will calculate probablities on a whole dataset, and then use another XGBoost classifier will use their predictions as features for training and prediction.\n",
    "\n",
    "Since we use the whole training dataset for the second-level training dataset, theoretically, we may get over-fitting, i.e., out Test Accuracy may be low.\n",
    "\n",
    "Let's see:"
   ]
  },
  {
   "cell_type": "code",
   "execution_count": null,
   "id": "1e51afb3",
   "metadata": {},
   "outputs": [],
   "source": [
    "# Make probabilistic predictions on a training set:\n",
    "xgb_proba_train = model_xgb.predict_proba(train_selected.drop('Transported', axis=1))[:, 1]\n",
    "rf_proba_train = model_rf.predict_proba(train_selected.drop('Transported', axis=1))[:, 1]\n",
    "lr_proba_train = model_lr.predict_proba(train_selected.drop('Transported', axis=1))[:, 1]\n",
    "\n",
    "# Make probabilistic predictions on a test set:\n",
    "xgb_pred = model_xgb.predict_proba(test_selected)[:, 1]\n",
    "rf_pred = model_rf.predict_proba(test_selected)[:, 1]\n",
    "lr_pred = model_lr.predict_proba(test_selected)[:, 1]\n",
    "\n",
    "\n",
    "# Create DataFrame with probabilistic predictions and the target column\n",
    "train_second_level = pd.DataFrame(list(zip(xgb_proba_train, rf_proba_train, lr_proba_train)),\n",
    "                                  columns=['xgb', 'rf', 'lr'])\n",
    "train_second_level = pd.concat([train_second_level, train_unprocessed['Transported']], axis=1)\n",
    "\n",
    "# Create a test DataFrame\n",
    "test_second_level = pd.DataFrame(list(zip(xgb_pred, rf_pred, lr_pred)), columns=['xgb', 'rf', 'lr'])\n",
    "\n",
    "train_second_level.tail(10)"
   ]
  },
  {
   "cell_type": "markdown",
   "id": "a97c2463",
   "metadata": {},
   "source": [
    "Now, let's train our second-level classifier and see the scores:"
   ]
  },
  {
   "cell_type": "code",
   "execution_count": null,
   "id": "41ef29f3",
   "metadata": {},
   "outputs": [],
   "source": [
    "study_number = 16\n",
    "\n",
    "# Instantiate the classifier\n",
    "model = xgb.XGBClassifier(random_state=SEED, n_jobs=-1)\n",
    "\n",
    "\n",
    "train_score, cross_score, cross_scores_std, submission = get_score(global_variables,\n",
    "                                                                   train_second_level,\n",
    "                                                                   test_second_level,\n",
    "                                                                   model, scores_df,\n",
    "                                                                   comment=\"Passthrough Stacking\")\n",
    "\n",
    "submission.to_csv('submissions/submission_{}.csv'.format(study_number), index=False)\n",
    "scores_df.loc[study_number, 'Test Accuracy'] =  0.77671\n",
    "scores_df.to_csv('scores_df.csv')\n",
    "scores_df"
   ]
  },
  {
   "cell_type": "markdown",
   "id": "fad5b57d",
   "metadata": {},
   "source": [
    "## 17. Non-passthrough Stacking\n",
    "\n",
    "In this chapter we'll use StackingClassifier from sklearn:"
   ]
  },
  {
   "cell_type": "code",
   "execution_count": null,
   "id": "ed4e988b",
   "metadata": {},
   "outputs": [],
   "source": [
    "%%time\n",
    "\n",
    "study_number = 17\n",
    "\n",
    "# List of first-level estimators:\n",
    "estimators = [('xgb', model_xgb), ('rf', model_rf), ('lr', model_lr)]\n",
    "\n",
    "# Second-level estimator\n",
    "final_estimator = xgb.XGBClassifier(random_state=SEED, n_jobs=-1)\n",
    "\n",
    "# Stacking Classifier with 3-fold stratified cross-validation\n",
    "from sklearn.ensemble import StackingClassifier\n",
    "model = StackingClassifier(estimators=estimators, final_estimator=final_estimator, cv=3, n_jobs=-1)\n",
    "\n",
    "\n",
    "train_score, cross_score, cross_scores_std, submission = get_score(global_variables,\n",
    "                                                                   train_second_level,\n",
    "                                                                   test_second_level,\n",
    "                                                                   model, scores_df,\n",
    "                                                                   comment=\"Non-passthrough Stacking\")\n",
    "\n",
    "submission.to_csv('submissions/submission_{}.csv'.format(study_number), index=False)\n",
    "scores_df.loc[study_number, 'Test Accuracy'] =  0.78209\n",
    "scores_df.to_csv('scores_df.csv')\n",
    "scores_df\n"
   ]
  }
 ],
 "metadata": {
  "kernelspec": {
   "display_name": "Python 3 (ipykernel)",
   "language": "python",
   "name": "python3"
  },
  "language_info": {
   "codemirror_mode": {
    "name": "ipython",
    "version": 3
   },
   "file_extension": ".py",
   "mimetype": "text/x-python",
   "name": "python",
   "nbconvert_exporter": "python",
   "pygments_lexer": "ipython3",
   "version": "3.10.9"
  }
 },
 "nbformat": 4,
 "nbformat_minor": 5
}
