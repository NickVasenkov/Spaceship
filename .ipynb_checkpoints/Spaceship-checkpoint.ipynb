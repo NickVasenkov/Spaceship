{
 "cells": [
  {
   "cell_type": "markdown",
   "id": "b4ac9d73",
   "metadata": {},
   "source": [
    "# Spaceship."
   ]
  },
  {
   "cell_type": "markdown",
   "id": "a4bea5c5",
   "metadata": {},
   "source": [
    "## Task description\n",
    "\n",
    "To help rescue crews and retrieve the lost passengers, you are challenged to predict which passengers were transported by the anomaly using records recovered from the spaceship’s damaged computer system.\n",
    "\n",
    "## Files and Data Fields Descriptions\n",
    "\n",
    "\n",
    "### **train.csv**  - Personal records for about two-thirds (~8700) of the passengers, to be used as training data.\n",
    "\n",
    "PassengerId - A unique Id for each passenger. Each Id takes the form gggg_pp where gggg indicates a group the passenger is travelling with and pp is their number within the group. People in a group are often family members, but not always.\n",
    "\n",
    "HomePlanet - The planet the passenger departed from, typically their planet of permanent residence.\n",
    "\n",
    "CryoSleep - Indicates whether the passenger elected to be put into suspended animation for the duration of the voyage. Passengers in cryosleep are confined to their cabins.\n",
    "\n",
    "Cabin - The cabin number where the passenger is staying. Takes the form deck/num/side, where side can be either P for Port or S for Starboard.\n",
    "\n",
    "Destination - The planet the passenger will be debarking to.\n",
    "\n",
    "Age - The age of the passenger.\n",
    "\n",
    "VIP - Whether the passenger has paid for special VIP service during the voyage.\n",
    "\n",
    "RoomService, FoodCourt, ShoppingMall, Spa, VRDeck - Amount the passenger has billed at each of the Spaceship Titanic's many luxury amenities.\n",
    "\n",
    "Name - The first and last names of the passenger.\n",
    "\n",
    "Transported - Whether the passenger was transported to another dimension. This is the target, the column you are trying to predict.\n",
    "\n",
    "### **test.csv** - Personal records for the remaining one-third (~4300) of the passengers, to be used as test data.\n",
    "\n",
    "Your task is to predict the value of Transported for the passengers in this set.\n",
    "\n",
    "### **sample_submission.csv** - A submission file in the correct format.\n",
    "\n",
    "PassengerId - Id for each passenger in the test set.\n",
    "\n",
    "Transported - The target. For each passenger, predict either True or False.\n",
    "\n",
    "\n",
    "\n",
    "### Here are the first 5 rows of the data:"
   ]
  },
  {
   "cell_type": "code",
   "execution_count": 2,
   "id": "8960e643",
   "metadata": {},
   "outputs": [
    {
     "ename": "NameError",
     "evalue": "name 'pd' is not defined",
     "output_type": "error",
     "traceback": [
      "\u001b[1;31m---------------------------------------------------------------------------\u001b[0m",
      "\u001b[1;31mNameError\u001b[0m                                 Traceback (most recent call last)",
      "Cell \u001b[1;32mIn[2], line 1\u001b[0m\n\u001b[1;32m----> 1\u001b[0m train_unprocessed \u001b[38;5;241m=\u001b[39m \u001b[43mpd\u001b[49m\u001b[38;5;241m.\u001b[39mread_csv(\u001b[38;5;124m'\u001b[39m\u001b[38;5;124mdatasets/train.csv\u001b[39m\u001b[38;5;124m'\u001b[39m)\n\u001b[0;32m      2\u001b[0m test_unprocessed \u001b[38;5;241m=\u001b[39m pd\u001b[38;5;241m.\u001b[39mread_csv(\u001b[38;5;124m'\u001b[39m\u001b[38;5;124mdatasets/test.csv\u001b[39m\u001b[38;5;124m'\u001b[39m)\n\u001b[0;32m      4\u001b[0m train_size \u001b[38;5;241m=\u001b[39m \u001b[38;5;28mlen\u001b[39m(train_unprocessed)\n",
      "\u001b[1;31mNameError\u001b[0m: name 'pd' is not defined"
     ]
    }
   ],
   "source": [
    "# Random seed for reproducibility\n",
    "SEED = 123\n",
    "\n",
    "SEED_file = pd.DataFrame()\n",
    "\n",
    "import numpy as np\n",
    "\n",
    "train_unprocessed = pd.read_csv('datasets/train.csv')\n",
    "test_unprocessed = pd.read_csv('datasets/test.csv')\n",
    "\n",
    "train_size = len(train_unprocessed)\n",
    "\n",
    "data_unprocessed = pd.concat([train_unprocessed, test_unprocessed]).reset_index(drop=True)\n",
    "\n",
    "data_unprocessed.head()"
   ]
  },
  {
   "cell_type": "code",
   "execution_count": null,
   "id": "5133cf3b",
   "metadata": {},
   "outputs": [],
   "source": []
  }
 ],
 "metadata": {
  "kernelspec": {
   "display_name": "Python 3 (ipykernel)",
   "language": "python",
   "name": "python3"
  },
  "language_info": {
   "codemirror_mode": {
    "name": "ipython",
    "version": 3
   },
   "file_extension": ".py",
   "mimetype": "text/x-python",
   "name": "python",
   "nbconvert_exporter": "python",
   "pygments_lexer": "ipython3",
   "version": "3.10.9"
  }
 },
 "nbformat": 4,
 "nbformat_minor": 5
}
