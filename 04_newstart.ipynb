{
 "cells": [
  {
   "cell_type": "markdown",
   "id": "b1f9ffef",
   "metadata": {},
   "source": [
    "# Spaceship. Part 4. New start."
   ]
  },
  {
   "cell_type": "markdown",
   "id": "e6d7af27",
   "metadata": {},
   "source": [
    "## Task description\n",
    "\n",
    "To help rescue crews and retrieve the lost passengers, you are challenged to predict which passengers were transported by the anomaly using records recovered from the spaceship’s damaged computer system."
   ]
  },
  {
   "cell_type": "markdown",
   "id": "1bef12cd",
   "metadata": {},
   "source": [
    "## Starting over\n",
    "\n",
    "We'll start over, tweaking some steps of the process and testing every step using the best model we've found in Part 3.\n",
    "\n",
    "We'll repeat all the commentary, so it will be conveinient for readers to start from Part 4, without reading previous parts."
   ]
  },
  {
   "cell_type": "markdown",
   "id": "90b7a1ef",
   "metadata": {},
   "source": [
    "## Test function\n",
    "\n",
    "But first, let's create a function that allows us easily test every new step by providing cross-validation average ROC AUC and accuracy scores, as well as preparing data for new submissions:"
   ]
  },
  {
   "cell_type": "code",
   "execution_count": null,
   "id": "07cb61c4",
   "metadata": {},
   "outputs": [],
   "source": [
    "#Import ROC AUC metric\n",
    "from sklearn.metrics import roc_auc_score\n",
    "\n",
    "# Random seed for reproducibility\n",
    "SEED = 123\n",
    "\n",
    "# Prepare our best model for training\n",
    "from sklearn.ensemble import RandomForestClassifier\n",
    "model_for_tests = RandomForestClassifier(random_state=SEED, \\\n",
    "                               n_estimators= 516, \\\n",
    "                               criterion= 'log_loss', \\\n",
    "                               max_depth= 17, \\\n",
    "                               max_features=0.7, \\\n",
    "                               max_leaf_nodes=123,\\\n",
    "                               min_impurity_decrease= 0.00020380822483963789, \\\n",
    "                               min_samples_leaf= 2, \\\n",
    "                               max_samples= 0.9999360987512214, \\\n",
    "                               n_jobs=-1\n",
    "                               )\n",
    "\n",
    "\n",
    "\n",
    "def get_cv_scores(train, test, model, scores_df, verbose=1):\n",
    "    \n",
    "    '''\n",
    "    This function takes train and test sets, as well as a model for cross validation and a DataFrame with previous scores.\n",
    "    \n",
    "    Setting verbose to 0 prevents function for printing out updated scores.\n",
    "    \n",
    "    It returns:\n",
    "        \n",
    "        -) Updated DataFrame with new:\n",
    "            1) Average training ROC AUC score.\n",
    "            2) Average cross-validation ROC AUC score.\n",
    "            3) Average training accuracy score. \n",
    "            4) Average cross-validation accuracy score.\n",
    "        \n",
    "        -) A dataset for a new submission.\n",
    "    '''\n",
    "    \n",
    "    # Create a StratifiedKFold object (6 splits with equal proportion of positive target values)\n",
    "    skf = StratifiedKFold(n_splits=6, shuffle=True, random_state=SEED)\n",
    "    \n",
    "    # Empty lists for collecting scores\n",
    "    train_roc_auc_scores = []\n",
    "    cv_roc_auc_scores = []\n",
    "    train_accuracy_scores = []\n",
    "    cv_accuracy_scores = []\n",
    "    \n",
    "    # Iterate through folds\n",
    "    for train_index, cv_index in kf.split(train.drop('Transported', axis=1), train['Transported']):\n",
    "        # Obtain training and testing folds\n",
    "        cv_train, cv_test = train.iloc[train_index], train.iloc[cv_index]\n",
    "        \n",
    "        # Fit the model\n",
    "        model.fit(cv_train.drop('Transported', axis=1), cv_train['Transported']) \n",
    "        \n",
    "        # Calculate scores and append to the scores lists\n",
    "        train_pred_proba = model.predict_proba(cv_train.drop('Transported', axis=1))[:, 1]\n",
    "        train_roc_auc_scores.append(roc_auc_score(cv_train['Transported'], train_pred_proba))\n",
    "        cv_pred_proba = model.predict_proba(cv_test.drop('Transported', axis=1))[:, 1]\n",
    "        cv_roc_auc_scores.append(roc_auc_score(cv_test['Transported'], cv_pred_proba))\n",
    "        train_accuracy_scores.append()\n",
    "        \n",
    "        \n",
    "        \n",
    "    \n",
    "    \n",
    "    return \n",
    "                         \n"
   ]
  }
 ],
 "metadata": {
  "kernelspec": {
   "display_name": "Python 3 (ipykernel)",
   "language": "python",
   "name": "python3"
  },
  "language_info": {
   "codemirror_mode": {
    "name": "ipython",
    "version": 3
   },
   "file_extension": ".py",
   "mimetype": "text/x-python",
   "name": "python",
   "nbconvert_exporter": "python",
   "pygments_lexer": "ipython3",
   "version": "3.10.9"
  }
 },
 "nbformat": 4,
 "nbformat_minor": 5
}
