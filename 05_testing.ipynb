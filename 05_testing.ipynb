{
 "cells": [
  {
   "cell_type": "code",
   "execution_count": 43,
   "id": "d66348d6",
   "metadata": {},
   "outputs": [
    {
     "name": "stderr",
     "output_type": "stream",
     "text": [
      "<timed exec>:45: ExperimentalWarning: OptunaSearchCV is experimental (supported from v0.17.0). The interface can change in the future.\n",
      "[I 2023-07-28 17:46:03,345] A new study created in memory with name: no-name-dea80295-f998-4390-94a9-123c4cc64568\n",
      "[I 2023-07-28 17:46:04,166] Trial 2 finished with value: 0.7613983543200609 and parameters: {'criterion': 'gini', 'max_depth': 5, 'max_features': 1, 'max_leaf_nodes': 71, 'min_impurity_decrease': 1.9212323517692378e-07, 'min_samples_leaf': 5, 'ccp_alpha': 0.010515952213135372, 'max_samples': 0.9618044162065389}. Best is trial 2 with value: 0.7613983543200609.\n",
      "[I 2023-07-28 17:46:04,201] Trial 3 finished with value: 0.5 and parameters: {'criterion': 'log_loss', 'max_depth': 3, 'max_features': 'sqrt', 'max_leaf_nodes': 58, 'min_impurity_decrease': 2.4716204435283375e-07, 'min_samples_leaf': 4, 'ccp_alpha': 0.37314239511743663, 'max_samples': 0.9070052510888463}. Best is trial 2 with value: 0.7613983543200609.\n",
      "[I 2023-07-28 17:46:04,233] Trial 0 finished with value: 0.7533220100999335 and parameters: {'criterion': 'log_loss', 'max_depth': 13, 'max_features': 0.7, 'max_leaf_nodes': 37, 'min_impurity_decrease': 1.9515564625245265e-07, 'min_samples_leaf': 19, 'ccp_alpha': 0.03921973966006123, 'max_samples': 0.5743082340311962}. Best is trial 2 with value: 0.7613983543200609.\n",
      "[I 2023-07-28 17:46:04,250] Trial 4 finished with value: 0.5 and parameters: {'criterion': 'gini', 'max_depth': 4, 'max_features': 0.7, 'max_leaf_nodes': 42, 'min_impurity_decrease': 3.0815586613577204e-07, 'min_samples_leaf': 10, 'ccp_alpha': 0.30606663157468544, 'max_samples': 0.706605506408408}. Best is trial 2 with value: 0.7613983543200609.\n",
      "[I 2023-07-28 17:46:04,275] Trial 1 finished with value: 0.5 and parameters: {'criterion': 'gini', 'max_depth': 10, 'max_features': 'sqrt', 'max_leaf_nodes': 40, 'min_impurity_decrease': 1.1476824927752741e-07, 'min_samples_leaf': 9, 'ccp_alpha': 0.14192417929368562, 'max_samples': 0.6830174001658975}. Best is trial 2 with value: 0.7613983543200609.\n",
      "[I 2023-07-28 17:46:04,295] Trial 11 finished with value: 0.5 and parameters: {'criterion': 'gini', 'max_depth': 14, 'max_features': 1, 'max_leaf_nodes': 64, 'min_impurity_decrease': 1.5390323536516004e-07, 'min_samples_leaf': 2, 'ccp_alpha': 0.3416872189532558, 'max_samples': 0.8846594736477118}. Best is trial 2 with value: 0.7613983543200609.\n",
      "[I 2023-07-28 17:46:04,314] Trial 7 finished with value: 0.5 and parameters: {'criterion': 'log_loss', 'max_depth': 17, 'max_features': 0.7, 'max_leaf_nodes': 44, 'min_impurity_decrease': 1.9045813737483997e-07, 'min_samples_leaf': 6, 'ccp_alpha': 0.3939897017087303, 'max_samples': 0.8847501699205012}. Best is trial 2 with value: 0.7613983543200609.\n",
      "[I 2023-07-28 17:46:04,325] Trial 6 finished with value: 0.7452551218122131 and parameters: {'criterion': 'gini', 'max_depth': 2, 'max_features': 'sqrt', 'max_leaf_nodes': 76, 'min_impurity_decrease': 1.6029672079682696e-07, 'min_samples_leaf': 12, 'ccp_alpha': 0.08712951756074779, 'max_samples': 0.5746185859146397}. Best is trial 2 with value: 0.7613983543200609.\n",
      "[I 2023-07-28 17:46:04,342] Trial 9 finished with value: 0.5 and parameters: {'criterion': 'log_loss', 'max_depth': 13, 'max_features': 'sqrt', 'max_leaf_nodes': 61, 'min_impurity_decrease': 3.342852698300232e-07, 'min_samples_leaf': 11, 'ccp_alpha': 0.34012558261975756, 'max_samples': 0.852606951908432}. Best is trial 2 with value: 0.7613983543200609.\n",
      "[I 2023-07-28 17:46:04,358] Trial 8 finished with value: 0.5 and parameters: {'criterion': 'log_loss', 'max_depth': 18, 'max_features': 0.7, 'max_leaf_nodes': 38, 'min_impurity_decrease': 1.01225491631041e-07, 'min_samples_leaf': 14, 'ccp_alpha': 0.3930358095106061, 'max_samples': 0.7811072785319292}. Best is trial 2 with value: 0.7613983543200609.\n",
      "[I 2023-07-28 17:46:04,365] Trial 5 finished with value: 0.5 and parameters: {'criterion': 'log_loss', 'max_depth': 12, 'max_features': 'sqrt', 'max_leaf_nodes': 57, 'min_impurity_decrease': 1.2625607933027772e-07, 'min_samples_leaf': 4, 'ccp_alpha': 0.25908656442527744, 'max_samples': 0.6920083967463597}. Best is trial 2 with value: 0.7613983543200609.\n",
      "[I 2023-07-28 17:46:04,369] Trial 10 finished with value: 0.5 and parameters: {'criterion': 'gini', 'max_depth': 3, 'max_features': 0.7, 'max_leaf_nodes': 29, 'min_impurity_decrease': 1.5950311598527782e-07, 'min_samples_leaf': 7, 'ccp_alpha': 0.29169258686924904, 'max_samples': 0.6462859447487583}. Best is trial 2 with value: 0.7613983543200609.\n",
      "[I 2023-07-28 17:46:05,221] Trial 13 finished with value: 0.5 and parameters: {'criterion': 'gini', 'max_depth': 6, 'max_features': 'sqrt', 'max_leaf_nodes': 60, 'min_impurity_decrease': 3.191634796191678e-07, 'min_samples_leaf': 18, 'ccp_alpha': 0.2971004363527137, 'max_samples': 0.8368020662960631}. Best is trial 2 with value: 0.7613983543200609.\n",
      "[I 2023-07-28 17:46:05,223] Trial 12 finished with value: 0.7198078828159782 and parameters: {'criterion': 'log_loss', 'max_depth': 19, 'max_features': 1, 'max_leaf_nodes': 42, 'min_impurity_decrease': 1.7006466091032719e-07, 'min_samples_leaf': 7, 'ccp_alpha': 0.13211043168980882, 'max_samples': 0.7688923834216477}. Best is trial 2 with value: 0.7613983543200609.\n",
      "[I 2023-07-28 17:46:05,338] Trial 16 finished with value: 0.5 and parameters: {'criterion': 'log_loss', 'max_depth': 2, 'max_features': 1, 'max_leaf_nodes': 78, 'min_impurity_decrease': 4.6141489653192957e-07, 'min_samples_leaf': 10, 'ccp_alpha': 0.2731306955923927, 'max_samples': 0.8019005254579457}. Best is trial 2 with value: 0.7613983543200609.\n",
      "[I 2023-07-28 17:46:05,371] Trial 15 finished with value: 0.5 and parameters: {'criterion': 'gini', 'max_depth': 17, 'max_features': 0.7, 'max_leaf_nodes': 75, 'min_impurity_decrease': 4.537355688770172e-07, 'min_samples_leaf': 11, 'ccp_alpha': 0.32072568771454807, 'max_samples': 0.591895674350952}. Best is trial 2 with value: 0.7613983543200609.\n",
      "[I 2023-07-28 17:46:05,399] Trial 14 finished with value: 0.5 and parameters: {'criterion': 'gini', 'max_depth': 16, 'max_features': 0.7, 'max_leaf_nodes': 79, 'min_impurity_decrease': 2.4780261466733844e-07, 'min_samples_leaf': 17, 'ccp_alpha': 0.3634997828510697, 'max_samples': 0.9869520039350201}. Best is trial 2 with value: 0.7613983543200609.\n",
      "[I 2023-07-28 17:46:05,471] Trial 19 finished with value: 0.7434564483638818 and parameters: {'criterion': 'log_loss', 'max_depth': 6, 'max_features': 1, 'max_leaf_nodes': 44, 'min_impurity_decrease': 1.3186064877626518e-07, 'min_samples_leaf': 7, 'ccp_alpha': 0.08704483653740498, 'max_samples': 0.5208589993978989}. Best is trial 2 with value: 0.7613983543200609.\n",
      "[I 2023-07-28 17:46:05,530] Trial 20 finished with value: 0.5 and parameters: {'criterion': 'gini', 'max_depth': 14, 'max_features': 'sqrt', 'max_leaf_nodes': 67, 'min_impurity_decrease': 1.5382914000519975e-07, 'min_samples_leaf': 4, 'ccp_alpha': 0.12231421472943427, 'max_samples': 0.8288748069553924}. Best is trial 2 with value: 0.7613983543200609.\n",
      "[I 2023-07-28 17:46:05,532] Trial 22 finished with value: 0.7835739048012101 and parameters: {'criterion': 'log_loss', 'max_depth': 8, 'max_features': 1, 'max_leaf_nodes': 20, 'min_impurity_decrease': 4.659543972515207e-07, 'min_samples_leaf': 20, 'ccp_alpha': 0.010637286700328766, 'max_samples': 0.9804657233683758}. Best is trial 22 with value: 0.7835739048012101.\n",
      "[I 2023-07-28 17:46:05,543] Trial 18 finished with value: 0.5 and parameters: {'criterion': 'log_loss', 'max_depth': 2, 'max_features': 1, 'max_leaf_nodes': 50, 'min_impurity_decrease': 1.3977443285443824e-07, 'min_samples_leaf': 3, 'ccp_alpha': 0.2939045476926381, 'max_samples': 0.7360555737742412}. Best is trial 22 with value: 0.7835739048012101.\n",
      "[I 2023-07-28 17:46:05,543] Trial 17 finished with value: 0.5 and parameters: {'criterion': 'gini', 'max_depth': 18, 'max_features': 'sqrt', 'max_leaf_nodes': 42, 'min_impurity_decrease': 2.904736567705853e-07, 'min_samples_leaf': 10, 'ccp_alpha': 0.3667264531340759, 'max_samples': 0.5432529066241474}. Best is trial 22 with value: 0.7835739048012101.\n",
      "[I 2023-07-28 17:46:05,621] Trial 21 finished with value: 0.7477963320657395 and parameters: {'criterion': 'gini', 'max_depth': 8, 'max_features': 1, 'max_leaf_nodes': 22, 'min_impurity_decrease': 2.2577801678857177e-07, 'min_samples_leaf': 20, 'ccp_alpha': 0.021970006696798987, 'max_samples': 0.9863783022631248}. Best is trial 22 with value: 0.7835739048012101.\n"
     ]
    },
    {
     "name": "stderr",
     "output_type": "stream",
     "text": [
      "[I 2023-07-28 17:46:05,743] Trial 23 finished with value: 0.8081342356908159 and parameters: {'criterion': 'gini', 'max_depth': 8, 'max_features': 1, 'max_leaf_nodes': 78, 'min_impurity_decrease': 4.937460934293922e-07, 'min_samples_leaf': 20, 'ccp_alpha': 0.003094264498889039, 'max_samples': 0.9906645845335033}. Best is trial 23 with value: 0.8081342356908159.\n",
      "[I 2023-07-28 17:46:06,563] Trial 24 finished with value: 0.812611102217042 and parameters: {'criterion': 'log_loss', 'max_depth': 9, 'max_features': 1, 'max_leaf_nodes': 20, 'min_impurity_decrease': 2.2941081821774026e-07, 'min_samples_leaf': 20, 'ccp_alpha': 0.0004906094608859417, 'max_samples': 0.9684029593977167}. Best is trial 24 with value: 0.812611102217042.\n",
      "[I 2023-07-28 17:46:06,609] Trial 25 finished with value: 0.808255159908056 and parameters: {'criterion': 'log_loss', 'max_depth': 9, 'max_features': 1, 'max_leaf_nodes': 20, 'min_impurity_decrease': 4.821806389252598e-07, 'min_samples_leaf': 20, 'ccp_alpha': 0.003501722614424666, 'max_samples': 0.9779534480401157}. Best is trial 24 with value: 0.812611102217042.\n",
      "[I 2023-07-28 17:46:06,661] Trial 27 finished with value: 0.8062743243845898 and parameters: {'criterion': 'log_loss', 'max_depth': 9, 'max_features': 1, 'max_leaf_nodes': 21, 'min_impurity_decrease': 2.0366904667308502e-07, 'min_samples_leaf': 15, 'ccp_alpha': 0.003992122757378154, 'max_samples': 0.5268014131048229}. Best is trial 24 with value: 0.812611102217042.\n",
      "[I 2023-07-28 17:46:06,666] Trial 28 finished with value: 0.785418305354809 and parameters: {'criterion': 'log_loss', 'max_depth': 9, 'max_features': 1, 'max_leaf_nodes': 25, 'min_impurity_decrease': 2.0626546730587016e-07, 'min_samples_leaf': 16, 'ccp_alpha': 0.010248815362002988, 'max_samples': 0.5120832396745874}. Best is trial 24 with value: 0.812611102217042.\n",
      "[I 2023-07-28 17:46:06,669] Trial 29 finished with value: 0.7643440937460081 and parameters: {'criterion': 'log_loss', 'max_depth': 9, 'max_features': 1, 'max_leaf_nodes': 22, 'min_impurity_decrease': 2.0418191951568376e-07, 'min_samples_leaf': 20, 'ccp_alpha': 0.016065531844186808, 'max_samples': 0.958624046713955}. Best is trial 24 with value: 0.812611102217042.\n",
      "[I 2023-07-28 17:46:06,677] Trial 26 finished with value: 0.7790632378896414 and parameters: {'criterion': 'gini', 'max_depth': 8, 'max_features': 1, 'max_leaf_nodes': 24, 'min_impurity_decrease': 2.2584509820068136e-07, 'min_samples_leaf': 20, 'ccp_alpha': 0.006729329761812862, 'max_samples': 0.9612040841668119}. Best is trial 24 with value: 0.812611102217042.\n",
      "[I 2023-07-28 17:46:06,734] Trial 30 finished with value: 0.7477963320657395 and parameters: {'criterion': 'log_loss', 'max_depth': 9, 'max_features': 1, 'max_leaf_nodes': 22, 'min_impurity_decrease': 1.9568250282394115e-07, 'min_samples_leaf': 20, 'ccp_alpha': 0.02648502578585929, 'max_samples': 0.9779432180950232}. Best is trial 24 with value: 0.812611102217042.\n",
      "[I 2023-07-28 17:46:06,757] Trial 33 finished with value: 0.7780096143627375 and parameters: {'criterion': 'log_loss', 'max_depth': 10, 'max_features': 1, 'max_leaf_nodes': 24, 'min_impurity_decrease': 2.0268542183135345e-07, 'min_samples_leaf': 20, 'ccp_alpha': 0.010188768120662937, 'max_samples': 0.9533582961642532}. Best is trial 24 with value: 0.812611102217042.\n",
      "[I 2023-07-28 17:46:06,815] Trial 31 finished with value: 0.8082247899626525 and parameters: {'criterion': 'log_loss', 'max_depth': 9, 'max_features': 1, 'max_leaf_nodes': 21, 'min_impurity_decrease': 1.965015543054266e-07, 'min_samples_leaf': 20, 'ccp_alpha': 0.00010523433117762271, 'max_samples': 0.9952071199658244}. Best is trial 24 with value: 0.812611102217042.\n",
      "[I 2023-07-28 17:46:06,857] Trial 32 finished with value: 0.7598950690827293 and parameters: {'criterion': 'log_loss', 'max_depth': 9, 'max_features': 1, 'max_leaf_nodes': 27, 'min_impurity_decrease': 1.9701419634473022e-07, 'min_samples_leaf': 20, 'ccp_alpha': 0.0226796673163115, 'max_samples': 0.9914865691360998}. Best is trial 24 with value: 0.812611102217042.\n",
      "[I 2023-07-28 17:46:07,075] Trial 34 finished with value: 0.7927034123746484 and parameters: {'criterion': 'log_loss', 'max_depth': 10, 'max_features': 1, 'max_leaf_nodes': 20, 'min_impurity_decrease': 2.0230802819463516e-07, 'min_samples_leaf': 20, 'ccp_alpha': 0.005582671064609467, 'max_samples': 0.9453657239640176}. Best is trial 24 with value: 0.812611102217042.\n",
      "[I 2023-07-28 17:46:07,130] Trial 35 finished with value: 0.8161041513130594 and parameters: {'criterion': 'gini', 'max_depth': 9, 'max_features': 1, 'max_leaf_nodes': 70, 'min_impurity_decrease': 4.105225716189656e-07, 'min_samples_leaf': 16, 'ccp_alpha': 0.0003426305400270821, 'max_samples': 0.9518020656378335}. Best is trial 35 with value: 0.8161041513130594.\n",
      "[I 2023-07-28 17:46:07,939] Trial 37 finished with value: 0.7477963320657395 and parameters: {'criterion': 'log_loss', 'max_depth': 10, 'max_features': 1, 'max_leaf_nodes': 29, 'min_impurity_decrease': 3.963084252634054e-07, 'min_samples_leaf': 16, 'ccp_alpha': 0.04896835744106423, 'max_samples': 0.9373166962825294}. Best is trial 35 with value: 0.8161041513130594.\n",
      "[I 2023-07-28 17:46:07,944] Trial 36 finished with value: 0.799247414358051 and parameters: {'criterion': 'log_loss', 'max_depth': 10, 'max_features': 1, 'max_leaf_nodes': 20, 'min_impurity_decrease': 4.042226329760702e-07, 'min_samples_leaf': 16, 'ccp_alpha': 1.66568020214951e-05, 'max_samples': 0.9421296234623553}. Best is trial 35 with value: 0.8161041513130594.\n",
      "[I 2023-07-28 17:46:07,954] Trial 41 finished with value: 0.7477963320657395 and parameters: {'criterion': 'log_loss', 'max_depth': 11, 'max_features': 1, 'max_leaf_nodes': 32, 'min_impurity_decrease': 4.1243062468850394e-07, 'min_samples_leaf': 18, 'ccp_alpha': 0.046585188380111, 'max_samples': 0.9296273554682658}. Best is trial 35 with value: 0.8161041513130594.\n",
      "[I 2023-07-28 17:46:08,004] Trial 39 finished with value: 0.7477963320657395 and parameters: {'criterion': 'log_loss', 'max_depth': 11, 'max_features': 1, 'max_leaf_nodes': 32, 'min_impurity_decrease': 3.9701191960716185e-07, 'min_samples_leaf': 18, 'ccp_alpha': 0.042406297766385805, 'max_samples': 0.9349448057739287}. Best is trial 35 with value: 0.8161041513130594.\n",
      "[I 2023-07-28 17:46:08,016] Trial 38 finished with value: 0.7477963320657395 and parameters: {'criterion': 'log_loss', 'max_depth': 11, 'max_features': 1, 'max_leaf_nodes': 29, 'min_impurity_decrease': 4.2678797267135665e-07, 'min_samples_leaf': 18, 'ccp_alpha': 0.04690459528646908, 'max_samples': 0.9417006040452994}. Best is trial 35 with value: 0.8161041513130594.\n",
      "[I 2023-07-28 17:46:08,018] Trial 40 finished with value: 0.7477963320657395 and parameters: {'criterion': 'log_loss', 'max_depth': 11, 'max_features': 1, 'max_leaf_nodes': 31, 'min_impurity_decrease': 3.886695223238084e-07, 'min_samples_leaf': 18, 'ccp_alpha': 0.04673480054822002, 'max_samples': 0.9245646922197961}. Best is trial 35 with value: 0.8161041513130594.\n",
      "[I 2023-07-28 17:46:08,083] Trial 42 finished with value: 0.7477963320657395 and parameters: {'criterion': 'log_loss', 'max_depth': 11, 'max_features': 1, 'max_leaf_nodes': 30, 'min_impurity_decrease': 3.993038519814773e-07, 'min_samples_leaf': 15, 'ccp_alpha': 0.042704516598130515, 'max_samples': 0.9290465073681253}. Best is trial 35 with value: 0.8161041513130594.\n",
      "[I 2023-07-28 17:46:08,141] Trial 44 finished with value: 0.7477963320657395 and parameters: {'criterion': 'log_loss', 'max_depth': 11, 'max_features': 1, 'max_leaf_nodes': 32, 'min_impurity_decrease': 4.987990869382135e-07, 'min_samples_leaf': 18, 'ccp_alpha': 0.04939627634442813, 'max_samples': 0.9293040360233669}. Best is trial 35 with value: 0.8161041513130594.\n",
      "[I 2023-07-28 17:46:08,180] Trial 43 finished with value: 0.7477963320657395 and parameters: {'criterion': 'log_loss', 'max_depth': 11, 'max_features': 1, 'max_leaf_nodes': 32, 'min_impurity_decrease': 4.188588511889949e-07, 'min_samples_leaf': 15, 'ccp_alpha': 0.05659149926356102, 'max_samples': 0.9397157583313369}. Best is trial 35 with value: 0.8161041513130594.\n",
      "[I 2023-07-28 17:46:08,239] Trial 45 finished with value: 0.7477963320657395 and parameters: {'criterion': 'log_loss', 'max_depth': 11, 'max_features': 1, 'max_leaf_nodes': 31, 'min_impurity_decrease': 4.0378710752048203e-07, 'min_samples_leaf': 18, 'ccp_alpha': 0.04848749766360092, 'max_samples': 0.9218638690678423}. Best is trial 35 with value: 0.8161041513130594.\n"
     ]
    },
    {
     "name": "stderr",
     "output_type": "stream",
     "text": [
      "[I 2023-07-28 17:46:08,420] Trial 46 finished with value: 0.7477963320657395 and parameters: {'criterion': 'log_loss', 'max_depth': 6, 'max_features': 1, 'max_leaf_nodes': 32, 'min_impurity_decrease': 4.1571325071728983e-07, 'min_samples_leaf': 18, 'ccp_alpha': 0.05369858309998165, 'max_samples': 0.926421868793016}. Best is trial 35 with value: 0.8161041513130594.\n",
      "[I 2023-07-28 17:46:08,436] Trial 47 finished with value: 0.7477963320657395 and parameters: {'criterion': 'log_loss', 'max_depth': 12, 'max_features': 1, 'max_leaf_nodes': 32, 'min_impurity_decrease': 3.6579527352546775e-07, 'min_samples_leaf': 18, 'ccp_alpha': 0.05593023816391676, 'max_samples': 0.9238507974376243}. Best is trial 35 with value: 0.8161041513130594.\n",
      "[I 2023-07-28 17:46:09,112] Trial 48 finished with value: 0.7477963320657395 and parameters: {'criterion': 'log_loss', 'max_depth': 12, 'max_features': 1, 'max_leaf_nodes': 34, 'min_impurity_decrease': 3.617054110321048e-07, 'min_samples_leaf': 18, 'ccp_alpha': 0.04797871492976236, 'max_samples': 0.9123988950448105}. Best is trial 35 with value: 0.8161041513130594.\n",
      "[I 2023-07-28 17:46:09,134] Trial 53 finished with value: 0.7198078828159782 and parameters: {'criterion': 'gini', 'max_depth': 7, 'max_features': 1, 'max_leaf_nodes': 72, 'min_impurity_decrease': 4.979797618373921e-07, 'min_samples_leaf': 13, 'ccp_alpha': 0.06914298673955355, 'max_samples': 0.9034927808288874}. Best is trial 35 with value: 0.8161041513130594.\n",
      "[I 2023-07-28 17:46:09,138] Trial 50 finished with value: 0.7477963320657395 and parameters: {'criterion': 'log_loss', 'max_depth': 6, 'max_features': 1, 'max_leaf_nodes': 33, 'min_impurity_decrease': 3.7524507660025785e-07, 'min_samples_leaf': 18, 'ccp_alpha': 0.05569093574913676, 'max_samples': 0.9232728981984304}. Best is trial 35 with value: 0.8161041513130594.\n",
      "[I 2023-07-28 17:46:09,139] Trial 49 finished with value: 0.7477963320657395 and parameters: {'criterion': 'log_loss', 'max_depth': 6, 'max_features': 1, 'max_leaf_nodes': 34, 'min_impurity_decrease': 3.652955343335037e-07, 'min_samples_leaf': 18, 'ccp_alpha': 0.055726696926314934, 'max_samples': 0.9090695856412127}. Best is trial 35 with value: 0.8161041513130594.\n",
      "[I 2023-07-28 17:46:09,156] Trial 54 finished with value: 0.7198078828159782 and parameters: {'criterion': 'gini', 'max_depth': 7, 'max_features': 1, 'max_leaf_nodes': 72, 'min_impurity_decrease': 4.993319711385707e-07, 'min_samples_leaf': 19, 'ccp_alpha': 0.07199701794862855, 'max_samples': 0.9007574352274228}. Best is trial 35 with value: 0.8161041513130594.\n",
      "[I 2023-07-28 17:46:09,158] Trial 51 finished with value: 0.7477963320657395 and parameters: {'criterion': 'log_loss', 'max_depth': 6, 'max_features': 1, 'max_leaf_nodes': 54, 'min_impurity_decrease': 3.6437570523761283e-07, 'min_samples_leaf': 13, 'ccp_alpha': 0.06397016256785133, 'max_samples': 0.9073920830440092}. Best is trial 35 with value: 0.8161041513130594.\n",
      "[I 2023-07-28 17:46:09,160] Trial 52 finished with value: 0.7198078828159782 and parameters: {'criterion': 'gini', 'max_depth': 7, 'max_features': 1, 'max_leaf_nodes': 71, 'min_impurity_decrease': 4.999516584936463e-07, 'min_samples_leaf': 19, 'ccp_alpha': 0.0668637086873402, 'max_samples': 0.9967447285368044}. Best is trial 35 with value: 0.8161041513130594.\n",
      "[I 2023-07-28 17:46:09,166] Trial 56 finished with value: 0.7198078828159782 and parameters: {'criterion': 'gini', 'max_depth': 7, 'max_features': 1, 'max_leaf_nodes': 71, 'min_impurity_decrease': 3.7132816248272464e-07, 'min_samples_leaf': 13, 'ccp_alpha': 0.06460741261529399, 'max_samples': 0.9982344144927515}. Best is trial 35 with value: 0.8161041513130594.\n",
      "[I 2023-07-28 17:46:09,181] Trial 55 finished with value: 0.7198078828159782 and parameters: {'criterion': 'gini', 'max_depth': 7, 'max_features': 1, 'max_leaf_nodes': 70, 'min_impurity_decrease': 3.629616190783984e-07, 'min_samples_leaf': 13, 'ccp_alpha': 0.07024084282138915, 'max_samples': 0.8991039659597073}. Best is trial 35 with value: 0.8161041513130594.\n",
      "[I 2023-07-28 17:46:09,209] Trial 57 finished with value: 0.7451225494886918 and parameters: {'criterion': 'gini', 'max_depth': 7, 'max_features': 0.7, 'max_leaf_nodes': 72, 'min_impurity_decrease': 2.73770548265939e-07, 'min_samples_leaf': 19, 'ccp_alpha': 0.0674138442696629, 'max_samples': 0.9948370827789683}. Best is trial 35 with value: 0.8161041513130594.\n"
     ]
    },
    {
     "name": "stdout",
     "output_type": "stream",
     "text": [
      "{'criterion': 'gini', 'max_depth': 9, 'max_features': 1, 'max_leaf_nodes': 70, 'min_impurity_decrease': 4.105225716189656e-07, 'min_samples_leaf': 16, 'ccp_alpha': 0.0003426305400270821, 'max_samples': 0.9518020656378335}\n",
      "0.8161041513130594\n",
      "   Logistic Regression  KNeighborsClassifier  KNN_Optuna  LinReg_Optuna  \\\n",
      "0             0.812568              0.844593    0.867791       0.814518   \n",
      "\n",
      "   RF_Optuna  RF_Optuna_04  XGB_Optuna     04_RF  \n",
      "0    0.87278      0.876972    0.876383  0.816104  \n",
      "CPU times: total: 1.22 s\n",
      "Wall time: 5.92 s\n"
     ]
    }
   ],
   "source": [
    "%%time\n",
    "\n",
    "# Slow\n",
    "\n",
    "import pandas as pd\n",
    "# !pip install optuna\n",
    "import optuna\n",
    "\n",
    "\n",
    "data = pd.read_csv('04_train_prepared.csv', index_col=0)\n",
    "\n",
    "X_train = data.drop(['Transported'], axis=1)\n",
    "y_train = data['Transported']\n",
    "\n",
    "roc_auc_scores = pd.read_csv('roc_auc_scores.csv', index_col=0)\n",
    "\n",
    "SEED = 123\n",
    "\n",
    "model_name = '04_RF'\n",
    "from sklearn.ensemble import RandomForestClassifier\n",
    "\n",
    "model = RandomForestClassifier(random_state=SEED,\n",
    "                               # n_estimators=516,\n",
    "                               n_estimators=2,\n",
    "                               criterion='log_loss',\n",
    "                               max_depth=17,\n",
    "                               max_features=0.7,\n",
    "                               max_leaf_nodes=123,\n",
    "                               min_impurity_decrease=0.00020380822483963789,\n",
    "                               min_samples_leaf=2,\n",
    "                               max_samples=0.9999360987512214,\n",
    "                               n_jobs=-1\n",
    "                               )\n",
    "param_distributions = {\n",
    "    # 'n_estimators': optuna.distributions.IntDistribution(100, 1000),\n",
    "    # 'criterion': optuna.distributions.CategoricalDistribution(['log_loss', 'entropy']),\n",
    "    'criterion': optuna.distributions.CategoricalDistribution(['log_loss', 'gini']),\n",
    "    'max_depth': optuna.distributions.IntDistribution(2, 20),\n",
    "    'max_features': optuna.distributions.CategoricalDistribution(['sqrt', 0.7, 1]),\n",
    "    'max_leaf_nodes': optuna.distributions.IntDistribution(20, 80),\n",
    "    \"min_impurity_decrease\": optuna.distributions.FloatDistribution(1e-7, 5e-7, log=True),\n",
    "    'min_samples_leaf': optuna.distributions.IntDistribution(2, 20),\n",
    "    'ccp_alpha': optuna.distributions.FloatDistribution(0, 0.4),\n",
    "    'max_samples': optuna.distributions.FloatDistribution(0.5, 1)\n",
    "}\n",
    "\n",
    "optuna_search = optuna.integration.OptunaSearchCV(model, param_distributions,\n",
    "                                                  scoring='roc_auc',\n",
    "                                                  timeout=5,\n",
    "                                                  n_trials=None,\n",
    "                                                  # max_iter = 1200, \\\n",
    "                                                  random_state=SEED,\n",
    "                                                  n_jobs=-1)\n",
    "optuna_search.fit(X_train, y_train)\n",
    "print(optuna_search.best_params_)\n",
    "print(optuna_search.best_score_)\n",
    "\n",
    "roc_auc_scores[model_name] = [optuna_search.best_score_]\n",
    "print(roc_auc_scores)\n",
    "\n",
    "roc_auc_scores.to_csv('roc_auc_scores.csv')\n"
   ]
  },
  {
   "cell_type": "code",
   "execution_count": 44,
   "id": "fb527e62",
   "metadata": {},
   "outputs": [],
   "source": [
    "# Random seed for reproducibility\n",
    "SEED = 123\n",
    "\n",
    "import pandas as pd\n",
    "\n",
    "train = pd.read_csv('04_train_prepared.csv', index_col=0)\n",
    "test =  pd.read_csv('04_test_prepared.csv', index_col=0)\n",
    "scores_df = pd.read_csv('04_scores_df.csv', index_col=0)"
   ]
  },
  {
   "cell_type": "code",
   "execution_count": 45,
   "id": "9c43a35a",
   "metadata": {},
   "outputs": [],
   "source": [
    "import numpy as np\n",
    "from sklearn.metrics import roc_auc_score\n",
    "from sklearn.model_selection import StratifiedKFold\n",
    "from sklearn.ensemble import RandomForestClassifier\n",
    "\n",
    "def train_evaluate(params):\n",
    "    '''\n",
    "    This function takes  parameters for a classifier.\n",
    "    \n",
    "    It returns average cross-validated ROC AUC score.\n",
    "    '''\n",
    "    \n",
    "    # Prepare our best estimator for training\n",
    "    \n",
    "    model = RandomForestClassifier(random_state=SEED,\n",
    "                               n_estimators= 100,\n",
    "                               n_jobs=-1\n",
    "                               )\n",
    "\n",
    "\n",
    "    # Set parameters for the model\n",
    "    model.set_params(**params)\n",
    "    \n",
    "    # Create a StratifiedKFold object (6 splits with equal proportion of positive target values)\n",
    "    skf = StratifiedKFold(n_splits=6, shuffle=True, random_state=SEED)\n",
    "    \n",
    "    # An empty list for collecting scores\n",
    "    test_roc_auc_scores = []\n",
    "    \n",
    "    # Iterate through folds\n",
    "    for train_index, cv_index in skf.split(train.drop('Transported', axis=1), train['Transported']):\n",
    "        # Obtain training and testing folds\n",
    "        cv_train, cv_test = train.iloc[train_index], train.iloc[cv_index]\n",
    "        \n",
    "        # Fit the model\n",
    "        model.fit(cv_train.drop('Transported', axis=1), cv_train['Transported']) \n",
    "        \n",
    "        # Calculate ROC AUC score and append to the scores lists\n",
    "        test_pred_proba = model.predict_proba(cv_test.drop('Transported', axis=1))[:, 1]\n",
    "        test_roc_auc_scores.append(roc_auc_score(cv_test['Transported'], test_pred_proba))\n",
    "        \n",
    "    return np.mean(test_roc_auc_scores)\n",
    "        "
   ]
  },
  {
   "cell_type": "code",
   "execution_count": 46,
   "id": "c81a1187",
   "metadata": {},
   "outputs": [],
   "source": [
    "def objective(trial):\n",
    "             \n",
    "    params = {\n",
    "        # 'n_estimators': optuna.distributions.IntDistribution(100, 1000),\n",
    "        # 'criterion': optuna.distributions.CategoricalDistribution(['log_loss', 'entropy']),\n",
    "        'criterion': trial.suggest_categorical('criterion', ['log_loss', 'gini']),\n",
    "        'max_depth': trial.suggest_int('max_depth', 2, 20),\n",
    "        'max_features': trial.suggest_int('max_features', 1, 15),\n",
    "        'max_leaf_nodes': trial.suggest_int('max_leaf_nodes', 20, 80),\n",
    "        \"min_impurity_decrease\": trial.suggest_float(\"min_impurity_decrease\", 1e-7, 5e-7, log=True),\n",
    "        'min_samples_leaf': trial.suggest_int('min_samples_leaf', 2, 20),\n",
    "        'ccp_alpha': trial.suggest_float('ccp_alpha', 0, 0.4),\n",
    "        'max_samples': trial.suggest_float('max_samples', 0.5, 1)\n",
    "             \n",
    "         }\n",
    "         \n",
    "    return train_evaluate(params)"
   ]
  },
  {
   "cell_type": "code",
   "execution_count": 47,
   "id": "e4d817c1",
   "metadata": {},
   "outputs": [
    {
     "name": "stderr",
     "output_type": "stream",
     "text": [
      "[I 2023-07-28 17:46:09,318] A new study created in memory with name: 05_testing_optuna\n"
     ]
    }
   ],
   "source": [
    "import optuna\n",
    "\n",
    "study = optuna.create_study(study_name='05_testing_optuna', direction='maximize')"
   ]
  },
  {
   "cell_type": "code",
   "execution_count": 48,
   "id": "d766e712",
   "metadata": {},
   "outputs": [
    {
     "name": "stderr",
     "output_type": "stream",
     "text": [
      "[I 2023-07-28 17:46:25,595] Trial 4 finished with value: 0.5 and parameters: {'criterion': 'gini', 'max_depth': 19, 'max_features': 11, 'max_leaf_nodes': 21, 'min_impurity_decrease': 1.0054842759161222e-07, 'min_samples_leaf': 7, 'ccp_alpha': 0.1940570949929975, 'max_samples': 0.6774981224555132}. Best is trial 4 with value: 0.5.\n",
      "[I 2023-07-28 17:46:25,623] Trial 8 finished with value: 0.5 and parameters: {'criterion': 'gini', 'max_depth': 14, 'max_features': 9, 'max_leaf_nodes': 64, 'min_impurity_decrease': 4.7604071719046523e-07, 'min_samples_leaf': 14, 'ccp_alpha': 0.15676710593134838, 'max_samples': 0.6136442122101231}. Best is trial 4 with value: 0.5.\n",
      "[I 2023-07-28 17:46:25,641] Trial 1 finished with value: 0.8278092915126933 and parameters: {'criterion': 'log_loss', 'max_depth': 4, 'max_features': 3, 'max_leaf_nodes': 49, 'min_impurity_decrease': 2.216044562937438e-07, 'min_samples_leaf': 3, 'ccp_alpha': 0.021049247642912675, 'max_samples': 0.5914360897133744}. Best is trial 1 with value: 0.8278092915126933.\n",
      "[I 2023-07-28 17:46:25,710] Trial 9 finished with value: 0.5 and parameters: {'criterion': 'gini', 'max_depth': 20, 'max_features': 6, 'max_leaf_nodes': 35, 'min_impurity_decrease': 1.481278395959814e-07, 'min_samples_leaf': 17, 'ccp_alpha': 0.1576306738013413, 'max_samples': 0.9634520566560745}. Best is trial 1 with value: 0.8278092915126933.\n",
      "[I 2023-07-28 17:46:25,726] Trial 5 finished with value: 0.5 and parameters: {'criterion': 'gini', 'max_depth': 12, 'max_features': 5, 'max_leaf_nodes': 65, 'min_impurity_decrease': 4.461961363593988e-07, 'min_samples_leaf': 15, 'ccp_alpha': 0.16437790279619754, 'max_samples': 0.7042715719370269}. Best is trial 1 with value: 0.8278092915126933.\n",
      "[I 2023-07-28 17:46:25,737] Trial 2 finished with value: 0.8488016539680513 and parameters: {'criterion': 'gini', 'max_depth': 11, 'max_features': 6, 'max_leaf_nodes': 27, 'min_impurity_decrease': 2.5304480974141415e-07, 'min_samples_leaf': 19, 'ccp_alpha': 0.007345387062259468, 'max_samples': 0.5967341511531481}. Best is trial 2 with value: 0.8488016539680513.\n",
      "[I 2023-07-28 17:46:25,764] Trial 10 finished with value: 0.5 and parameters: {'criterion': 'gini', 'max_depth': 6, 'max_features': 7, 'max_leaf_nodes': 60, 'min_impurity_decrease': 1.475986562870788e-07, 'min_samples_leaf': 3, 'ccp_alpha': 0.370021036684894, 'max_samples': 0.5587532002451524}. Best is trial 2 with value: 0.8488016539680513.\n",
      "[I 2023-07-28 17:46:25,803] Trial 6 finished with value: 0.5 and parameters: {'criterion': 'log_loss', 'max_depth': 3, 'max_features': 7, 'max_leaf_nodes': 76, 'min_impurity_decrease': 3.249355800696805e-07, 'min_samples_leaf': 19, 'ccp_alpha': 0.36518324726696816, 'max_samples': 0.8975887873268351}. Best is trial 2 with value: 0.8488016539680513.\n",
      "[I 2023-07-28 17:46:25,832] Trial 11 finished with value: 0.7448398408995914 and parameters: {'criterion': 'gini', 'max_depth': 10, 'max_features': 8, 'max_leaf_nodes': 61, 'min_impurity_decrease': 1.3030054188077244e-07, 'min_samples_leaf': 10, 'ccp_alpha': 0.08315293232558761, 'max_samples': 0.5491278764965177}. Best is trial 2 with value: 0.8488016539680513.\n",
      "[I 2023-07-28 17:46:25,851] Trial 3 finished with value: 0.5 and parameters: {'criterion': 'gini', 'max_depth': 10, 'max_features': 14, 'max_leaf_nodes': 65, 'min_impurity_decrease': 1.8803594153084336e-07, 'min_samples_leaf': 3, 'ccp_alpha': 0.13880139403804917, 'max_samples': 0.6860483902722758}. Best is trial 2 with value: 0.8488016539680513.\n",
      "[I 2023-07-28 17:46:25,863] Trial 7 finished with value: 0.5 and parameters: {'criterion': 'log_loss', 'max_depth': 11, 'max_features': 4, 'max_leaf_nodes': 57, 'min_impurity_decrease': 3.248730303361139e-07, 'min_samples_leaf': 9, 'ccp_alpha': 0.24811286400225036, 'max_samples': 0.8914143710461685}. Best is trial 2 with value: 0.8488016539680513.\n",
      "[I 2023-07-28 17:46:25,900] Trial 0 finished with value: 0.867015953859998 and parameters: {'criterion': 'log_loss', 'max_depth': 5, 'max_features': 9, 'max_leaf_nodes': 59, 'min_impurity_decrease': 4.272931369059972e-07, 'min_samples_leaf': 14, 'ccp_alpha': 0.0034926022903989384, 'max_samples': 0.8732680521230718}. Best is trial 0 with value: 0.867015953859998.\n"
     ]
    }
   ],
   "source": [
    "study.optimize(objective, timeout=5, n_jobs=-1)"
   ]
  },
  {
   "cell_type": "code",
   "execution_count": null,
   "id": "2463c1a2",
   "metadata": {},
   "outputs": [],
   "source": []
  }
 ],
 "metadata": {
  "kernelspec": {
   "display_name": "Python 3 (ipykernel)",
   "language": "python",
   "name": "python3"
  },
  "language_info": {
   "codemirror_mode": {
    "name": "ipython",
    "version": 3
   },
   "file_extension": ".py",
   "mimetype": "text/x-python",
   "name": "python",
   "nbconvert_exporter": "python",
   "pygments_lexer": "ipython3",
   "version": "3.10.9"
  }
 },
 "nbformat": 4,
 "nbformat_minor": 5
}
