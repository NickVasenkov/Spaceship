{
 "cells": [
  {
   "cell_type": "markdown",
   "id": "a0fa5a74",
   "metadata": {},
   "source": [
    "# Spaceship."
   ]
  },
  {
   "cell_type": "markdown",
   "id": "aea8f450",
   "metadata": {},
   "source": [
    "## Task description\n",
    "\n",
    "To help rescue crews and retrieve the lost passengers, you are challenged to predict which passengers were transported by the anomaly using records recovered from the spaceship’s damaged computer system.\n",
    "\n",
    "## Files and Data Fields Descriptions\n",
    "\n",
    "\n",
    "### **train.csv**  - Personal records for about two-thirds (~8700) of the passengers, to be used as training data.\n",
    "\n",
    "PassengerId - A unique Id for each passenger. Each Id takes the form gggg_pp where gggg indicates a group the passenger is travelling with and pp is their number within the group. People in a group are often family members, but not always.\n",
    "\n",
    "HomePlanet - The planet the passenger departed from, typically their planet of permanent residence.\n",
    "\n",
    "CryoSleep - Indicates whether the passenger elected to be put into suspended animation for the duration of the voyage. Passengers in cryosleep are confined to their cabins.\n",
    "\n",
    "Cabin - The cabin number where the passenger is staying. Takes the form deck/num/side, where side can be either P for Port or S for Starboard.\n",
    "\n",
    "Destination - The planet the passenger will be debarking to.\n",
    "\n",
    "Age - The age of the passenger.\n",
    "\n",
    "VIP - Whether the passenger has paid for special VIP service during the voyage.\n",
    "\n",
    "RoomService, FoodCourt, ShoppingMall, Spa, VRDeck - Amount the passenger has billed at each of the Spaceship Titanic's many luxury amenities.\n",
    "\n",
    "Name - The first and last names of the passenger.\n",
    "\n",
    "Transported - Whether the passenger was transported to another dimension. This is the target, the column you are trying to predict.\n",
    "\n",
    "### **test.csv** - Personal records for the remaining one-third (~4300) of the passengers, to be used as test data.\n",
    "\n",
    "Your task is to predict the value of Transported for the passengers in this set.\n",
    "\n",
    "### **sample_submission.csv** - A submission file in the correct format.\n",
    "\n",
    "PassengerId - Id for each passenger in the test set.\n",
    "\n",
    "Transported - The target. For each passenger, predict either True or False.\n",
    "\n",
    "\n",
    "\n",
    "### Here are the first 5 rows of the data:"
   ]
  },
  {
   "cell_type": "code",
   "execution_count": 2,
   "id": "2c48342d",
   "metadata": {},
   "outputs": [
    {
     "data": {
      "text/html": [
       "<div>\n",
       "<style scoped>\n",
       "    .dataframe tbody tr th:only-of-type {\n",
       "        vertical-align: middle;\n",
       "    }\n",
       "\n",
       "    .dataframe tbody tr th {\n",
       "        vertical-align: top;\n",
       "    }\n",
       "\n",
       "    .dataframe thead th {\n",
       "        text-align: right;\n",
       "    }\n",
       "</style>\n",
       "<table border=\"1\" class=\"dataframe\">\n",
       "  <thead>\n",
       "    <tr style=\"text-align: right;\">\n",
       "      <th></th>\n",
       "      <th>PassengerId</th>\n",
       "      <th>HomePlanet</th>\n",
       "      <th>CryoSleep</th>\n",
       "      <th>Cabin</th>\n",
       "      <th>Destination</th>\n",
       "      <th>Age</th>\n",
       "      <th>VIP</th>\n",
       "      <th>RoomService</th>\n",
       "      <th>FoodCourt</th>\n",
       "      <th>ShoppingMall</th>\n",
       "      <th>Spa</th>\n",
       "      <th>VRDeck</th>\n",
       "      <th>Name</th>\n",
       "      <th>Transported</th>\n",
       "    </tr>\n",
       "  </thead>\n",
       "  <tbody>\n",
       "    <tr>\n",
       "      <th>0</th>\n",
       "      <td>0001_01</td>\n",
       "      <td>Europa</td>\n",
       "      <td>False</td>\n",
       "      <td>B/0/P</td>\n",
       "      <td>TRAPPIST-1e</td>\n",
       "      <td>39.0</td>\n",
       "      <td>False</td>\n",
       "      <td>0.0</td>\n",
       "      <td>0.0</td>\n",
       "      <td>0.0</td>\n",
       "      <td>0.0</td>\n",
       "      <td>0.0</td>\n",
       "      <td>Maham Ofracculy</td>\n",
       "      <td>False</td>\n",
       "    </tr>\n",
       "    <tr>\n",
       "      <th>1</th>\n",
       "      <td>0002_01</td>\n",
       "      <td>Earth</td>\n",
       "      <td>False</td>\n",
       "      <td>F/0/S</td>\n",
       "      <td>TRAPPIST-1e</td>\n",
       "      <td>24.0</td>\n",
       "      <td>False</td>\n",
       "      <td>109.0</td>\n",
       "      <td>9.0</td>\n",
       "      <td>25.0</td>\n",
       "      <td>549.0</td>\n",
       "      <td>44.0</td>\n",
       "      <td>Juanna Vines</td>\n",
       "      <td>True</td>\n",
       "    </tr>\n",
       "    <tr>\n",
       "      <th>2</th>\n",
       "      <td>0003_01</td>\n",
       "      <td>Europa</td>\n",
       "      <td>False</td>\n",
       "      <td>A/0/S</td>\n",
       "      <td>TRAPPIST-1e</td>\n",
       "      <td>58.0</td>\n",
       "      <td>True</td>\n",
       "      <td>43.0</td>\n",
       "      <td>3576.0</td>\n",
       "      <td>0.0</td>\n",
       "      <td>6715.0</td>\n",
       "      <td>49.0</td>\n",
       "      <td>Altark Susent</td>\n",
       "      <td>False</td>\n",
       "    </tr>\n",
       "    <tr>\n",
       "      <th>3</th>\n",
       "      <td>0003_02</td>\n",
       "      <td>Europa</td>\n",
       "      <td>False</td>\n",
       "      <td>A/0/S</td>\n",
       "      <td>TRAPPIST-1e</td>\n",
       "      <td>33.0</td>\n",
       "      <td>False</td>\n",
       "      <td>0.0</td>\n",
       "      <td>1283.0</td>\n",
       "      <td>371.0</td>\n",
       "      <td>3329.0</td>\n",
       "      <td>193.0</td>\n",
       "      <td>Solam Susent</td>\n",
       "      <td>False</td>\n",
       "    </tr>\n",
       "    <tr>\n",
       "      <th>4</th>\n",
       "      <td>0004_01</td>\n",
       "      <td>Earth</td>\n",
       "      <td>False</td>\n",
       "      <td>F/1/S</td>\n",
       "      <td>TRAPPIST-1e</td>\n",
       "      <td>16.0</td>\n",
       "      <td>False</td>\n",
       "      <td>303.0</td>\n",
       "      <td>70.0</td>\n",
       "      <td>151.0</td>\n",
       "      <td>565.0</td>\n",
       "      <td>2.0</td>\n",
       "      <td>Willy Santantines</td>\n",
       "      <td>True</td>\n",
       "    </tr>\n",
       "  </tbody>\n",
       "</table>\n",
       "</div>"
      ],
      "text/plain": [
       "  PassengerId HomePlanet CryoSleep  Cabin  Destination   Age    VIP  \\\n",
       "0     0001_01     Europa     False  B/0/P  TRAPPIST-1e  39.0  False   \n",
       "1     0002_01      Earth     False  F/0/S  TRAPPIST-1e  24.0  False   \n",
       "2     0003_01     Europa     False  A/0/S  TRAPPIST-1e  58.0   True   \n",
       "3     0003_02     Europa     False  A/0/S  TRAPPIST-1e  33.0  False   \n",
       "4     0004_01      Earth     False  F/1/S  TRAPPIST-1e  16.0  False   \n",
       "\n",
       "   RoomService  FoodCourt  ShoppingMall     Spa  VRDeck               Name  \\\n",
       "0          0.0        0.0           0.0     0.0     0.0    Maham Ofracculy   \n",
       "1        109.0        9.0          25.0   549.0    44.0       Juanna Vines   \n",
       "2         43.0     3576.0           0.0  6715.0    49.0      Altark Susent   \n",
       "3          0.0     1283.0         371.0  3329.0   193.0       Solam Susent   \n",
       "4        303.0       70.0         151.0   565.0     2.0  Willy Santantines   \n",
       "\n",
       "  Transported  \n",
       "0       False  \n",
       "1        True  \n",
       "2       False  \n",
       "3       False  \n",
       "4        True  "
      ]
     },
     "execution_count": 2,
     "metadata": {},
     "output_type": "execute_result"
    }
   ],
   "source": [
    "import pandas as pd\n",
    "\n",
    "# Random seed for reproducibility\n",
    "SEED = 123\n",
    "# A file to save global variables\n",
    "global_variables = pd.DataFrame({'SEED': [SEED]})\n",
    "global_variables.to_csv('global_variables.csv')\n",
    "global_variables.to_csv('functions/global_variables.csv')\n",
    "\n",
    "train_unprocessed = pd.read_csv('datasets/train.csv')\n",
    "test_unprocessed = pd.read_csv('datasets/test.csv')\n",
    "\n",
    "train_size = len(train_unprocessed)\n",
    "train_size_file = pd.DataFrame([train_size])\n",
    "train_size_file.to_csv('train_size.csv')\n",
    "\n",
    "# Collect Passenger Ids in the test dataset into a separate variable\n",
    "test_Ids = test_unprocessed['PassengerId']\n",
    "test_Ids.to_csv('test_Ids.csv')\n",
    "\n",
    "data_unprocessed = pd.concat([train_unprocessed, test_unprocessed]).reset_index(drop=True)\n",
    "\n",
    "data_unprocessed.head()"
   ]
  },
  {
   "cell_type": "code",
   "execution_count": 3,
   "id": "e0a7baa6",
   "metadata": {},
   "outputs": [
    {
     "name": "stdout",
     "output_type": "stream",
     "text": [
      "<class 'pandas.core.frame.DataFrame'>\n",
      "RangeIndex: 12970 entries, 0 to 12969\n",
      "Data columns (total 14 columns):\n",
      " #   Column        Non-Null Count  Dtype  \n",
      "---  ------        --------------  -----  \n",
      " 0   PassengerId   12970 non-null  object \n",
      " 1   HomePlanet    12682 non-null  object \n",
      " 2   CryoSleep     12660 non-null  object \n",
      " 3   Cabin         12671 non-null  object \n",
      " 4   Destination   12696 non-null  object \n",
      " 5   Age           12700 non-null  float64\n",
      " 6   VIP           12674 non-null  object \n",
      " 7   RoomService   12707 non-null  float64\n",
      " 8   FoodCourt     12681 non-null  float64\n",
      " 9   ShoppingMall  12664 non-null  float64\n",
      " 10  Spa           12686 non-null  float64\n",
      " 11  VRDeck        12702 non-null  float64\n",
      " 12  Name          12676 non-null  object \n",
      " 13  Transported   8693 non-null   object \n",
      "dtypes: float64(6), object(8)\n",
      "memory usage: 1.4+ MB\n"
     ]
    }
   ],
   "source": [
    "data_unprocessed.info()"
   ]
  },
  {
   "cell_type": "markdown",
   "id": "d48f3d1e",
   "metadata": {},
   "source": [
    "## 00. Baseline\n",
    "\n",
    "First, we'll make a baseline prediction, that all passengers were Transported. We'll calculate the Score of this prediction on the train set (for future cases, we'll calculate separately Train Score and Cross-validation Score, but in this case, these scores will be equal to Train Score, since our cross-validation will be stratified).\n",
    "\n",
    "Our Score = (Average Cross-validation ROC AUC) - (1 Standard deviation of Cross-validation ROC AUCs).\n",
    "\n",
    "In this simple case, Standard deviation will be 0 (again, cross-validation is stratified), so Score for this case will be just Train ROC AUC.\n",
    "\n",
    "We'll save our intermediate results in DataFrame scores_df:"
   ]
  },
  {
   "cell_type": "code",
   "execution_count": 4,
   "id": "d892fd6d",
   "metadata": {},
   "outputs": [
    {
     "data": {
      "text/html": [
       "<div>\n",
       "<style scoped>\n",
       "    .dataframe tbody tr th:only-of-type {\n",
       "        vertical-align: middle;\n",
       "    }\n",
       "\n",
       "    .dataframe tbody tr th {\n",
       "        vertical-align: top;\n",
       "    }\n",
       "\n",
       "    .dataframe thead th {\n",
       "        text-align: right;\n",
       "    }\n",
       "</style>\n",
       "<table border=\"1\" class=\"dataframe\">\n",
       "  <thead>\n",
       "    <tr style=\"text-align: right;\">\n",
       "      <th></th>\n",
       "      <th>Comment</th>\n",
       "      <th>Train Score</th>\n",
       "      <th>Cross-val Score</th>\n",
       "      <th>Test Accuracy</th>\n",
       "    </tr>\n",
       "  </thead>\n",
       "  <tbody>\n",
       "    <tr>\n",
       "      <th>0</th>\n",
       "      <td>All True</td>\n",
       "      <td>0.5</td>\n",
       "      <td>0.5</td>\n",
       "      <td>NaN</td>\n",
       "    </tr>\n",
       "  </tbody>\n",
       "</table>\n",
       "</div>"
      ],
      "text/plain": [
       "    Comment  Train Score  Cross-val Score  Test Accuracy\n",
       "0  All True          0.5              0.5            NaN"
      ]
     },
     "execution_count": 4,
     "metadata": {},
     "output_type": "execute_result"
    }
   ],
   "source": [
    "from sklearn.metrics import roc_auc_score\n",
    "\n",
    "train_predictions_00 = pd.DataFrame(data=train_unprocessed['Transported'], columns=['Transported'])\n",
    "train_predictions_00['Transported'] = True\n",
    "\n",
    "scores_df = pd.DataFrame({'Comment': [], 'Train Score': [], 'Cross-val Score': [], 'Test Accuracy': []})\n",
    "\n",
    "score_00 = roc_auc_score(train_unprocessed['Transported'], train_predictions_00['Transported'])\n",
    "\n",
    "scores_df.loc[0, 'Comment'] = 'All True'\n",
    "scores_df.loc[0, 'Train Score'] = score_00\n",
    "scores_df.loc[0, 'Cross-val Score'] = score_00\n",
    "scores_df"
   ]
  },
  {
   "cell_type": "markdown",
   "id": "d570a1f5",
   "metadata": {},
   "source": [
    "ROC AUC is 0.5, which means our predictions are no better than random guessing\n",
    "\n",
    "Now, we'll make a submission to Kaggle to see our Test Accuracy. We won't use Test Accuracy in making decisions, but we'll use it to catch bugs in our Score calculations:"
   ]
  },
  {
   "cell_type": "code",
   "execution_count": 5,
   "id": "939e63ec",
   "metadata": {
    "scrolled": false
   },
   "outputs": [
    {
     "data": {
      "text/html": [
       "<div>\n",
       "<style scoped>\n",
       "    .dataframe tbody tr th:only-of-type {\n",
       "        vertical-align: middle;\n",
       "    }\n",
       "\n",
       "    .dataframe tbody tr th {\n",
       "        vertical-align: top;\n",
       "    }\n",
       "\n",
       "    .dataframe thead th {\n",
       "        text-align: right;\n",
       "    }\n",
       "</style>\n",
       "<table border=\"1\" class=\"dataframe\">\n",
       "  <thead>\n",
       "    <tr style=\"text-align: right;\">\n",
       "      <th></th>\n",
       "      <th>Comment</th>\n",
       "      <th>Train Score</th>\n",
       "      <th>Cross-val Score</th>\n",
       "      <th>Test Accuracy</th>\n",
       "    </tr>\n",
       "  </thead>\n",
       "  <tbody>\n",
       "    <tr>\n",
       "      <th>0</th>\n",
       "      <td>All True</td>\n",
       "      <td>0.5</td>\n",
       "      <td>0.5</td>\n",
       "      <td>0.50689</td>\n",
       "    </tr>\n",
       "  </tbody>\n",
       "</table>\n",
       "</div>"
      ],
      "text/plain": [
       "    Comment  Train Score  Cross-val Score  Test Accuracy\n",
       "0  All True          0.5              0.5        0.50689"
      ]
     },
     "execution_count": 5,
     "metadata": {},
     "output_type": "execute_result"
    }
   ],
   "source": [
    "test_predictions_00 = pd.DataFrame([True] * len(test_unprocessed), columns=['Transported'])\n",
    "submission_00 = pd.concat([test_unprocessed['PassengerId'], test_predictions_00], axis=1)\n",
    "\n",
    "submission_00.to_csv('submissions/submission_00.csv', index=False)\n",
    "\n",
    "scores_df.loc[0, 'Test Accuracy'] = 0.50689\n",
    "scores_df.to_csv('scores_df.csv')\n",
    "scores_df"
   ]
  },
  {
   "cell_type": "markdown",
   "id": "093cdd21",
   "metadata": {},
   "source": [
    "## 01. Numerical features with 0's for missing values\n",
    "\n",
    "Now, we'll make predictions on the numerical features only, filling missing values with zeros:"
   ]
  },
  {
   "cell_type": "code",
   "execution_count": 6,
   "id": "614faaea",
   "metadata": {},
   "outputs": [],
   "source": [
    "# Drop non-numerical columns\n",
    "train = train_unprocessed.select_dtypes(include=['int', 'float'])\n",
    "test = test_unprocessed.select_dtypes(include=['int', 'float'])\n",
    "\n",
    "# Put the target variable back to the train dataset\n",
    "train = pd.concat([train, train_unprocessed['Transported']], axis=1)\n",
    "\n",
    "# Fill missing values with zeros\n",
    "train = train.fillna(0)\n",
    "test = test.fillna(0)\n",
    "\n",
    "train.to_csv('new_datasets/train_01.csv')\n",
    "test.to_csv('new_datasets/test_01.csv')"
   ]
  },
  {
   "cell_type": "markdown",
   "id": "2e984184",
   "metadata": {},
   "source": [
    "We'll use XGBoost with default parameters as our first estimator. \n",
    "\n",
    "### Choosing number of cross-validation splits\n",
    "\n",
    "For calculating Score, I wrote get_score function, that is located in ['functions/get_score.py'](functions/get_score.py). This function takes a number of StratifiedKFold slits as one of its arguments. \n",
    "\n",
    "We want such number of splits that give us the best balance between bias and variance. For the sake of run time, the optimal number of splits calculation is done in a separate file: ['functions/n_splits.py'](functions/n_splits.py).\n",
    "\n",
    "The tradeoff sweetspot is at 3 splits."
   ]
  },
  {
   "cell_type": "code",
   "execution_count": 7,
   "id": "53b6cd7c",
   "metadata": {},
   "outputs": [],
   "source": [
    "N_SPLITS = 3\n",
    "global_variables['N_SPLITS'] = N_SPLITS\n",
    "global_variables.to_csv('global_variables.csv')\n",
    "global_variables.to_csv('functions/global_variables.csv')"
   ]
  },
  {
   "cell_type": "markdown",
   "id": "6bfa34d1",
   "metadata": {},
   "source": [
    "Let's find Scores and Test Accuracy for this number of splits:"
   ]
  },
  {
   "cell_type": "code",
   "execution_count": 8,
   "id": "1d05b615",
   "metadata": {},
   "outputs": [],
   "source": [
    "# UNCOMMENT TO INSTALL XGBOOST\n",
    "#!pip install xgboost\n",
    "import xgboost as xgb\n",
    "\n",
    "# Instantiate the regressor\n",
    "model = xgb.XGBClassifier(random_state=SEED, n_jobs=-1)\n",
    "\n",
    "from functions.get_score import get_score\n",
    "\n",
    "train_score, cross_score, cross_scores_std, submission = get_score(global_variables, train, test, model, scores_df,\n",
    "                                                                  comment=\"All numerical features with 0's for missing values\")"
   ]
  },
  {
   "cell_type": "code",
   "execution_count": 9,
   "id": "ad2493b2",
   "metadata": {},
   "outputs": [
    {
     "data": {
      "text/html": [
       "<div>\n",
       "<style scoped>\n",
       "    .dataframe tbody tr th:only-of-type {\n",
       "        vertical-align: middle;\n",
       "    }\n",
       "\n",
       "    .dataframe tbody tr th {\n",
       "        vertical-align: top;\n",
       "    }\n",
       "\n",
       "    .dataframe thead th {\n",
       "        text-align: right;\n",
       "    }\n",
       "</style>\n",
       "<table border=\"1\" class=\"dataframe\">\n",
       "  <thead>\n",
       "    <tr style=\"text-align: right;\">\n",
       "      <th></th>\n",
       "      <th>Comment</th>\n",
       "      <th>Train Score</th>\n",
       "      <th>Cross-val Score</th>\n",
       "      <th>Test Accuracy</th>\n",
       "    </tr>\n",
       "  </thead>\n",
       "  <tbody>\n",
       "    <tr>\n",
       "      <th>0</th>\n",
       "      <td>All True</td>\n",
       "      <td>0.500000</td>\n",
       "      <td>0.500000</td>\n",
       "      <td>0.50689</td>\n",
       "    </tr>\n",
       "    <tr>\n",
       "      <th>1</th>\n",
       "      <td>All numerical features with 0's for missing va...</td>\n",
       "      <td>0.919507</td>\n",
       "      <td>0.828452</td>\n",
       "      <td>0.78770</td>\n",
       "    </tr>\n",
       "  </tbody>\n",
       "</table>\n",
       "</div>"
      ],
      "text/plain": [
       "                                             Comment  Train Score  \\\n",
       "0                                           All True     0.500000   \n",
       "1  All numerical features with 0's for missing va...     0.919507   \n",
       "\n",
       "   Cross-val Score  Test Accuracy  \n",
       "0         0.500000        0.50689  \n",
       "1         0.828452        0.78770  "
      ]
     },
     "execution_count": 9,
     "metadata": {},
     "output_type": "execute_result"
    }
   ],
   "source": [
    "submission.to_csv('submissions/submission_01.csv', index=False)\n",
    "\n",
    "scores_df.loc[1, 'Test Accuracy'] = 0.7877\n",
    "scores_df.to_csv('scores_df.csv')\n",
    "scores_df"
   ]
  },
  {
   "cell_type": "markdown",
   "id": "be68fd89",
   "metadata": {},
   "source": [
    "## Hyperparameters tuning workflow description\n",
    "\n",
    "For the sake of runtime and for convinience, we'll do all our hyperparameters tunings in separate files. Here is the workflow:\n",
    "\n",
    "-) Notice the Report chapter number. For example, our next chapter, in which we'll do our first tining, is 02.\n",
    "\n",
    "-) If you need to restart any study from scratch, go to ['functions/initialize_studies.ipynb'](functions/initialize_studies.ipynb), run the first cell to import packages, then run a cell with your current Report chapter number. The progress of that study will be deleted.\n",
    "\n",
    "!!!ATTENTION!!! Do not run the whole initialize_studies notebook, or all the studies will be restarted (unless that is what you want). !!!ATTENTION!!!\n",
    "\n",
    "-) The current study is in studies/Report_chapter_number.py. For example, next study will be in ['studies/02.py'](studies/02.py).\n",
    "\n",
    "-) At the beginning of the study file, choose maximum run time and number of trials for the current run.\n",
    "\n",
    "-) Hyperparameter tuning will be continued from the end of the previous run of this file.\n",
    "\n",
    "-) At the end of the run, look at the best parameters. If some of the parameters are on the extreme ends of the search ranges, extend the ranges. The study progress will be kept.\n",
    "\n",
    "-) At the end of the run, look at the total number of trials in study and the number of the best trial.\n",
    "\n",
    "-) If results (Average cross-val scores) keep going up, re-run the file. Repeat until satisfied.\n",
    "\n",
    "-) If results (Average cross-val scores) do not improve for a big number of trials, then go back to the current Report chapter and load results (see below).\n",
    "\n",
    "For a simple exaple look at ['studies/test.ipynb'](studies/test.ipynb). This study maximizes sum of two numbers chosen from a set of integers."
   ]
  },
  {
   "cell_type": "markdown",
   "id": "1afcb6c6",
   "metadata": {},
   "source": [
    "## 02. Choosing numerical features\n",
    "\n",
    "We'll find the set of numerical features that gives us the highest cross-validation Score:"
   ]
  },
  {
   "cell_type": "code",
   "execution_count": 10,
   "id": "e3c4e599",
   "metadata": {},
   "outputs": [
    {
     "name": "stdout",
     "output_type": "stream",
     "text": [
      "Best average cross-validation Score: 0.8284518468994545\n",
      "Best hyperparameters: {'Age': True, 'RoomService': True, 'FoodCourt': True, 'ShoppingMall': True, 'Spa': True, 'VRDeck': True}\n"
     ]
    }
   ],
   "source": [
    "import joblib\n",
    "import optuna\n",
    "\n",
    "study = joblib.load(\"studies/02.pkl\")\n",
    "\n",
    "print(\"Best average cross-validation Score:\", study.best_trial.value)\n",
    "print(\"Best hyperparameters:\", study.best_params)"
   ]
  },
  {
   "cell_type": "markdown",
   "id": "19116628",
   "metadata": {},
   "source": [
    "Here, \"'Age': True\" means that the best model was using 'Age' feature. \n",
    "\n",
    "All the features were selected by our hyperparameters search.\n",
    "\n",
    "Note, that our best Score is equal to the Score from the 01, since we used the same set of features and same random seed. Let's put this score into scores_df for consistency:"
   ]
  },
  {
   "cell_type": "code",
   "execution_count": 11,
   "id": "5523fb1c",
   "metadata": {},
   "outputs": [
    {
     "data": {
      "text/html": [
       "<div>\n",
       "<style scoped>\n",
       "    .dataframe tbody tr th:only-of-type {\n",
       "        vertical-align: middle;\n",
       "    }\n",
       "\n",
       "    .dataframe tbody tr th {\n",
       "        vertical-align: top;\n",
       "    }\n",
       "\n",
       "    .dataframe thead th {\n",
       "        text-align: right;\n",
       "    }\n",
       "</style>\n",
       "<table border=\"1\" class=\"dataframe\">\n",
       "  <thead>\n",
       "    <tr style=\"text-align: right;\">\n",
       "      <th></th>\n",
       "      <th>Comment</th>\n",
       "      <th>Train Score</th>\n",
       "      <th>Cross-val Score</th>\n",
       "      <th>Test Accuracy</th>\n",
       "    </tr>\n",
       "  </thead>\n",
       "  <tbody>\n",
       "    <tr>\n",
       "      <th>0</th>\n",
       "      <td>All True</td>\n",
       "      <td>0.500000</td>\n",
       "      <td>0.500000</td>\n",
       "      <td>0.50689</td>\n",
       "    </tr>\n",
       "    <tr>\n",
       "      <th>1</th>\n",
       "      <td>All numerical features with 0's for missing va...</td>\n",
       "      <td>0.919507</td>\n",
       "      <td>0.828452</td>\n",
       "      <td>0.78770</td>\n",
       "    </tr>\n",
       "    <tr>\n",
       "      <th>2</th>\n",
       "      <td>All numerical features are selected</td>\n",
       "      <td>0.919507</td>\n",
       "      <td>0.828452</td>\n",
       "      <td>0.78770</td>\n",
       "    </tr>\n",
       "  </tbody>\n",
       "</table>\n",
       "</div>"
      ],
      "text/plain": [
       "                                             Comment  Train Score  \\\n",
       "0                                           All True     0.500000   \n",
       "1  All numerical features with 0's for missing va...     0.919507   \n",
       "2                All numerical features are selected     0.919507   \n",
       "\n",
       "   Cross-val Score  Test Accuracy  \n",
       "0         0.500000        0.50689  \n",
       "1         0.828452        0.78770  \n",
       "2         0.828452        0.78770  "
      ]
     },
     "execution_count": 11,
     "metadata": {},
     "output_type": "execute_result"
    }
   ],
   "source": [
    "train_score, cross_score, cross_scores_std, submission = get_score(global_variables, train, test, model, scores_df,\n",
    "                                                                  comment=\"All numerical features are selected\")\n",
    "scores_df.loc[2, 'Test Accuracy'] = 0.7877\n",
    "scores_df.to_csv('scores_df.csv')\n",
    "scores_df"
   ]
  },
  {
   "cell_type": "markdown",
   "id": "cc4ea4e8",
   "metadata": {},
   "source": [
    "## Categorical features\n",
    "\n",
    "Let's look at our data column by column:"
   ]
  },
  {
   "cell_type": "markdown",
   "id": "700c037e",
   "metadata": {},
   "source": [
    "## 03. Group Size"
   ]
  },
  {
   "cell_type": "markdown",
   "id": "9c402d4a",
   "metadata": {},
   "source": [
    "**PassengerId** - A unique Id for each passenger. Each Id takes the form gggg_pp where gggg indicates a group the passenger is travelling with and pp is their number within the group. People in a group are often family members, but not always.\n",
    "\n",
    "The number of a passenger within their group is arbitrary, so we don't need it. However, group numbers may be important, so we'll create a new feature \"Group\":"
   ]
  },
  {
   "cell_type": "code",
   "execution_count": 12,
   "id": "d0116b87",
   "metadata": {},
   "outputs": [
    {
     "name": "stdout",
     "output_type": "stream",
     "text": [
      "<class 'pandas.core.series.Series'>\n",
      "RangeIndex: 8693 entries, 0 to 8692\n",
      "Series name: Group\n",
      "Non-Null Count  Dtype \n",
      "--------------  ----- \n",
      "8693 non-null   object\n",
      "dtypes: object(1)\n",
      "memory usage: 68.0+ KB\n",
      "None\n",
      "count     8693\n",
      "unique    6217\n",
      "top       4498\n",
      "freq         8\n",
      "Name: Group, dtype: object\n",
      "Unique Values:\n",
      "['0001' '0002' '0003' ... '9278' '9279' '9280']\n"
     ]
    }
   ],
   "source": [
    "train['Group'] = train_unprocessed['PassengerId'].str[:4]\n",
    "test['Group'] = test_unprocessed['PassengerId'].str[:4]\n",
    "print(train['Group'].info())\n",
    "print(train['Group'].describe())\n",
    "print('Unique Values:')\n",
    "print(train['Group'].unique())"
   ]
  },
  {
   "cell_type": "markdown",
   "id": "92acb2b9",
   "metadata": {},
   "source": [
    "We have 6217 separate Groups in the training set among 8693 entries.\n",
    "\n",
    "We need to transform Group to numerical features. Since the number of categories is high, it may be unworthy to create dummy variables. We'll try Mean Target Encoding (the fuctions for Mean Target Encoding are based on work by Yauhen Babakhin):"
   ]
  },
  {
   "cell_type": "code",
   "execution_count": 13,
   "id": "0533c542",
   "metadata": {},
   "outputs": [
    {
     "data": {
      "text/plain": [
       "count    4.277000e+03\n",
       "mean     5.036236e-01\n",
       "std      3.475404e-14\n",
       "min      5.036236e-01\n",
       "25%      5.036236e-01\n",
       "50%      5.036236e-01\n",
       "75%      5.036236e-01\n",
       "max      5.036236e-01\n",
       "Name: Group_enc, dtype: float64"
      ]
     },
     "execution_count": 13,
     "metadata": {},
     "output_type": "execute_result"
    }
   ],
   "source": [
    "from functions.target_encoding import mean_target_encoding\n",
    "\n",
    "# We'll need to express Transported as 1 and 0 for Mean Target Encoding:\n",
    "train['Transported'] = [1 if i else 0 for i in train['Transported']]\n",
    "\n",
    "# Encode Group\n",
    "train['Group_enc'], test['Group_enc'] = mean_target_encoding(train, test, 'Transported', 'Group', alpha=7.5)\n",
    "\n",
    "test['Group_enc'].describe()"
   ]
  },
  {
   "cell_type": "markdown",
   "id": "8c837534",
   "metadata": {},
   "source": [
    "Oh, it seems that we have only one unique value for the Group_enc in the test set:"
   ]
  },
  {
   "cell_type": "code",
   "execution_count": 14,
   "id": "26c91965",
   "metadata": {},
   "outputs": [
    {
     "data": {
      "text/plain": [
       "array([0.50362361])"
      ]
     },
     "execution_count": 14,
     "metadata": {},
     "output_type": "execute_result"
    }
   ],
   "source": [
    "test['Group_enc'].unique()"
   ]
  },
  {
   "cell_type": "markdown",
   "id": "d2fbf6a5",
   "metadata": {},
   "source": [
    "The reason is that there is no Groups that are common between the train and test sets:"
   ]
  },
  {
   "cell_type": "code",
   "execution_count": 15,
   "id": "4853c19c",
   "metadata": {},
   "outputs": [
    {
     "data": {
      "text/plain": [
       "[]"
      ]
     },
     "execution_count": 15,
     "metadata": {},
     "output_type": "execute_result"
    }
   ],
   "source": [
    "list(set(train['Group']) & set(test['Group']))"
   ]
  },
  {
   "cell_type": "markdown",
   "id": "42ee614c",
   "metadata": {},
   "source": [
    "Therefore, distinguishing Groups is useless. However, we can use the Group column in another way: let's calculate the number of group members and assign it to \"GroupSize\" variable:"
   ]
  },
  {
   "cell_type": "code",
   "execution_count": 16,
   "id": "77f9a29e",
   "metadata": {},
   "outputs": [
    {
     "name": "stdout",
     "output_type": "stream",
     "text": [
      "<class 'pandas.core.series.Series'>\n",
      "RangeIndex: 8693 entries, 0 to 8692\n",
      "Series name: GroupSize\n",
      "Non-Null Count  Dtype\n",
      "--------------  -----\n",
      "8693 non-null   int64\n",
      "dtypes: int64(1)\n",
      "memory usage: 68.0 KB\n",
      "None\n",
      "count    8693.000000\n",
      "mean        2.035546\n",
      "std         1.596347\n",
      "min         1.000000\n",
      "25%         1.000000\n",
      "50%         1.000000\n",
      "75%         3.000000\n",
      "max         8.000000\n",
      "Name: GroupSize, dtype: float64\n",
      "Unique Values:\n",
      "[1 2 3 6 4 7 5 8]\n",
      "<class 'pandas.core.series.Series'>\n",
      "RangeIndex: 4277 entries, 0 to 4276\n",
      "Series name: GroupSize\n",
      "Non-Null Count  Dtype\n",
      "--------------  -----\n",
      "4277 non-null   int64\n",
      "dtypes: int64(1)\n",
      "memory usage: 33.5 KB\n",
      "None\n",
      "count    4277.000000\n",
      "mean        1.997428\n",
      "std         1.537113\n",
      "min         1.000000\n",
      "25%         1.000000\n",
      "50%         1.000000\n",
      "75%         2.000000\n",
      "max         8.000000\n",
      "Name: GroupSize, dtype: float64\n",
      "Unique Values:\n",
      "[1 2 3 5 4 8 6 7]\n"
     ]
    }
   ],
   "source": [
    "train['GroupSize'] = train.groupby('Group')['Group'].transform('count')\n",
    "test['GroupSize'] = test.groupby('Group')['Group'].transform('count')\n",
    "\n",
    "for dataset in [train, test]:\n",
    "    print(dataset['GroupSize'].info())\n",
    "    print(dataset['GroupSize'].describe())\n",
    "    print('Unique Values:')\n",
    "    print(dataset['GroupSize'].unique())\n",
    "    "
   ]
  },
  {
   "cell_type": "markdown",
   "id": "8e442599",
   "metadata": {},
   "source": [
    "Now, let's select features again, now with GroupSize feature as an option:"
   ]
  },
  {
   "cell_type": "code",
   "execution_count": 17,
   "id": "dbc27892",
   "metadata": {},
   "outputs": [
    {
     "name": "stdout",
     "output_type": "stream",
     "text": [
      "Best average cross-validation Score: 0.8342087175928439\n",
      "Best hyperparameters: {'Age': True, 'RoomService': True, 'FoodCourt': True, 'ShoppingMall': True, 'Spa': True, 'VRDeck': True, 'GroupSize': True}\n"
     ]
    }
   ],
   "source": [
    "train.to_csv('new_datasets/train_03.csv')\n",
    "test.to_csv('new_datasets/test_03.csv')\n",
    "\n",
    "study = joblib.load(\"studies/03.pkl\")\n",
    "\n",
    "print(\"Best average cross-validation Score:\", study.best_trial.value)\n",
    "print(\"Best hyperparameters:\", study.best_params)"
   ]
  },
  {
   "cell_type": "markdown",
   "id": "17e1356d",
   "metadata": {},
   "source": [
    "We improved our Score by adding Group Size! Let's put results in the table:"
   ]
  },
  {
   "cell_type": "code",
   "execution_count": 18,
   "id": "b4af36c2",
   "metadata": {},
   "outputs": [
    {
     "data": {
      "text/html": [
       "<div>\n",
       "<style scoped>\n",
       "    .dataframe tbody tr th:only-of-type {\n",
       "        vertical-align: middle;\n",
       "    }\n",
       "\n",
       "    .dataframe tbody tr th {\n",
       "        vertical-align: top;\n",
       "    }\n",
       "\n",
       "    .dataframe thead th {\n",
       "        text-align: right;\n",
       "    }\n",
       "</style>\n",
       "<table border=\"1\" class=\"dataframe\">\n",
       "  <thead>\n",
       "    <tr style=\"text-align: right;\">\n",
       "      <th></th>\n",
       "      <th>Comment</th>\n",
       "      <th>Train Score</th>\n",
       "      <th>Cross-val Score</th>\n",
       "      <th>Test Accuracy</th>\n",
       "    </tr>\n",
       "  </thead>\n",
       "  <tbody>\n",
       "    <tr>\n",
       "      <th>0</th>\n",
       "      <td>All True</td>\n",
       "      <td>0.500000</td>\n",
       "      <td>0.500000</td>\n",
       "      <td>0.50689</td>\n",
       "    </tr>\n",
       "    <tr>\n",
       "      <th>1</th>\n",
       "      <td>All numerical features with 0's for missing va...</td>\n",
       "      <td>0.919507</td>\n",
       "      <td>0.828452</td>\n",
       "      <td>0.78770</td>\n",
       "    </tr>\n",
       "    <tr>\n",
       "      <th>2</th>\n",
       "      <td>All numerical features are selected</td>\n",
       "      <td>0.919507</td>\n",
       "      <td>0.828452</td>\n",
       "      <td>0.78770</td>\n",
       "    </tr>\n",
       "    <tr>\n",
       "      <th>3</th>\n",
       "      <td>+ GroupSize</td>\n",
       "      <td>0.932251</td>\n",
       "      <td>0.834209</td>\n",
       "      <td>0.78840</td>\n",
       "    </tr>\n",
       "  </tbody>\n",
       "</table>\n",
       "</div>"
      ],
      "text/plain": [
       "                                             Comment  Train Score  \\\n",
       "0                                           All True     0.500000   \n",
       "1  All numerical features with 0's for missing va...     0.919507   \n",
       "2                All numerical features are selected     0.919507   \n",
       "3                                        + GroupSize     0.932251   \n",
       "\n",
       "   Cross-val Score  Test Accuracy  \n",
       "0         0.500000        0.50689  \n",
       "1         0.828452        0.78770  \n",
       "2         0.828452        0.78770  \n",
       "3         0.834209        0.78840  "
      ]
     },
     "execution_count": 18,
     "metadata": {},
     "output_type": "execute_result"
    }
   ],
   "source": [
    "# Create sets with selected columns\n",
    "\n",
    "selected_columns = []\n",
    "for key, value in study.best_params.items():\n",
    "    if value:\n",
    "        selected_columns.append(key)\n",
    "\n",
    "train_selected = train[selected_columns]\n",
    "train_selected = pd.concat([train_selected, train_unprocessed['Transported']], axis=1)\n",
    "test_selected =  test[selected_columns]\n",
    "\n",
    "\n",
    "train_score, cross_score, cross_scores_std, submission = get_score(global_variables, \n",
    "                                    train_selected, test_selected,\n",
    "                                    model, scores_df,\n",
    "                                    comment=\"+ GroupSize\")\n",
    "submission.to_csv('submissions/submission_03.csv', index=False)\n",
    "scores_df.loc[3, 'Test Accuracy'] = 0.7884\n",
    "scores_df.to_csv('scores_df.csv')\n",
    "scores_df"
   ]
  },
  {
   "cell_type": "markdown",
   "id": "cb734e7a",
   "metadata": {},
   "source": [
    "## Exploring missing values"
   ]
  },
  {
   "cell_type": "markdown",
   "id": "0ec0586c",
   "metadata": {},
   "source": [
    "PassengerId, and, therefore, GroupSize don't have missing values. Other columns, though, have missing values. Let's explore if there are some patterns in missing data:"
   ]
  },
  {
   "cell_type": "code",
   "execution_count": 19,
   "id": "3e91bdd4",
   "metadata": {},
   "outputs": [
    {
     "name": "stdout",
     "output_type": "stream",
     "text": [
      "PassengerId        0\n",
      "HomePlanet       288\n",
      "CryoSleep        310\n",
      "Cabin            299\n",
      "Destination      274\n",
      "Age              270\n",
      "VIP              296\n",
      "RoomService      263\n",
      "FoodCourt        289\n",
      "ShoppingMall     306\n",
      "Spa              284\n",
      "VRDeck           268\n",
      "Name             294\n",
      "Transported     4277\n",
      "dtype: int64\n"
     ]
    },
    {
     "data": {
      "image/png": "[encoded data removed]",
      "text/plain": [
       "<Figure size 2500x1000 with 2 Axes>"
      ]
     },
     "metadata": {},
     "output_type": "display_data"
    }
   ],
   "source": [
    "import missingno as msno\n",
    "import matplotlib.pyplot as plt\n",
    "\n",
    "# Print number of missing values in banking\n",
    "print(data_unprocessed.isna().sum())\n",
    "\n",
    "# Visualize missingness matrix\n",
    "msno.matrix(data_unprocessed)\n",
    "plt.show()"
   ]
  },
  {
   "cell_type": "markdown",
   "id": "f589f91f",
   "metadata": {},
   "source": [
    "It seems that values are Missing At Random (Transported column is our target, it is missing in test data). We'll fill the missing values column by column, based on the description of the dataset.\n",
    "\n",
    "## 04. Family Size\n",
    "\n",
    "**Name** - The first and last names of the passenger.\n",
    "\n",
    "We don't need the first names, so we'll strip them. \n",
    "Additionally, we may assume that passengers with the same last names in different Groups are not relatives. To avoid treating them as relatives, we will append Group names to all last names:"
   ]
  },
  {
   "cell_type": "code",
   "execution_count": 20,
   "id": "a61b0674",
   "metadata": {},
   "outputs": [
    {
     "name": "stderr",
     "output_type": "stream",
     "text": [
      "C:\\Users\\mikej\\AppData\\Local\\Temp\\ipykernel_26044\\2091076608.py:7: FutureWarning: In a future version of pandas all arguments of StringMethods.split except for the argument 'pat' will be keyword-only.\n",
      "  data.Name = data.Name.str.split(' ', 1).str[1]\n"
     ]
    }
   ],
   "source": [
    "### !!!! FutureWarning: In a future version of pandas all arguments of StringMethods.split except for the argument 'pat' will be keyword-only.\n",
    "\n",
    "train = pd.concat([train, train_unprocessed['Name']], axis=1)\n",
    "test = pd.concat([test, test_unprocessed['Name']], axis=1)\n",
    "\n",
    "for data in [train, test]:\n",
    "    data.Name = data.Name.str.split(' ', 1).str[1]\n",
    "    data.Name = data.Name + data.Group"
   ]
  },
  {
   "cell_type": "markdown",
   "id": "215c3f69",
   "metadata": {},
   "source": [
    "We'll fill the missing values for Names based on the most common surname in their Group.\n",
    "If a passenger is alone in their group, we'll name them by the name of their Group:"
   ]
  },
  {
   "cell_type": "code",
   "execution_count": 21,
   "id": "c08259ba",
   "metadata": {},
   "outputs": [],
   "source": [
    "for data in [train, test]:\n",
    "    # Iterate through all the rows with missing data\n",
    "    for index in data[data['Name'].isna()].index:\n",
    "        # Fill the missing values for lonely passengers:\n",
    "        if len(data[data['Group'] == data.loc[index, 'Group']]) == 1:\n",
    "            data.loc[index, \"Name\"] = data.loc[index, 'Group']\n",
    "        # Fill the missing values for non-lonely passengers:\n",
    "        else:\n",
    "            data.loc[index, \"Name\"] = data[(data['Group'] == data.loc[index, 'Group']) & \\\n",
    "                    (data['Name'].isna() == False)]['Name'].mode()[0]"
   ]
  },
  {
   "cell_type": "markdown",
   "id": "a037d9bc",
   "metadata": {},
   "source": [
    "As you can see below, now Name doesn't have missing values:"
   ]
  },
  {
   "cell_type": "code",
   "execution_count": 22,
   "id": "c20a4773",
   "metadata": {},
   "outputs": [
    {
     "name": "stdout",
     "output_type": "stream",
     "text": [
      "<class 'pandas.core.series.Series'>\n",
      "RangeIndex: 8693 entries, 0 to 8692\n",
      "Series name: Name\n",
      "Non-Null Count  Dtype \n",
      "--------------  ----- \n",
      "8693 non-null   object\n",
      "dtypes: object(1)\n",
      "memory usage: 68.0+ KB\n",
      "None\n",
      "count               8693\n",
      "unique              6491\n",
      "top       Clemondsey9081\n",
      "freq                   8\n",
      "Name: Name, dtype: object\n",
      "Unique Values:\n",
      "['Ofracculy0001' 'Vines0002' 'Susent0003' ... 'Mondalley9278' 'Connon9279'\n",
      " 'Hontichre9280']\n",
      "<class 'pandas.core.series.Series'>\n",
      "RangeIndex: 4277 entries, 0 to 4276\n",
      "Series name: Name\n",
      "Non-Null Count  Dtype \n",
      "--------------  ----- \n",
      "4277 non-null   object\n",
      "dtypes: object(1)\n",
      "memory usage: 33.5+ KB\n",
      "None\n",
      "count          4277\n",
      "unique         3200\n",
      "top       Casez6332\n",
      "freq              8\n",
      "Name: Name, dtype: object\n",
      "Unique Values:\n",
      "['Carsoning0013' 'Peckers0018' 'Unhearfus0019' ... 'Pore9271' 'Conale9273'\n",
      " 'Leonzaley9277']\n"
     ]
    }
   ],
   "source": [
    "for data in [train, test]:\n",
    "    print(data['Name'].info())\n",
    "    print(data['Name'].describe())\n",
    "    print('Unique Values:')\n",
    "    print(data['Name'].unique())"
   ]
  },
  {
   "cell_type": "markdown",
   "id": "3f0dd71b",
   "metadata": {},
   "source": [
    "Since we don't have common Groups between train and test, we don't have common families as well. Hence, we'll just create FamilySize feature:"
   ]
  },
  {
   "cell_type": "code",
   "execution_count": 23,
   "id": "6c093731",
   "metadata": {},
   "outputs": [
    {
     "name": "stdout",
     "output_type": "stream",
     "text": [
      "<class 'pandas.core.series.Series'>\n",
      "RangeIndex: 8693 entries, 0 to 8692\n",
      "Series name: FamilySize\n",
      "Non-Null Count  Dtype\n",
      "--------------  -----\n",
      "8693 non-null   int64\n",
      "dtypes: int64(1)\n",
      "memory usage: 68.0 KB\n",
      "None\n",
      "count    8693.000000\n",
      "mean        1.819510\n",
      "std         1.304256\n",
      "min         1.000000\n",
      "25%         1.000000\n",
      "50%         1.000000\n",
      "75%         2.000000\n",
      "max         8.000000\n",
      "Name: FamilySize, dtype: float64\n",
      "Unique Values:\n",
      "[1 2 3 7 6 4 5 8]\n",
      "<class 'pandas.core.series.Series'>\n",
      "RangeIndex: 4277 entries, 0 to 4276\n",
      "Series name: FamilySize\n",
      "Non-Null Count  Dtype\n",
      "--------------  -----\n",
      "4277 non-null   int64\n",
      "dtypes: int64(1)\n",
      "memory usage: 33.5 KB\n",
      "None\n",
      "count    4277.000000\n",
      "mean        1.771569\n",
      "std         1.196133\n",
      "min         1.000000\n",
      "25%         1.000000\n",
      "50%         1.000000\n",
      "75%         2.000000\n",
      "max         8.000000\n",
      "Name: FamilySize, dtype: float64\n",
      "Unique Values:\n",
      "[1 2 3 5 4 6 7 8]\n"
     ]
    }
   ],
   "source": [
    "for data in [train, test]:\n",
    "    # Calculate FamilySize\n",
    "    data['FamilySize'] = data.groupby('Name')['Name'].transform('count')\n",
    "    print(data['FamilySize'].info())\n",
    "    print(data['FamilySize'].describe())\n",
    "    print('Unique Values:')\n",
    "    print(data['FamilySize'].unique())"
   ]
  },
  {
   "cell_type": "markdown",
   "id": "1ba9c9a7",
   "metadata": {},
   "source": [
    "Note, that GroupSize is not always equal to FamilySize:"
   ]
  },
  {
   "cell_type": "code",
   "execution_count": 24,
   "id": "71b6b6f4",
   "metadata": {},
   "outputs": [
    {
     "data": {
      "text/plain": [
       "0    7727\n",
       "1     533\n",
       "2     202\n",
       "3      91\n",
       "4      70\n",
       "5      40\n",
       "6      22\n",
       "7       8\n",
       "dtype: int64"
      ]
     },
     "execution_count": 24,
     "metadata": {},
     "output_type": "execute_result"
    }
   ],
   "source": [
    "(train['GroupSize'] - train['FamilySize']).value_counts()"
   ]
  },
  {
   "cell_type": "code",
   "execution_count": 25,
   "id": "a362cea1",
   "metadata": {},
   "outputs": [
    {
     "data": {
      "text/plain": [
       "0    3832\n",
       "1     208\n",
       "2      95\n",
       "3      57\n",
       "4      43\n",
       "5      30\n",
       "6       9\n",
       "7       3\n",
       "dtype: int64"
      ]
     },
     "execution_count": 25,
     "metadata": {},
     "output_type": "execute_result"
    }
   ],
   "source": [
    "(test['GroupSize'] - test['FamilySize']).value_counts()"
   ]
  },
  {
   "cell_type": "markdown",
   "id": "9685f6bd",
   "metadata": {},
   "source": [
    "Let's select features:"
   ]
  },
  {
   "cell_type": "code",
   "execution_count": 26,
   "id": "1542a0e6",
   "metadata": {},
   "outputs": [
    {
     "name": "stdout",
     "output_type": "stream",
     "text": [
      "Best average cross-validation Score: 0.8342301402263921\n",
      "Best hyperparameters: {'Age': True, 'RoomService': True, 'FoodCourt': True, 'ShoppingMall': True, 'Spa': True, 'VRDeck': True, 'GroupSize': True, 'FamilySize': True}\n"
     ]
    }
   ],
   "source": [
    "train.to_csv('new_datasets/train_04.csv')\n",
    "test.to_csv('new_datasets/test_04.csv')\n",
    "\n",
    "study = joblib.load(\"studies/04.pkl\")\n",
    "\n",
    "print(\"Best average cross-validation Score:\", study.best_trial.value)\n",
    "print(\"Best hyperparameters:\", study.best_params)"
   ]
  },
  {
   "cell_type": "code",
   "execution_count": 27,
   "id": "cf88b7e0",
   "metadata": {},
   "outputs": [
    {
     "data": {
      "text/html": [
       "<div>\n",
       "<style scoped>\n",
       "    .dataframe tbody tr th:only-of-type {\n",
       "        vertical-align: middle;\n",
       "    }\n",
       "\n",
       "    .dataframe tbody tr th {\n",
       "        vertical-align: top;\n",
       "    }\n",
       "\n",
       "    .dataframe thead th {\n",
       "        text-align: right;\n",
       "    }\n",
       "</style>\n",
       "<table border=\"1\" class=\"dataframe\">\n",
       "  <thead>\n",
       "    <tr style=\"text-align: right;\">\n",
       "      <th></th>\n",
       "      <th>Comment</th>\n",
       "      <th>Train Score</th>\n",
       "      <th>Cross-val Score</th>\n",
       "      <th>Test Accuracy</th>\n",
       "    </tr>\n",
       "  </thead>\n",
       "  <tbody>\n",
       "    <tr>\n",
       "      <th>0</th>\n",
       "      <td>All True</td>\n",
       "      <td>0.500000</td>\n",
       "      <td>0.500000</td>\n",
       "      <td>0.50689</td>\n",
       "    </tr>\n",
       "    <tr>\n",
       "      <th>1</th>\n",
       "      <td>All numerical features with 0's for missing va...</td>\n",
       "      <td>0.919507</td>\n",
       "      <td>0.828452</td>\n",
       "      <td>0.78770</td>\n",
       "    </tr>\n",
       "    <tr>\n",
       "      <th>2</th>\n",
       "      <td>All numerical features are selected</td>\n",
       "      <td>0.919507</td>\n",
       "      <td>0.828452</td>\n",
       "      <td>0.78770</td>\n",
       "    </tr>\n",
       "    <tr>\n",
       "      <th>3</th>\n",
       "      <td>+ GroupSize</td>\n",
       "      <td>0.932251</td>\n",
       "      <td>0.834209</td>\n",
       "      <td>0.78840</td>\n",
       "    </tr>\n",
       "    <tr>\n",
       "      <th>4</th>\n",
       "      <td>+ FamilySize</td>\n",
       "      <td>0.935245</td>\n",
       "      <td>0.834230</td>\n",
       "      <td>0.78723</td>\n",
       "    </tr>\n",
       "  </tbody>\n",
       "</table>\n",
       "</div>"
      ],
      "text/plain": [
       "                                             Comment  Train Score  \\\n",
       "0                                           All True     0.500000   \n",
       "1  All numerical features with 0's for missing va...     0.919507   \n",
       "2                All numerical features are selected     0.919507   \n",
       "3                                        + GroupSize     0.932251   \n",
       "4                                       + FamilySize     0.935245   \n",
       "\n",
       "   Cross-val Score  Test Accuracy  \n",
       "0         0.500000        0.50689  \n",
       "1         0.828452        0.78770  \n",
       "2         0.828452        0.78770  \n",
       "3         0.834209        0.78840  \n",
       "4         0.834230        0.78723  "
      ]
     },
     "execution_count": 27,
     "metadata": {},
     "output_type": "execute_result"
    }
   ],
   "source": [
    "# Create sets with selected columns\n",
    "\n",
    "selected_columns = []\n",
    "for key, value in study.best_params.items():\n",
    "    if value:\n",
    "        selected_columns.append(key)\n",
    "\n",
    "train_selected = train[selected_columns]\n",
    "train_selected = pd.concat([train_selected, train_unprocessed['Transported']], axis=1)\n",
    "test_selected =  test[selected_columns]\n",
    "\n",
    "\n",
    "train_score, cross_score, cross_scores_std, submission = get_score(global_variables, \n",
    "                                    train_selected, test_selected,\n",
    "                                    model, scores_df,\n",
    "                                    comment=\"+ FamilySize\")\n",
    "submission.to_csv('submissions/submission_04.csv', index=False)\n",
    "scores_df.loc[4, 'Test Accuracy'] = 0.78723\n",
    "scores_df.to_csv('scores_df.csv')\n",
    "scores_df"
   ]
  },
  {
   "cell_type": "markdown",
   "id": "4f85c746",
   "metadata": {},
   "source": [
    "This is the first time when increase in Cross-val Score didn't lead to increase in Test Accuracy. However, as we stated before, we won't look at Test Accuracy for making decisions, since we want our model to generalize well to unseen data (imagine there will be more passenger data in the future).\n",
    "\n",
    "What is important for us, is that our Cross-val Score is increasing, and Test Accuracy is generally increasing, so we can't say that our Score calculations are bugged or that we are overfitting to the cross-validation sets."
   ]
  },
  {
   "cell_type": "markdown",
   "id": "0b2e02aa",
   "metadata": {},
   "source": [
    "## 05. The rest of categorical columns"
   ]
  }
 ],
 "metadata": {
  "kernelspec": {
   "display_name": "Python 3 (ipykernel)",
   "language": "python",
   "name": "python3"
  },
  "language_info": {
   "codemirror_mode": {
    "name": "ipython",
    "version": 3
   },
   "file_extension": ".py",
   "mimetype": "text/x-python",
   "name": "python",
   "nbconvert_exporter": "python",
   "pygments_lexer": "ipython3",
   "version": "3.10.9"
  }
 },
 "nbformat": 4,
 "nbformat_minor": 5
}
