{
 "cells": [
  {
   "cell_type": "markdown",
   "id": "febe1697",
   "metadata": {},
   "source": [
    "# Spaceship."
   ]
  },
  {
   "cell_type": "markdown",
   "id": "f890e170",
   "metadata": {},
   "source": [
    "## Task description\n",
    "\n",
    "To help rescue crews and retrieve the lost passengers, you are challenged to predict which passengers were transported by the anomaly using records recovered from the spaceship’s damaged computer system.\n",
    "\n",
    "## Files and Data Fields Descriptions\n",
    "\n",
    "\n",
    "### **train.csv**  - Personal records for about two-thirds (~8700) of the passengers, to be used as training data.\n",
    "\n",
    "PassengerId - A unique Id for each passenger. Each Id takes the form gggg_pp where gggg indicates a group the passenger is travelling with and pp is their number within the group. People in a group are often family members, but not always.\n",
    "\n",
    "HomePlanet - The planet the passenger departed from, typically their planet of permanent residence.\n",
    "\n",
    "CryoSleep - Indicates whether the passenger elected to be put into suspended animation for the duration of the voyage. Passengers in cryosleep are confined to their cabins.\n",
    "\n",
    "Cabin - The cabin number where the passenger is staying. Takes the form deck/num/side, where side can be either P for Port or S for Starboard.\n",
    "\n",
    "Destination - The planet the passenger will be debarking to.\n",
    "\n",
    "Age - The age of the passenger.\n",
    "\n",
    "VIP - Whether the passenger has paid for special VIP service during the voyage.\n",
    "\n",
    "RoomService, FoodCourt, ShoppingMall, Spa, VRDeck - Amount the passenger has billed at each of the Spaceship Titanic's many luxury amenities.\n",
    "\n",
    "Name - The first and last names of the passenger.\n",
    "\n",
    "Transported - Whether the passenger was transported to another dimension. This is the target, the column you are trying to predict.\n",
    "\n",
    "### **test.csv** - Personal records for the remaining one-third (~4300) of the passengers, to be used as test data.\n",
    "\n",
    "Your task is to predict the value of Transported for the passengers in this set.\n",
    "\n",
    "### **sample_submission.csv** - A submission file in the correct format.\n",
    "\n",
    "PassengerId - Id for each passenger in the test set.\n",
    "\n",
    "Transported - The target. For each passenger, predict either True or False.\n",
    "\n",
    "\n",
    "\n",
    "### Here are the first 5 rows of the data:"
   ]
  },
  {
   "cell_type": "code",
   "execution_count": null,
   "id": "e8c81b7d",
   "metadata": {},
   "outputs": [],
   "source": []
  }
 ],
 "metadata": {
  "kernelspec": {
   "display_name": "Python 3 (ipykernel)",
   "language": "python",
   "name": "python3"
  },
  "language_info": {
   "codemirror_mode": {
    "name": "ipython",
    "version": 3
   },
   "file_extension": ".py",
   "mimetype": "text/x-python",
   "name": "python",
   "nbconvert_exporter": "python",
   "pygments_lexer": "ipython3",
   "version": "3.10.9"
  }
 },
 "nbformat": 4,
 "nbformat_minor": 5
}
