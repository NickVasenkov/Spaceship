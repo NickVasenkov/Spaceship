{
 "cells": [
  {
   "cell_type": "code",
   "execution_count": null,
   "id": "daaf4036-0ae1-43a2-90c8-0a7c66b71ef9",
   "metadata": {},
   "outputs": [],
   "source": [
    "import matplotlib.pyplot as plt\n",
    "from sklearn.decomposition import PCA\n",
    "import numpy as np\n",
    "\n",
    "pca = PCA(n_components = 10)\n",
    "\n",
    "# Fit PCA\n",
    "pca.fit(train.drop('Transported', axis=1))\n",
    "\n",
    "# Plot the explained variance ratio\n",
    "plt.plot(pca.explained_variance_ratio_)\n",
    "\n",
    "plt.xlabel('Principal component index')\n",
    "plt.ylabel('Explained variance ratio')\n",
    "plt.show()\n",
    "\n",
    "\n",
    "pca = PCA(n_components = 2)\n",
    "\n",
    "# Fit PCA\n",
    "X_train = pca.fit_transform(train.drop('Transported', axis=1))\n",
    "\n",
    "train_2D = pd.DataFrame(X_train, columns=['PC_1', 'PC_2'])\n",
    "\n",
    "train_2D = pd.concat([train_2D, train['Transported']], axis=1)\n",
    "\n",
    "\n",
    "sns.scatterplot(data = train_2D, x='PC_1', y='PC_2', hue=\"Transported\")\n",
    "\n",
    "plt.show()\n",
    "\n",
    "\n",
    "%%time\n",
    "\n",
    "for n_components in range(1, 15):\n",
    "    # Create a train set\n",
    "    pca = PCA(n_components = n_components)\n",
    "    X_train = pca.fit_transform(train.drop('Transported', axis=1))\n",
    "    train_pca = pd.DataFrame(X_train)\n",
    "    train_pca = pd.concat([train_pca, train['Transported']], axis=1)\n",
    "    \n",
    "    # Create a test set\n",
    "    X_test = pca.transform(test)\n",
    "    test_pca = pd.DataFrame(X_test)\n",
    "    \n",
    "    # test \n",
    "    get_cv_scores(train_pca, test_pca, model_for_tests, scores_df, comment= \"PC_{}\".format(n_components), verbose=True)\n",
    "\n",
    "scores_df\n",
    "    \n"
   ]
  }
 ],
 "metadata": {
  "editor": "DataCamp Workspace",
  "kernelspec": {
   "display_name": "Python 3 (ipykernel)",
   "language": "python",
   "name": "python3"
  },
  "language_info": {
   "codemirror_mode": {
    "name": "ipython",
    "version": 3
   },
   "file_extension": ".py",
   "mimetype": "text/x-python",
   "name": "python",
   "nbconvert_exporter": "python",
   "pygments_lexer": "ipython3",
   "version": "3.10.9"
  }
 },
 "nbformat": 4,
 "nbformat_minor": 5
}
