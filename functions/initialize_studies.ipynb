{
 "cells": [
  {
   "cell_type": "markdown",
   "id": "788b9ee3",
   "metadata": {},
   "source": [
    "-) Run the first cell to prepare packages\n",
    "\n",
    "-) If you need to restart any study from scratch, run a cell with your current Report chapter number. The progress of that study will be deleted.\n",
    "\n",
    "!!!ATTENTION!!! Do not run the whole initialize_studies notebook, or all the studies will be restarted (unless that is what you want). !!!ATTENTION!!!\n"
   ]
  },
  {
   "cell_type": "code",
   "execution_count": 2,
   "id": "5b038f70",
   "metadata": {},
   "outputs": [],
   "source": [
    "## RUN THIS TO IMPORT PACKAGES\n",
    "\n",
    "import optuna\n",
    "import joblib\n",
    "import pandas as pd"
   ]
  },
  {
   "cell_type": "code",
   "execution_count": 13,
   "id": "34d3759a",
   "metadata": {},
   "outputs": [
    {
     "name": "stderr",
     "output_type": "stream",
     "text": [
      "[I 2023-07-29 14:09:28,222] A new study created in memory with name: test\n"
     ]
    }
   ],
   "source": [
    "## TEST\n",
    "\n",
    "study_name = 'test'\n",
    "\n",
    "study = optuna.create_study(study_name='{}'.format(study_name), direction='maximize')\n",
    "joblib.dump(study, \"../studies/{}.pkl\".format(study_name))\n",
    "total_seconds = pd.DataFrame([0])\n",
    "total_seconds.to_csv(\"../studies/{}_seconds.csv\".format(study_name))"
   ]
  },
  {
   "cell_type": "code",
   "execution_count": 16,
   "id": "cd025084",
   "metadata": {},
   "outputs": [
    {
     "name": "stderr",
     "output_type": "stream",
     "text": [
      "[I 2023-07-29 15:16:36,015] A new study created in memory with name: 02\n"
     ]
    }
   ],
   "source": [
    "## 02\n",
    "\n",
    "study_name = '02'\n",
    "\n",
    "study = optuna.create_study(study_name='{}'.format(study_name), direction='maximize')\n",
    "joblib.dump(study, \"../studies/{}.pkl\".format(study_name))\n",
    "total_seconds = pd.DataFrame([0])\n",
    "total_seconds.to_csv(\"../studies/{}_seconds.csv\".format(study_name))"
   ]
  },
  {
   "cell_type": "code",
   "execution_count": 17,
   "id": "976cfa9c",
   "metadata": {},
   "outputs": [
    {
     "name": "stderr",
     "output_type": "stream",
     "text": [
      "[I 2023-07-29 15:55:50,836] A new study created in memory with name: 03\n"
     ]
    }
   ],
   "source": [
    "## 03\n",
    "\n",
    "study_name = '03'\n",
    "\n",
    "study = optuna.create_study(study_name='{}'.format(study_name), direction='maximize')\n",
    "joblib.dump(study, \"../studies/{}.pkl\".format(study_name))\n",
    "total_seconds = pd.DataFrame([0])\n",
    "total_seconds.to_csv(\"../studies/{}_seconds.csv\".format(study_name))"
   ]
  },
  {
   "cell_type": "code",
   "execution_count": 18,
   "id": "be0b18b6",
   "metadata": {},
   "outputs": [
    {
     "name": "stderr",
     "output_type": "stream",
     "text": [
      "[I 2023-07-29 16:29:19,385] A new study created in memory with name: 04\n"
     ]
    }
   ],
   "source": [
    "## 04\n",
    "\n",
    "study_name = '04'\n",
    "\n",
    "study = optuna.create_study(study_name='{}'.format(study_name), direction='maximize')\n",
    "joblib.dump(study, \"../studies/{}.pkl\".format(study_name))\n",
    "total_seconds = pd.DataFrame([0])\n",
    "total_seconds.to_csv(\"../studies/{}_seconds.csv\".format(study_name))"
   ]
  },
  {
   "cell_type": "code",
   "execution_count": 20,
   "id": "b731cd2a",
   "metadata": {},
   "outputs": [
    {
     "name": "stderr",
     "output_type": "stream",
     "text": [
      "[I 2023-07-29 21:36:01,894] A new study created in memory with name: 05\n"
     ]
    }
   ],
   "source": [
    "## 05\n",
    "\n",
    "study_name = '05'\n",
    "\n",
    "study = optuna.create_study(study_name='{}'.format(study_name), direction='maximize')\n",
    "joblib.dump(study, \"../studies/{}.pkl\".format(study_name))\n",
    "total_seconds = pd.DataFrame([0])\n",
    "total_seconds.to_csv(\"../studies/{}_seconds.csv\".format(study_name))"
   ]
  },
  {
   "cell_type": "code",
   "execution_count": 21,
   "id": "5fee3857",
   "metadata": {},
   "outputs": [
    {
     "name": "stderr",
     "output_type": "stream",
     "text": [
      "[I 2023-07-29 22:04:16,705] A new study created in memory with name: 05_2\n"
     ]
    }
   ],
   "source": [
    "## 05_2\n",
    "\n",
    "study_name = '05_2'\n",
    "\n",
    "study = optuna.create_study(study_name='{}'.format(study_name), direction='maximize')\n",
    "joblib.dump(study, \"../studies/{}.pkl\".format(study_name))\n",
    "total_seconds = pd.DataFrame([0])\n",
    "total_seconds.to_csv(\"../studies/{}_seconds.csv\".format(study_name))"
   ]
  },
  {
   "cell_type": "code",
   "execution_count": 14,
   "id": "6460baad",
   "metadata": {},
   "outputs": [
    {
     "name": "stderr",
     "output_type": "stream",
     "text": [
      "[I 2023-07-30 21:10:37,490] A new study created in memory with name: 08\n"
     ]
    }
   ],
   "source": [
    "## 08\n",
    "\n",
    "study_name = '08'\n",
    "\n",
    "study = optuna.create_study(study_name='{}'.format(study_name), direction='maximize')\n",
    "joblib.dump(study, \"../studies/{}.pkl\".format(study_name))\n",
    "total_seconds = pd.DataFrame([0])\n",
    "total_seconds.to_csv(\"../studies/{}_seconds.csv\".format(study_name))"
   ]
  },
  {
   "cell_type": "code",
   "execution_count": 6,
   "id": "f1820b84",
   "metadata": {},
   "outputs": [
    {
     "name": "stderr",
     "output_type": "stream",
     "text": [
      "[I 2023-07-30 15:04:36,020] A new study created in memory with name: 09\n"
     ]
    }
   ],
   "source": [
    "## 09\n",
    "\n",
    "study_name = '09'\n",
    "\n",
    "study = optuna.create_study(study_name='{}'.format(study_name), direction='maximize')\n",
    "joblib.dump(study, \"../studies/{}.pkl\".format(study_name))\n",
    "total_seconds = pd.DataFrame([0])\n",
    "total_seconds.to_csv(\"../studies/{}_seconds.csv\".format(study_name))"
   ]
  },
  {
   "cell_type": "code",
   "execution_count": 8,
   "id": "454f91e4",
   "metadata": {},
   "outputs": [
    {
     "name": "stderr",
     "output_type": "stream",
     "text": [
      "[I 2023-07-30 15:14:48,655] A new study created in memory with name: 10\n"
     ]
    }
   ],
   "source": [
    "## 10\n",
    "\n",
    "study_name = '10'\n",
    "\n",
    "study = optuna.create_study(study_name='{}'.format(study_name), direction='maximize')\n",
    "joblib.dump(study, \"../studies/{}.pkl\".format(study_name))\n",
    "total_seconds = pd.DataFrame([0])\n",
    "total_seconds.to_csv(\"../studies/{}_seconds.csv\".format(study_name))"
   ]
  },
  {
   "cell_type": "code",
   "execution_count": 12,
   "id": "c6e480f7",
   "metadata": {},
   "outputs": [
    {
     "name": "stderr",
     "output_type": "stream",
     "text": [
      "[I 2023-07-30 16:33:24,290] A new study created in memory with name: 11\n"
     ]
    }
   ],
   "source": [
    "## 11\n",
    "\n",
    "study_name = '11'\n",
    "\n",
    "study = optuna.create_study(study_name='{}'.format(study_name), direction='maximize')\n",
    "joblib.dump(study, \"../studies/{}.pkl\".format(study_name))\n",
    "total_seconds = pd.DataFrame([0])\n",
    "total_seconds.to_csv(\"../studies/{}_seconds.csv\".format(study_name))"
   ]
  },
  {
   "cell_type": "code",
   "execution_count": 13,
   "id": "d01921fd",
   "metadata": {},
   "outputs": [
    {
     "name": "stderr",
     "output_type": "stream",
     "text": [
      "[I 2023-07-30 16:43:01,039] A new study created in memory with name: 12\n"
     ]
    }
   ],
   "source": [
    "## 12\n",
    "\n",
    "study_name = '12'\n",
    "\n",
    "study = optuna.create_study(study_name='{}'.format(study_name), direction='maximize')\n",
    "joblib.dump(study, \"../studies/{}.pkl\".format(study_name))\n",
    "total_seconds = pd.DataFrame([0])\n",
    "total_seconds.to_csv(\"../studies/{}_seconds.csv\".format(study_name))"
   ]
  },
  {
   "cell_type": "code",
   "execution_count": null,
   "id": "f9188ef2",
   "metadata": {},
   "outputs": [],
   "source": []
  }
 ],
 "metadata": {
  "kernelspec": {
   "display_name": "Python 3 (ipykernel)",
   "language": "python",
   "name": "python3"
  },
  "language_info": {
   "codemirror_mode": {
    "name": "ipython",
    "version": 3
   },
   "file_extension": ".py",
   "mimetype": "text/x-python",
   "name": "python",
   "nbconvert_exporter": "python",
   "pygments_lexer": "ipython3",
   "version": "3.10.9"
  }
 },
 "nbformat": 4,
 "nbformat_minor": 5
}
