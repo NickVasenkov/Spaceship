{
 "cells": [
  {
   "cell_type": "markdown",
   "id": "d027af9c",
   "metadata": {},
   "source": [
    "-) Run the first cell to prepare packages\n",
    "\n",
    "-) If you need to restart any study from scratch, run a cell with your current Report chapter number. The progress of that study will be deleted.\n",
    "\n",
    "!!!ATTENTION!!! Do not run the whole initialize_studies notebook, or all the studies will be restarted (unless that is what you want). !!!ATTENTION!!!\n"
   ]
  },
  {
   "cell_type": "code",
   "execution_count": 6,
   "id": "11c686cd",
   "metadata": {},
   "outputs": [],
   "source": [
    "## RUN THIS TO IMPORT PACKAGES\n",
    "\n",
    "import optuna\n",
    "import joblib\n",
    "import pandas as pd"
   ]
  },
  {
   "cell_type": "code",
   "execution_count": 13,
   "id": "2a229fb3",
   "metadata": {},
   "outputs": [
    {
     "name": "stderr",
     "output_type": "stream",
     "text": [
      "[I 2023-07-29 14:09:28,222] A new study created in memory with name: test\n"
     ]
    }
   ],
   "source": [
    "## TEST\n",
    "\n",
    "study_name = 'test'\n",
    "\n",
    "study = optuna.create_study(study_name='{}'.format(study_name), direction='maximize')\n",
    "joblib.dump(study, \"../studies/{}.pkl\".format(study_name))\n",
    "total_seconds = pd.DataFrame([0])\n",
    "total_seconds.to_csv(\"../studies/{}_seconds.csv\".format(study_name))"
   ]
  },
  {
   "cell_type": "code",
   "execution_count": null,
   "id": "6d71beb7",
   "metadata": {},
   "outputs": [],
   "source": []
  },
  {
   "cell_type": "code",
   "execution_count": null,
   "id": "a1829bd9",
   "metadata": {},
   "outputs": [],
   "source": []
  }
 ],
 "metadata": {
  "kernelspec": {
   "display_name": "Python 3 (ipykernel)",
   "language": "python",
   "name": "python3"
  },
  "language_info": {
   "codemirror_mode": {
    "name": "ipython",
    "version": 3
   },
   "file_extension": ".py",
   "mimetype": "text/x-python",
   "name": "python",
   "nbconvert_exporter": "python",
   "pygments_lexer": "ipython3",
   "version": "3.10.9"
  }
 },
 "nbformat": 4,
 "nbformat_minor": 5
}
